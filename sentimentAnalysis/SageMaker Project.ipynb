{
 "cells": [
  {
   "cell_type": "markdown",
   "metadata": {},
   "source": [
    "# Creating a Sentiment Analysis Web App\n",
    "## Using PyTorch and SageMaker\n",
    "\n",
    "_Deep Learning Nanodegree Program | Deployment_\n",
    "\n",
    "---\n",
    "\n",
    "Now that we have a basic understanding of how SageMaker works we will try to use it to construct a complete project from end to end. Our goal will be to have a simple web page which a user can use to enter a movie review. The web page will then send the review off to our deployed model which will predict the sentiment of the entered review.\n",
    "\n",
    "## Instructions\n",
    "\n",
    "Some template code has already been provided for you, and you will need to implement additional functionality to successfully complete this notebook. You will not need to modify the included code beyond what is requested. Sections that begin with '**TODO**' in the header indicate that you need to complete or implement some portion within them. Instructions will be provided for each section and the specifics of the implementation are marked in the code block with a `# TODO: ...` comment. Please be sure to read the instructions carefully!\n",
    "\n",
    "In addition to implementing code, there will be questions for you to answer which relate to the task and your implementation. Each section where you will answer a question is preceded by a '**Question:**' header. Carefully read each question and provide your answer below the '**Answer:**' header by editing the Markdown cell.\n",
    "\n",
    "> **Note**: Code and Markdown cells can be executed using the **Shift+Enter** keyboard shortcut. In addition, a cell can be edited by typically clicking it (double-click for Markdown cells) or by pressing **Enter** while it is highlighted.\n",
    "\n",
    "## General Outline\n",
    "\n",
    "Recall the general outline for SageMaker projects using a notebook instance.\n",
    "\n",
    "1. Download or otherwise retrieve the data.\n",
    "2. Process / Prepare the data.\n",
    "3. Upload the processed data to S3.\n",
    "4. Train a chosen model.\n",
    "5. Test the trained model (typically using a batch transform job).\n",
    "6. Deploy the trained model.\n",
    "7. Use the deployed model.\n",
    "\n",
    "For this project, you will be following the steps in the general outline with some modifications. \n",
    "\n",
    "First, you will not be testing the model in its own step. You will still be testing the model, however, you will do it by deploying your model and then using the deployed model by sending the test data to it. One of the reasons for doing this is so that you can make sure that your deployed model is working correctly before moving forward.\n",
    "\n",
    "In addition, you will deploy and use your trained model a second time. In the second iteration you will customize the way that your trained model is deployed by including some of your own code. In addition, your newly deployed model will be used in the sentiment analysis web app."
   ]
  },
  {
   "cell_type": "markdown",
   "metadata": {},
   "source": [
    "## Step 1: Downloading the data\n",
    "\n",
    "As in the XGBoost in SageMaker notebook, we will be using the [IMDb dataset](http://ai.stanford.edu/~amaas/data/sentiment/)\n",
    "\n",
    "> Maas, Andrew L., et al. [Learning Word Vectors for Sentiment Analysis](http://ai.stanford.edu/~amaas/data/sentiment/). In _Proceedings of the 49th Annual Meeting of the Association for Computational Linguistics: Human Language Technologies_. Association for Computational Linguistics, 2011."
   ]
  },
  {
   "cell_type": "code",
   "execution_count": null,
   "metadata": {},
   "outputs": [],
   "source": [
    "%mkdir ../data\n",
    "!wget -O ../data/aclImdb_v1.tar.gz http://ai.stanford.edu/~amaas/data/sentiment/aclImdb_v1.tar.gz\n",
    "!tar -zxf ../data/aclImdb_v1.tar.gz -C ../data"
   ]
  },
  {
   "cell_type": "markdown",
   "metadata": {},
   "source": [
    "## Step 2: Preparing and Processing the data\n",
    "\n",
    "Also, as in the XGBoost notebook, we will be doing some initial data processing. The first few steps are the same as in the XGBoost example. To begin with, we will read in each of the reviews and combine them into a single input structure. Then, we will split the dataset into a training set and a testing set."
   ]
  },
  {
   "cell_type": "code",
   "execution_count": 1,
   "metadata": {},
   "outputs": [],
   "source": [
    "import os\n",
    "import glob\n",
    "\n",
    "def read_imdb_data(data_dir='../data/aclImdb'):\n",
    "    data = {}\n",
    "    labels = {}\n",
    "    \n",
    "    for data_type in ['train', 'test']:\n",
    "        data[data_type] = {}\n",
    "        labels[data_type] = {}\n",
    "        \n",
    "        for sentiment in ['pos', 'neg']:\n",
    "            data[data_type][sentiment] = []\n",
    "            labels[data_type][sentiment] = []\n",
    "            \n",
    "            path = os.path.join(data_dir, data_type, sentiment, '*.txt')\n",
    "            files = glob.glob(path)\n",
    "            \n",
    "            for f in files:\n",
    "                with open(f) as review:\n",
    "                    data[data_type][sentiment].append(review.read())\n",
    "                    # Here we represent a positive review by '1' and a negative review by '0'\n",
    "                    labels[data_type][sentiment].append(1 if sentiment == 'pos' else 0)\n",
    "                    \n",
    "            assert len(data[data_type][sentiment]) == len(labels[data_type][sentiment]), \\\n",
    "                    \"{}/{} data size does not match labels size\".format(data_type, sentiment)\n",
    "                \n",
    "    return data, labels"
   ]
  },
  {
   "cell_type": "code",
   "execution_count": 2,
   "metadata": {},
   "outputs": [
    {
     "name": "stdout",
     "output_type": "stream",
     "text": [
      "IMDB reviews: train = 12500 pos / 12500 neg, test = 12500 pos / 12500 neg\n"
     ]
    }
   ],
   "source": [
    "data, labels = read_imdb_data()\n",
    "print(\"IMDB reviews: train = {} pos / {} neg, test = {} pos / {} neg\".format(\n",
    "            len(data['train']['pos']), len(data['train']['neg']),\n",
    "            len(data['test']['pos']), len(data['test']['neg'])))"
   ]
  },
  {
   "cell_type": "markdown",
   "metadata": {},
   "source": [
    "Now that we've read the raw training and testing data from the downloaded dataset, we will combine the positive and negative reviews and shuffle the resulting records."
   ]
  },
  {
   "cell_type": "code",
   "execution_count": 3,
   "metadata": {},
   "outputs": [],
   "source": [
    "from sklearn.utils import shuffle\n",
    "\n",
    "def prepare_imdb_data(data, labels):\n",
    "    \"\"\"Prepare training and test sets from IMDb movie reviews.\"\"\"\n",
    "    \n",
    "    #Combine positive and negative reviews and labels\n",
    "    data_train = data['train']['pos'] + data['train']['neg']\n",
    "    data_test = data['test']['pos'] + data['test']['neg']\n",
    "    labels_train = labels['train']['pos'] + labels['train']['neg']\n",
    "    labels_test = labels['test']['pos'] + labels['test']['neg']\n",
    "    \n",
    "    #Shuffle reviews and corresponding labels within training and test sets\n",
    "    data_train, labels_train = shuffle(data_train, labels_train)\n",
    "    data_test, labels_test = shuffle(data_test, labels_test)\n",
    "    \n",
    "    # Return a unified training data, test data, training labels, test labets\n",
    "    return data_train, data_test, labels_train, labels_test"
   ]
  },
  {
   "cell_type": "code",
   "execution_count": 4,
   "metadata": {},
   "outputs": [
    {
     "name": "stdout",
     "output_type": "stream",
     "text": [
      "IMDb reviews (combined): train = 25000, test = 25000\n"
     ]
    }
   ],
   "source": [
    "train_X, test_X, train_y, test_y = prepare_imdb_data(data, labels)\n",
    "print(\"IMDb reviews (combined): train = {}, test = {}\".format(len(train_X), len(test_X)))"
   ]
  },
  {
   "cell_type": "markdown",
   "metadata": {},
   "source": [
    "Now that we have our training and testing sets unified and prepared, we should do a quick check and see an example of the data our model will be trained on. This is generally a good idea as it allows you to see how each of the further processing steps affects the reviews and it also ensures that the data has been loaded correctly."
   ]
  },
  {
   "cell_type": "code",
   "execution_count": 5,
   "metadata": {},
   "outputs": [
    {
     "name": "stdout",
     "output_type": "stream",
     "text": [
      "Yikes did this movie blow. The characters were weak, the plot weaker. I figured this couldn't be too bad because it has Christoper Walken, oops. He must have done this because he was bored and needed the money. The characters were supposed to be Irish but noone had an Irish accent. I am desperately trying to find something nice about this, I can't except Walken did a fine job with a wooden character. Find something to read, or watch discovery, don't ever see this movie.\n",
      "0\n"
     ]
    }
   ],
   "source": [
    "print(train_X[100])\n",
    "print(train_y[100])"
   ]
  },
  {
   "cell_type": "markdown",
   "metadata": {},
   "source": [
    "The first step in processing the reviews is to make sure that any html tags that appear should be removed. In addition we wish to tokenize our input, that way words such as *entertained* and *entertaining* are considered the same with regard to sentiment analysis."
   ]
  },
  {
   "cell_type": "code",
   "execution_count": 6,
   "metadata": {},
   "outputs": [],
   "source": [
    "import nltk\n",
    "from nltk.corpus import stopwords\n",
    "from nltk.stem.porter import *\n",
    "\n",
    "import re\n",
    "from bs4 import BeautifulSoup\n",
    "\n",
    "def review_to_words(review):\n",
    "    nltk.download(\"stopwords\", quiet=True)\n",
    "    stemmer = PorterStemmer()\n",
    "    \n",
    "    text = BeautifulSoup(review, \"html.parser\").get_text() # Remove HTML tags\n",
    "    text = re.sub(r\"[^a-zA-Z0-9]\", \" \", text.lower()) # Convert to lower case\n",
    "    words = text.split() # Split string into words\n",
    "    words = [w for w in words if w not in stopwords.words(\"english\")] # Remove stopwords\n",
    "    words = [PorterStemmer().stem(w) for w in words] # stem\n",
    "    \n",
    "    return words"
   ]
  },
  {
   "cell_type": "markdown",
   "metadata": {},
   "source": [
    "The `review_to_words` method defined above uses `BeautifulSoup` to remove any html tags that appear and uses the `nltk` package to tokenize the reviews. As a check to ensure we know how everything is working, try applying `review_to_words` to one of the reviews in the training set."
   ]
  },
  {
   "cell_type": "code",
   "execution_count": 7,
   "metadata": {},
   "outputs": [
    {
     "data": {
      "text/plain": [
       "['yike',\n",
       " 'movi',\n",
       " 'blow',\n",
       " 'charact',\n",
       " 'weak',\n",
       " 'plot',\n",
       " 'weaker',\n",
       " 'figur',\n",
       " 'bad',\n",
       " 'christop',\n",
       " 'walken',\n",
       " 'oop',\n",
       " 'must',\n",
       " 'done',\n",
       " 'bore',\n",
       " 'need',\n",
       " 'money',\n",
       " 'charact',\n",
       " 'suppos',\n",
       " 'irish',\n",
       " 'noon',\n",
       " 'irish',\n",
       " 'accent',\n",
       " 'desper',\n",
       " 'tri',\n",
       " 'find',\n",
       " 'someth',\n",
       " 'nice',\n",
       " 'except',\n",
       " 'walken',\n",
       " 'fine',\n",
       " 'job',\n",
       " 'wooden',\n",
       " 'charact',\n",
       " 'find',\n",
       " 'someth',\n",
       " 'read',\n",
       " 'watch',\n",
       " 'discoveri',\n",
       " 'ever',\n",
       " 'see',\n",
       " 'movi']"
      ]
     },
     "execution_count": 7,
     "metadata": {},
     "output_type": "execute_result"
    }
   ],
   "source": [
    "# TODO: Apply review_to_words to a review (train_X[100] or any other review)\n",
    "review =train_X[100]\n",
    "review_to_words(review)"
   ]
  },
  {
   "cell_type": "markdown",
   "metadata": {},
   "source": [
    "**Question:** Above we mentioned that `review_to_words` method removes html formatting and allows us to tokenize the words found in a review, for example, converting *entertained* and *entertaining* into *entertain* so that they are treated as though they are the same word. What else, if anything, does this method do to the input?"
   ]
  },
  {
   "cell_type": "markdown",
   "metadata": {},
   "source": [
    "**Answer:** The review_to_words method also convert input to lower case. In that the same word write in lower or capital case are matched as the same word. E.g \"Hello\" and \"HELLO\" will become \"hello\". The method remove the stops words. Like the, of, it..."
   ]
  },
  {
   "cell_type": "markdown",
   "metadata": {},
   "source": [
    "The method below applies the `review_to_words` method to each of the reviews in the training and testing datasets. In addition it caches the results. This is because performing this processing step can take a long time. This way if you are unable to complete the notebook in the current session, you can come back without needing to process the data a second time."
   ]
  },
  {
   "cell_type": "code",
   "execution_count": 8,
   "metadata": {},
   "outputs": [],
   "source": [
    "import pickle\n",
    "\n",
    "cache_dir = os.path.join(\"../cache\", \"sentiment_analysis\")  # where to store cache files\n",
    "os.makedirs(cache_dir, exist_ok=True)  # ensure cache directory exists\n",
    "\n",
    "def preprocess_data(data_train, data_test, labels_train, labels_test,\n",
    "                    cache_dir=cache_dir, cache_file=\"preprocessed_data.pkl\"):\n",
    "    \"\"\"Convert each review to words; read from cache if available.\"\"\"\n",
    "\n",
    "    # If cache_file is not None, try to read from it first\n",
    "    cache_data = None\n",
    "    if cache_file is not None:\n",
    "        try:\n",
    "            with open(os.path.join(cache_dir, cache_file), \"rb\") as f:\n",
    "                cache_data = pickle.load(f)\n",
    "            print(\"Read preprocessed data from cache file:\", cache_file)\n",
    "        except:\n",
    "            pass  # unable to read from cache, but that's okay\n",
    "    \n",
    "    # If cache is missing, then do the heavy lifting\n",
    "    if cache_data is None:\n",
    "        # Preprocess training and test data to obtain words for each review\n",
    "        #words_train = list(map(review_to_words, data_train))\n",
    "        #words_test = list(map(review_to_words, data_test))\n",
    "        words_train = [review_to_words(review) for review in data_train]\n",
    "        words_test = [review_to_words(review) for review in data_test]\n",
    "        \n",
    "        # Write to cache file for future runs\n",
    "        if cache_file is not None:\n",
    "            cache_data = dict(words_train=words_train, words_test=words_test,\n",
    "                              labels_train=labels_train, labels_test=labels_test)\n",
    "            with open(os.path.join(cache_dir, cache_file), \"wb\") as f:\n",
    "                pickle.dump(cache_data, f)\n",
    "            print(\"Wrote preprocessed data to cache file:\", cache_file)\n",
    "    else:\n",
    "        # Unpack data loaded from cache file\n",
    "        words_train, words_test, labels_train, labels_test = (cache_data['words_train'],\n",
    "                cache_data['words_test'], cache_data['labels_train'], cache_data['labels_test'])\n",
    "    \n",
    "    return words_train, words_test, labels_train, labels_test"
   ]
  },
  {
   "cell_type": "code",
   "execution_count": 9,
   "metadata": {},
   "outputs": [
    {
     "name": "stdout",
     "output_type": "stream",
     "text": [
      "Read preprocessed data from cache file: preprocessed_data.pkl\n"
     ]
    }
   ],
   "source": [
    "# Preprocess data\n",
    "train_X, test_X, train_y, test_y = preprocess_data(train_X, test_X, train_y, test_y)"
   ]
  },
  {
   "cell_type": "markdown",
   "metadata": {},
   "source": [
    "## Transform the data\n",
    "\n",
    "In the XGBoost notebook we transformed the data from its word representation to a bag-of-words feature representation. For the model we are going to construct in this notebook we will construct a feature representation which is very similar. To start, we will represent each word as an integer. Of course, some of the words that appear in the reviews occur very infrequently and so likely don't contain much information for the purposes of sentiment analysis. The way we will deal with this problem is that we will fix the size of our working vocabulary and we will only include the words that appear most frequently. We will then combine all of the infrequent words into a single category and, in our case, we will label it as `1`.\n",
    "\n",
    "Since we will be using a recurrent neural network, it will be convenient if the length of each review is the same. To do this, we will fix a size for our reviews and then pad short reviews with the category 'no word' (which we will label `0`) and truncate long reviews."
   ]
  },
  {
   "cell_type": "markdown",
   "metadata": {},
   "source": [
    "### (TODO) Create a word dictionary\n",
    "\n",
    "To begin with, we need to construct a way to map words that appear in the reviews to integers. Here we fix the size of our vocabulary (including the 'no word' and 'infrequent' categories) to be `5000` but you may wish to change this to see how it affects the model.\n",
    "\n",
    "> **TODO:** Complete the implementation for the `build_dict()` method below. Note that even though the vocab_size is set to `5000`, we only want to construct a mapping for the most frequently appearing `4998` words. This is because we want to reserve the special labels `0` for 'no word' and `1` for 'infrequent word'."
   ]
  },
  {
   "cell_type": "code",
   "execution_count": 10,
   "metadata": {},
   "outputs": [],
   "source": [
    "#train_X[:1]\n",
    "def word_counter(data):\n",
    "    #flattern all words in single list\n",
    "    flat = [words for reviews in data for words in reviews]\n",
    "    # A dict storing the words that appear in the reviews along with how often they occur\n",
    "    word_count = Counter(flat)\n",
    "    return word_count"
   ]
  },
  {
   "cell_type": "code",
   "execution_count": 11,
   "metadata": {},
   "outputs": [],
   "source": [
    "import numpy as np\n",
    "\n",
    "from collections import Counter\n",
    "def build_dict(data, vocab_size = 5000):\n",
    "    \"\"\"Construct and return a dictionary mapping each of the most frequently appearing words to a unique integer.\"\"\"\n",
    "    \n",
    "    # TODO: Determine how often each word appears in `data`. Note that `data` is a list of sentences and that a\n",
    "    #       sentence is a list of words.\n",
    "    \n",
    "    word_count =  word_counter(data)\n",
    "    \n",
    "    #Sort the words found in `data` so that sorted_words[0] is the most frequently appearing word and\n",
    "    #sorted_words[-1] is the least frequently appearing word.\n",
    "\n",
    "    #sort the counter and convert to dict\n",
    "    sorted_words = dict(word_count.most_common())\n",
    "    sorted_words = list(sorted_words.keys())\n",
    "    \n",
    "    word_dict = {} # This is what we are building, a dictionary that translates words into integers\n",
    "    for idx, word in enumerate(sorted_words[:vocab_size - 2]): # The -2 is so that we save room for the 'no word'\n",
    "        word_dict[word] = idx + 2                              # 'infrequent' labels\n",
    "        \n",
    "    return word_dict"
   ]
  },
  {
   "cell_type": "code",
   "execution_count": 12,
   "metadata": {},
   "outputs": [],
   "source": [
    "word_dict = build_dict(train_X)"
   ]
  },
  {
   "cell_type": "code",
   "execution_count": 13,
   "metadata": {},
   "outputs": [
    {
     "name": "stdout",
     "output_type": "stream",
     "text": [
      "{'movi': 2, 'film': 3, 'one': 4, 'like': 5, 'time': 6, 'good': 7, 'make': 8, 'charact': 9, 'get': 10, 'see': 11, 'watch': 12, 'stori': 13, 'even': 14, 'would': 15, 'realli': 16, 'well': 17, 'scene': 18, 'look': 19, 'show': 20, 'much': 21, 'end': 22, 'peopl': 23, 'bad': 24, 'go': 25, 'great': 26, 'also': 27, 'first': 28, 'love': 29, 'think': 30, 'way': 31, 'act': 32, 'play': 33, 'made': 34, 'thing': 35, 'could': 36, 'know': 37, 'say': 38, 'seem': 39, 'work': 40, 'plot': 41, 'two': 42, 'actor': 43, 'year': 44, 'come': 45, 'mani': 46, 'seen': 47, 'take': 48, 'want': 49, 'life': 50, 'never': 51, 'littl': 52, 'best': 53, 'tri': 54, 'man': 55, 'ever': 56, 'give': 57, 'better': 58, 'still': 59, 'perform': 60, 'find': 61, 'feel': 62, 'part': 63, 'back': 64, 'use': 65, 'someth': 66, 'director': 67, 'actual': 68, 'interest': 69, 'lot': 70, 'real': 71, 'old': 72, 'cast': 73, 'though': 74, 'live': 75, 'star': 76, 'enjoy': 77, 'guy': 78, 'anoth': 79, 'new': 80, 'role': 81, 'noth': 82, '10': 83, 'funni': 84, 'music': 85, 'point': 86, 'start': 87, 'set': 88, 'girl': 89, 'origin': 90, 'day': 91, 'world': 92, 'everi': 93, 'believ': 94, 'turn': 95, 'quit': 96, 'us': 97, 'direct': 98, 'thought': 99, 'fact': 100, 'minut': 101, 'horror': 102, 'kill': 103, 'action': 104, 'comedi': 105, 'pretti': 106, 'young': 107, 'wonder': 108, 'happen': 109, 'around': 110, 'got': 111, 'effect': 112, 'right': 113, 'long': 114, 'howev': 115, 'big': 116, 'line': 117, 'famili': 118, 'enough': 119, 'seri': 120, 'may': 121, 'need': 122, 'fan': 123, 'bit': 124, 'script': 125, 'beauti': 126, 'person': 127, 'becom': 128, 'without': 129, 'must': 130, 'alway': 131, 'friend': 132, 'tell': 133, 'reason': 134, 'saw': 135, 'last': 136, 'final': 137, 'kid': 138, 'almost': 139, 'put': 140, 'least': 141, 'sure': 142, 'done': 143, 'whole': 144, 'place': 145, 'complet': 146, 'kind': 147, 'differ': 148, 'expect': 149, 'shot': 150, 'far': 151, 'mean': 152, 'anyth': 153, 'book': 154, 'laugh': 155, 'might': 156, 'name': 157, 'sinc': 158, 'begin': 159, '2': 160, 'probabl': 161, 'woman': 162, 'help': 163, 'entertain': 164, 'let': 165, 'screen': 166, 'call': 167, 'tv': 168, 'moment': 169, 'away': 170, 'read': 171, 'yet': 172, 'rather': 173, 'worst': 174, 'run': 175, 'fun': 176, 'lead': 177, 'hard': 178, 'audienc': 179, 'idea': 180, 'anyon': 181, 'episod': 182, 'american': 183, 'found': 184, 'appear': 185, 'bore': 186, 'especi': 187, 'although': 188, 'hope': 189, 'keep': 190, 'cours': 191, 'anim': 192, 'job': 193, 'goe': 194, 'move': 195, 'sens': 196, 'dvd': 197, 'version': 198, 'war': 199, 'money': 200, 'someon': 201, 'mind': 202, 'mayb': 203, 'problem': 204, 'true': 205, 'hous': 206, 'everyth': 207, 'nice': 208, 'second': 209, 'rate': 210, 'three': 211, 'night': 212, 'follow': 213, 'face': 214, 'recommend': 215, 'product': 216, 'main': 217, 'worth': 218, 'leav': 219, 'human': 220, 'special': 221, 'excel': 222, 'togeth': 223, 'wast': 224, 'sound': 225, 'everyon': 226, 'john': 227, 'hand': 228, '1': 229, 'father': 230, 'later': 231, 'eye': 232, 'said': 233, 'view': 234, 'instead': 235, 'review': 236, 'boy': 237, 'high': 238, 'hour': 239, 'miss': 240, 'classic': 241, 'talk': 242, 'wife': 243, 'understand': 244, 'left': 245, 'care': 246, 'black': 247, 'death': 248, 'open': 249, 'murder': 250, 'write': 251, 'half': 252, 'head': 253, 'rememb': 254, 'chang': 255, 'viewer': 256, 'fight': 257, 'gener': 258, 'surpris': 259, 'includ': 260, 'short': 261, 'die': 262, 'fall': 263, 'less': 264, 'els': 265, 'entir': 266, 'piec': 267, 'involv': 268, 'pictur': 269, 'simpli': 270, 'home': 271, 'power': 272, 'top': 273, 'total': 274, 'usual': 275, 'budget': 276, 'attempt': 277, 'suppos': 278, 'releas': 279, 'hollywood': 280, 'terribl': 281, 'song': 282, 'men': 283, 'possibl': 284, 'featur': 285, 'portray': 286, 'disappoint': 287, '3': 288, 'poor': 289, 'coupl': 290, 'stupid': 291, 'camera': 292, 'dead': 293, 'wrong': 294, 'produc': 295, 'low': 296, 'either': 297, 'video': 298, 'aw': 299, 'definit': 300, 'except': 301, 'rest': 302, 'given': 303, 'absolut': 304, 'women': 305, 'lack': 306, 'word': 307, 'writer': 308, 'titl': 309, 'talent': 310, 'decid': 311, 'full': 312, 'perfect': 313, 'along': 314, 'style': 315, 'close': 316, 'truli': 317, 'school': 318, 'save': 319, 'emot': 320, 'age': 321, 'sex': 322, 'next': 323, 'bring': 324, 'mr': 325, 'case': 326, 'killer': 327, 'heart': 328, 'comment': 329, 'sort': 330, 'creat': 331, 'perhap': 332, 'came': 333, 'brother': 334, 'sever': 335, 'joke': 336, 'art': 337, 'dialogu': 338, 'game': 339, 'small': 340, 'base': 341, 'flick': 342, 'written': 343, 'sequenc': 344, 'meet': 345, 'earli': 346, 'often': 347, 'other': 348, 'mother': 349, 'develop': 350, 'humor': 351, 'actress': 352, 'consid': 353, 'dark': 354, 'guess': 355, 'amaz': 356, 'unfortun': 357, 'lost': 358, 'light': 359, 'exampl': 360, 'cinema': 361, 'drama': 362, 'ye': 363, 'white': 364, 'experi': 365, 'imagin': 366, 'mention': 367, 'stop': 368, 'natur': 369, 'forc': 370, 'manag': 371, 'felt': 372, 'present': 373, 'cut': 374, 'children': 375, 'fail': 376, 'son': 377, 'support': 378, 'qualiti': 379, 'car': 380, 'ask': 381, 'hit': 382, 'side': 383, 'voic': 384, 'extrem': 385, 'impress': 386, 'evil': 387, 'wors': 388, 'went': 389, 'stand': 390, 'certainli': 391, 'basic': 392, 'oh': 393, 'overal': 394, 'favorit': 395, 'horribl': 396, 'mysteri': 397, 'number': 398, 'type': 399, 'danc': 400, 'wait': 401, 'hero': 402, 'alreadi': 403, '5': 404, 'learn': 405, 'matter': 406, '4': 407, 'michael': 408, 'genr': 409, 'fine': 410, 'despit': 411, 'throughout': 412, 'walk': 413, 'success': 414, 'histori': 415, 'question': 416, 'zombi': 417, 'town': 418, 'realiz': 419, 'relationship': 420, 'past': 421, 'child': 422, 'daughter': 423, 'late': 424, 'b': 425, 'wish': 426, 'hate': 427, 'credit': 428, 'event': 429, 'theme': 430, 'touch': 431, 'citi': 432, 'today': 433, 'sometim': 434, 'behind': 435, 'god': 436, 'twist': 437, 'sit': 438, 'deal': 439, 'annoy': 440, 'stay': 441, 'abl': 442, 'rent': 443, 'pleas': 444, 'edit': 445, 'blood': 446, 'deserv': 447, 'anyway': 448, 'comic': 449, 'appar': 450, 'soon': 451, 'gave': 452, 'etc': 453, 'level': 454, 'slow': 455, 'chanc': 456, 'score': 457, 'bodi': 458, 'brilliant': 459, 'incred': 460, 'figur': 461, 'situat': 462, 'self': 463, 'major': 464, 'stuff': 465, 'decent': 466, 'element': 467, 'return': 468, 'dream': 469, 'obvious': 470, 'continu': 471, 'order': 472, 'pace': 473, 'ridicul': 474, 'happi': 475, 'add': 476, 'group': 477, 'highli': 478, 'thank': 479, 'ladi': 480, 'novel': 481, 'speak': 482, 'pain': 483, 'career': 484, 'shoot': 485, 'strang': 486, 'heard': 487, 'sad': 488, 'polic': 489, 'husband': 490, 'import': 491, 'break': 492, 'took': 493, 'strong': 494, 'cannot': 495, 'predict': 496, 'robert': 497, 'violenc': 498, 'hilari': 499, 'recent': 500, 'countri': 501, 'known': 502, 'particularli': 503, 'pick': 504, 'documentari': 505, 'season': 506, 'critic': 507, 'jame': 508, 'compar': 509, 'alon': 510, 'obviou': 511, 'told': 512, 'state': 513, 'rock': 514, 'visual': 515, 'theater': 516, 'exist': 517, 'offer': 518, 'opinion': 519, 'gore': 520, 'crap': 521, 'hold': 522, 'result': 523, 'room': 524, 'hear': 525, 'realiti': 526, 'effort': 527, 'clich': 528, 'thriller': 529, 'caus': 530, 'sequel': 531, 'explain': 532, 'serious': 533, 'king': 534, 'local': 535, 'ago': 536, 'none': 537, 'hell': 538, 'note': 539, 'allow': 540, 'david': 541, 'sister': 542, 'simpl': 543, 'femal': 544, 'deliv': 545, 'ok': 546, 'convinc': 547, 'class': 548, 'check': 549, 'suspens': 550, 'win': 551, 'oscar': 552, 'buy': 553, 'huge': 554, 'valu': 555, 'sexual': 556, 'scari': 557, 'cool': 558, 'excit': 559, 'similar': 560, 'exactli': 561, 'provid': 562, 'apart': 563, 'avoid': 564, 'shown': 565, 'seriou': 566, 'english': 567, 'whose': 568, 'taken': 569, 'cinematographi': 570, 'shock': 571, 'polit': 572, 'spoiler': 573, 'offic': 574, 'across': 575, 'middl': 576, 'street': 577, 'pass': 578, 'messag': 579, 'somewhat': 580, 'charm': 581, 'silli': 582, 'modern': 583, 'filmmak': 584, 'confus': 585, 'form': 586, 'tale': 587, 'singl': 588, 'jack': 589, 'mostli': 590, 'attent': 591, 'carri': 592, 'william': 593, 'sing': 594, 'subject': 595, 'five': 596, 'richard': 597, 'prove': 598, 'team': 599, 'stage': 600, 'unlik': 601, 'cop': 602, 'georg': 603, 'monster': 604, 'televis': 605, 'earth': 606, 'villain': 607, 'cover': 608, 'pay': 609, 'marri': 610, 'toward': 611, 'build': 612, 'parent': 613, 'pull': 614, 'due': 615, 'fill': 616, 'respect': 617, 'four': 618, 'dialog': 619, 'remind': 620, 'futur': 621, 'typic': 622, 'weak': 623, '7': 624, 'cheap': 625, 'intellig': 626, 'atmospher': 627, 'british': 628, 'clearli': 629, '80': 630, 'dog': 631, 'paul': 632, 'non': 633, 'fast': 634, '8': 635, 'knew': 636, 'artist': 637, 'crime': 638, 'easili': 639, 'escap': 640, 'adult': 641, 'doubt': 642, 'detail': 643, 'date': 644, 'member': 645, 'fire': 646, 'romant': 647, 'gun': 648, 'drive': 649, 'straight': 650, 'beyond': 651, 'fit': 652, 'attack': 653, 'imag': 654, 'upon': 655, 'posit': 656, 'whether': 657, 'fantast': 658, 'peter': 659, 'captur': 660, 'aspect': 661, 'appreci': 662, 'ten': 663, 'plan': 664, 'discov': 665, 'remain': 666, 'period': 667, 'near': 668, 'air': 669, 'realist': 670, 'mark': 671, 'red': 672, 'dull': 673, 'adapt': 674, 'within': 675, 'lose': 676, 'spend': 677, 'color': 678, 'materi': 679, 'chase': 680, 'mari': 681, 'storylin': 682, 'forget': 683, 'bunch': 684, 'clear': 685, 'lee': 686, 'victim': 687, 'nearli': 688, 'box': 689, 'york': 690, 'match': 691, 'inspir': 692, 'finish': 693, 'mess': 694, 'standard': 695, 'easi': 696, 'truth': 697, 'busi': 698, 'suffer': 699, 'dramat': 700, 'bill': 701, 'space': 702, 'western': 703, 'e': 704, 'list': 705, 'battl': 706, 'notic': 707, 'de': 708, 'french': 709, 'ad': 710, '9': 711, 'tom': 712, 'larg': 713, 'among': 714, 'eventu': 715, 'train': 716, 'accept': 717, 'agre': 718, 'spirit': 719, 'soundtrack': 720, 'third': 721, 'teenag': 722, 'adventur': 723, 'soldier': 724, 'drug': 725, 'famou': 726, 'sorri': 727, 'suggest': 728, 'normal': 729, 'cri': 730, 'babi': 731, 'ultim': 732, 'troubl': 733, 'contain': 734, 'certain': 735, 'cultur': 736, 'romanc': 737, 'rare': 738, 'lame': 739, 'somehow': 740, 'disney': 741, 'mix': 742, 'gone': 743, 'cartoon': 744, 'student': 745, 'fear': 746, 'reveal': 747, 'suck': 748, 'kept': 749, 'attract': 750, 'appeal': 751, 'premis': 752, 'secret': 753, 'design': 754, 'greatest': 755, 'shame': 756, 'throw': 757, 'scare': 758, 'copi': 759, 'wit': 760, 'america': 761, 'admit': 762, 'relat': 763, 'brought': 764, 'particular': 765, 'screenplay': 766, 'whatev': 767, 'pure': 768, '70': 769, 'averag': 770, 'harri': 771, 'master': 772, 'describ': 773, 'male': 774, 'treat': 775, '20': 776, 'issu': 777, 'fantasi': 778, 'warn': 779, 'inde': 780, 'background': 781, 'forward': 782, 'free': 783, 'project': 784, 'memor': 785, 'japanes': 786, 'poorli': 787, 'award': 788, 'locat': 789, 'amus': 790, 'potenti': 791, 'struggl': 792, 'magic': 793, 'weird': 794, 'societi': 795, 'okay': 796, 'imdb': 797, 'doctor': 798, 'accent': 799, 'water': 800, 'hot': 801, '30': 802, 'dr': 803, 'express': 804, 'alien': 805, 'odd': 806, 'choic': 807, 'crazi': 808, 'studio': 809, 'fiction': 810, 'becam': 811, 'control': 812, 'masterpiec': 813, 'difficult': 814, 'fli': 815, 'joe': 816, 'scream': 817, 'costum': 818, 'lover': 819, 'uniqu': 820, 'refer': 821, 'remak': 822, 'girlfriend': 823, 'vampir': 824, 'prison': 825, 'execut': 826, 'wear': 827, 'jump': 828, 'unless': 829, 'wood': 830, 'creepi': 831, 'cheesi': 832, 'superb': 833, 'otherwis': 834, 'parti': 835, 'roll': 836, 'ghost': 837, 'mad': 838, 'public': 839, 'depict': 840, 'week': 841, 'jane': 842, 'moral': 843, 'badli': 844, 'earlier': 845, 'dumb': 846, 'fi': 847, 'flaw': 848, 'grow': 849, 'deep': 850, 'sci': 851, 'cat': 852, 'maker': 853, 'connect': 854, 'footag': 855, 'older': 856, 'bother': 857, 'plenti': 858, 'outsid': 859, 'stick': 860, 'gay': 861, 'catch': 862, 'plu': 863, 'co': 864, 'popular': 865, 'equal': 866, 'social': 867, 'disturb': 868, 'quickli': 869, 'perfectli': 870, 'dress': 871, '90': 872, 'era': 873, 'mistak': 874, 'lie': 875, 'ride': 876, 'previou': 877, 'combin': 878, 'concept': 879, 'band': 880, 'rich': 881, 'surviv': 882, 'answer': 883, 'front': 884, 'sweet': 885, 'christma': 886, 'insid': 887, 'concern': 888, 'bare': 889, 'eat': 890, 'listen': 891, 'beat': 892, 'ben': 893, 'c': 894, 'term': 895, 'serv': 896, 'meant': 897, 'la': 898, 'german': 899, 'stereotyp': 900, 'hardli': 901, 'innoc': 902, 'law': 903, 'desper': 904, 'memori': 905, 'promis': 906, 'cute': 907, 'intent': 908, 'inform': 909, 'variou': 910, 'steal': 911, 'brain': 912, 'post': 913, 'tone': 914, 'island': 915, 'amount': 916, 'track': 917, 'nuditi': 918, 'compani': 919, 'claim': 920, 'store': 921, 'hair': 922, 'flat': 923, '50': 924, 'univers': 925, 'land': 926, 'danger': 927, 'kick': 928, 'scott': 929, 'fairli': 930, 'player': 931, 'crew': 932, 'plain': 933, 'step': 934, 'toni': 935, 'share': 936, 'centuri': 937, 'tast': 938, 'engag': 939, 'achiev': 940, 'travel': 941, 'cold': 942, 'record': 943, 'rip': 944, 'suit': 945, 'manner': 946, 'sadli': 947, 'wrote': 948, 'spot': 949, 'tension': 950, 'intens': 951, 'fascin': 952, 'familiar': 953, 'burn': 954, 'remark': 955, 'depth': 956, 'destroy': 957, 'histor': 958, 'sleep': 959, 'purpos': 960, 'languag': 961, 'ruin': 962, 'ignor': 963, 'delight': 964, 'italian': 965, 'unbeliev': 966, 'soul': 967, 'collect': 968, 'abil': 969, 'detect': 970, 'clever': 971, 'violent': 972, 'rape': 973, 'reach': 974, 'door': 975, 'liter': 976, 'trash': 977, 'scienc': 978, 'caught': 979, 'commun': 980, 'reveng': 981, 'creatur': 982, 'trip': 983, 'approach': 984, 'fashion': 985, 'intrigu': 986, 'introduc': 987, 'skill': 988, 'paint': 989, 'channel': 990, 'complex': 991, 'camp': 992, 'christian': 993, 'extra': 994, 'hole': 995, 'limit': 996, 'immedi': 997, 'mental': 998, 'ann': 999, '6': 1000, 'mere': 1001, 'comput': 1002, 'million': 1003, 'slightli': 1004, 'conclus': 1005, 'slasher': 1006, 'suddenli': 1007, 'imposs': 1008, 'crimin': 1009, 'neither': 1010, 'teen': 1011, 'spent': 1012, 'nation': 1013, 'physic': 1014, 'respons': 1015, 'planet': 1016, 'fake': 1017, 'receiv': 1018, 'sick': 1019, 'blue': 1020, 'bizarr': 1021, 'embarrass': 1022, 'indian': 1023, '15': 1024, 'ring': 1025, 'pop': 1026, 'drop': 1027, 'drag': 1028, 'haunt': 1029, 'suspect': 1030, 'pointless': 1031, 'search': 1032, 'edg': 1033, 'handl': 1034, 'common': 1035, 'biggest': 1036, 'arriv': 1037, 'hurt': 1038, 'faith': 1039, 'technic': 1040, 'angel': 1041, 'dad': 1042, 'genuin': 1043, 'awesom': 1044, 'solid': 1045, 'f': 1046, 'former': 1047, 'colleg': 1048, 'focu': 1049, 'van': 1050, 'count': 1051, 'heavi': 1052, 'tear': 1053, 'rais': 1054, 'wall': 1055, 'younger': 1056, 'visit': 1057, 'laughabl': 1058, 'fair': 1059, 'sign': 1060, 'excus': 1061, 'cult': 1062, 'motion': 1063, 'key': 1064, 'tough': 1065, 'super': 1066, 'desir': 1067, 'addit': 1068, 'stun': 1069, 'cloth': 1070, 'exploit': 1071, 'tortur': 1072, 'smith': 1073, 'race': 1074, 'davi': 1075, 'author': 1076, 'cross': 1077, 'jim': 1078, 'compel': 1079, 'focus': 1080, 'consist': 1081, 'minor': 1082, 'commit': 1083, 'chemistri': 1084, 'pathet': 1085, 'park': 1086, 'tradit': 1087, 'obsess': 1088, 'frank': 1089, 'grade': 1090, '60': 1091, 'asid': 1092, 'brutal': 1093, 'somewher': 1094, 'steve': 1095, 'explor': 1096, 'rule': 1097, 'grant': 1098, 'opportun': 1099, 'depress': 1100, 'u': 1101, 'besid': 1102, 'honest': 1103, 'dub': 1104, 'anti': 1105, 'intend': 1106, 'trailer': 1107, 'bar': 1108, 'longer': 1109, 'west': 1110, 'regard': 1111, 'scientist': 1112, 'judg': 1113, 'decad': 1114, 'silent': 1115, 'creativ': 1116, 'armi': 1117, 'wild': 1118, 'g': 1119, 'stewart': 1120, 'south': 1121, 'draw': 1122, 'road': 1123, 'govern': 1124, 'ex': 1125, 'boss': 1126, 'practic': 1127, 'festiv': 1128, 'motiv': 1129, 'surprisingli': 1130, 'club': 1131, 'gang': 1132, 'page': 1133, 'london': 1134, 'redeem': 1135, 'green': 1136, 'machin': 1137, 'display': 1138, 'idiot': 1139, 'militari': 1140, 'aliv': 1141, 'thrill': 1142, 'repeat': 1143, 'nobodi': 1144, 'yeah': 1145, '100': 1146, 'folk': 1147, '40': 1148, 'garbag': 1149, 'journey': 1150, 'ground': 1151, 'tire': 1152, 'smile': 1153, 'mood': 1154, 'bought': 1155, 'cost': 1156, 'stone': 1157, 'sam': 1158, 'mouth': 1159, 'noir': 1160, 'terrif': 1161, 'agent': 1162, 'requir': 1163, 'utterli': 1164, 'honestli': 1165, 'sexi': 1166, 'area': 1167, 'geniu': 1168, 'report': 1169, 'investig': 1170, 'enter': 1171, 'humour': 1172, 'glad': 1173, 'serial': 1174, 'occasion': 1175, 'narr': 1176, 'passion': 1177, 'marriag': 1178, 'climax': 1179, 'studi': 1180, 'industri': 1181, 'nowher': 1182, 'center': 1183, 'ship': 1184, 'demon': 1185, 'charli': 1186, 'loos': 1187, 'bear': 1188, 'hors': 1189, 'hang': 1190, 'wow': 1191, 'graphic': 1192, 'giant': 1193, 'admir': 1194, 'send': 1195, 'loud': 1196, 'damn': 1197, 'profession': 1198, 'subtl': 1199, 'nake': 1200, 'rel': 1201, 'blow': 1202, 'bottom': 1203, 'insult': 1204, 'batman': 1205, 'boyfriend': 1206, 'kelli': 1207, 'doubl': 1208, 'r': 1209, 'initi': 1210, 'frame': 1211, 'gem': 1212, 'opera': 1213, 'drawn': 1214, 'challeng': 1215, 'cinemat': 1216, 'affect': 1217, 'church': 1218, 'nightmar': 1219, 'fulli': 1220, 'l': 1221, 'j': 1222, 'evid': 1223, 'seek': 1224, 'essenti': 1225, 'arm': 1226, 'conflict': 1227, 'wind': 1228, 'christoph': 1229, 'henri': 1230, 'grace': 1231, 'assum': 1232, 'narrat': 1233, 'witch': 1234, 'hunt': 1235, 'push': 1236, 'wise': 1237, 'chri': 1238, 'nomin': 1239, 'month': 1240, 'repres': 1241, 'hide': 1242, 'sceneri': 1243, 'avail': 1244, 'affair': 1245, 'bond': 1246, 'smart': 1247, 'justic': 1248, 'thu': 1249, 'interview': 1250, 'outstand': 1251, 'flashback': 1252, 'presenc': 1253, 'constantli': 1254, 'satisfi': 1255, 'central': 1256, 'bed': 1257, 'iron': 1258, 'content': 1259, 'sell': 1260, 'everybodi': 1261, 'gag': 1262, 'slowli': 1263, 'hotel': 1264, 'hire': 1265, 'system': 1266, 'adam': 1267, 'thrown': 1268, 'individu': 1269, 'hey': 1270, 'charl': 1271, 'jone': 1272, 'allen': 1273, 'mediocr': 1274, 'lesson': 1275, 'ray': 1276, 'billi': 1277, 'photographi': 1278, 'cameo': 1279, 'fellow': 1280, 'pari': 1281, 'strike': 1282, 'independ': 1283, 'rise': 1284, 'brief': 1285, 'absurd': 1286, 'neg': 1287, 'impact': 1288, 'phone': 1289, 'born': 1290, 'model': 1291, 'ill': 1292, 'angl': 1293, 'fresh': 1294, 'spoil': 1295, 'likabl': 1296, 'abus': 1297, 'hill': 1298, 'discuss': 1299, 'sight': 1300, 'ahead': 1301, 'photograph': 1302, 'sent': 1303, 'shine': 1304, 'blame': 1305, 'occur': 1306, 'logic': 1307, 'bruce': 1308, 'mainli': 1309, 'forev': 1310, 'commerci': 1311, 'skip': 1312, 'surround': 1313, 'held': 1314, 'teacher': 1315, 'segment': 1316, 'zero': 1317, 'blond': 1318, 'resembl': 1319, 'trap': 1320, 'satir': 1321, 'summer': 1322, 'fool': 1323, 'six': 1324, 'queen': 1325, 'ball': 1326, 'twice': 1327, 'tragedi': 1328, 'sub': 1329, 'pack': 1330, 'reaction': 1331, 'bomb': 1332, 'protagonist': 1333, 'will': 1334, 'hospit': 1335, 'mile': 1336, 'sport': 1337, 'trust': 1338, 'drink': 1339, 'vote': 1340, 'mom': 1341, 'jerri': 1342, 'encount': 1343, 'plane': 1344, 'station': 1345, 'current': 1346, 'program': 1347, 'al': 1348, 'martin': 1349, 'celebr': 1350, 'choos': 1351, 'join': 1352, 'field': 1353, 'tragic': 1354, 'favourit': 1355, 'round': 1356, 'lord': 1357, 'jean': 1358, 'robot': 1359, 'vision': 1360, 'tie': 1361, 'arthur': 1362, 'random': 1363, 'fortun': 1364, 'roger': 1365, 'intern': 1366, 'psycholog': 1367, 'dread': 1368, 'nonsens': 1369, 'epic': 1370, 'prefer': 1371, 'improv': 1372, 'formula': 1373, 'legend': 1374, 'pleasur': 1375, 'highlight': 1376, 'dollar': 1377, 'tape': 1378, '11': 1379, 'gorgeou': 1380, 'porn': 1381, 'thin': 1382, 'wide': 1383, 'object': 1384, 'fox': 1385, 'ugli': 1386, 'buddi': 1387, 'influenc': 1388, 'prepar': 1389, 'ii': 1390, 'nasti': 1391, 'reflect': 1392, 'supposedli': 1393, 'warm': 1394, 'progress': 1395, 'youth': 1396, 'worthi': 1397, 'length': 1398, 'latter': 1399, 'unusu': 1400, 'crash': 1401, 'shop': 1402, 'superior': 1403, 'childhood': 1404, 'seven': 1405, 'remot': 1406, 'theatr': 1407, 'disgust': 1408, 'funniest': 1409, 'paid': 1410, 'pilot': 1411, 'convers': 1412, 'castl': 1413, 'trick': 1414, 'fell': 1415, 'establish': 1416, 'rob': 1417, 'disast': 1418, 'gangster': 1419, 'disappear': 1420, 'suicid': 1421, 'ident': 1422, 'mine': 1423, 'heaven': 1424, 'decis': 1425, 'mask': 1426, 'singer': 1427, 'forgotten': 1428, 'heroin': 1429, 'tend': 1430, 'partner': 1431, 'brian': 1432, 'recogn': 1433, 'desert': 1434, 'alan': 1435, 'stuck': 1436, 'p': 1437, 'thoroughli': 1438, 'ms': 1439, 'sky': 1440, 'accur': 1441, 'replac': 1442, 'market': 1443, 'clue': 1444, 'commentari': 1445, 'seemingli': 1446, 'uncl': 1447, 'danni': 1448, 'andi': 1449, 'eddi': 1450, 'devil': 1451, 'jackson': 1452, 'that': 1453, 'therefor': 1454, 'pair': 1455, 'refus': 1456, 'ed': 1457, 'accid': 1458, 'unit': 1459, 'fate': 1460, 'fault': 1461, 'river': 1462, 'afraid': 1463, 'tune': 1464, 'stephen': 1465, 'russian': 1466, 'clean': 1467, 'hidden': 1468, 'readi': 1469, 'irrit': 1470, 'convey': 1471, 'captain': 1472, 'test': 1473, 'quick': 1474, 'instanc': 1475, 'european': 1476, 'insan': 1477, 'frustrat': 1478, 'daniel': 1479, 'rescu': 1480, 'chines': 1481, 'food': 1482, 'wed': 1483, '1950': 1484, 'lock': 1485, 'angri': 1486, 'dirti': 1487, 'joy': 1488, 'price': 1489, 'steven': 1490, 'bland': 1491, 'cage': 1492, 'rang': 1493, 'anymor': 1494, 'wooden': 1495, 'jason': 1496, 'news': 1497, 'n': 1498, 'rush': 1499, 'led': 1500, 'twenti': 1501, 'martial': 1502, '12': 1503, 'board': 1504, 'worri': 1505, 'symbol': 1506, 'hunter': 1507, 'cgi': 1508, 'transform': 1509, 'invent': 1510, 'onto': 1511, 'x': 1512, 'piti': 1513, 'johnni': 1514, 'sentiment': 1515, 'attitud': 1516, 'explan': 1517, 'process': 1518, 'owner': 1519, 'awar': 1520, 'aim': 1521, 'favor': 1522, 'energi': 1523, 'floor': 1524, 'target': 1525, 'necessari': 1526, 'opposit': 1527, 'religi': 1528, 'blind': 1529, 'insight': 1530, 'chick': 1531, 'window': 1532, 'movement': 1533, 'possess': 1534, 'research': 1535, 'comparison': 1536, 'deepli': 1537, 'mountain': 1538, 'grand': 1539, 'whatsoev': 1540, 'rain': 1541, 'comed': 1542, 'began': 1543, 'bank': 1544, 'shadow': 1545, 'mid': 1546, 'princ': 1547, 'parodi': 1548, 'pre': 1549, 'taylor': 1550, 'credibl': 1551, 'weapon': 1552, 'friendship': 1553, 'dougla': 1554, 'flesh': 1555, 'teach': 1556, 'hint': 1557, 'terror': 1558, 'bloodi': 1559, 'protect': 1560, 'marvel': 1561, 'load': 1562, 'anybodi': 1563, 'accord': 1564, 'leader': 1565, 'watchabl': 1566, 'drunk': 1567, 'superman': 1568, 'brown': 1569, 'freddi': 1570, 'hitler': 1571, 'appropri': 1572, 'tim': 1573, 'seat': 1574, 'jeff': 1575, 'knock': 1576, 'charg': 1577, 'unknown': 1578, 'villag': 1579, 'keaton': 1580, 'england': 1581, 'enemi': 1582, 'unnecessari': 1583, 'media': 1584, 'empti': 1585, 'perspect': 1586, 'dare': 1587, 'wave': 1588, 'strength': 1589, 'craft': 1590, 'buck': 1591, 'utter': 1592, 'kiss': 1593, 'ford': 1594, 'correct': 1595, 'contrast': 1596, 'nativ': 1597, 'nazi': 1598, 'distract': 1599, 'speed': 1600, 'magnific': 1601, 'anywher': 1602, 'soap': 1603, 'knowledg': 1604, 'chill': 1605, '1980': 1606, 'breath': 1607, 'fred': 1608, 'ice': 1609, 'mission': 1610, 'crowd': 1611, 'moon': 1612, 'jr': 1613, 'joan': 1614, 'kate': 1615, 'frighten': 1616, 'soft': 1617, '000': 1618, 'nick': 1619, 'dan': 1620, 'dick': 1621, 'hundr': 1622, 'simon': 1623, 'radio': 1624, 'dozen': 1625, 'somebodi': 1626, 'loss': 1627, 'thousand': 1628, 'andrew': 1629, 'academi': 1630, 'shakespear': 1631, 'root': 1632, 'quot': 1633, 'account': 1634, 'sum': 1635, 'vehicl': 1636, 'convent': 1637, 'behavior': 1638, 'leg': 1639, '1970': 1640, 'regular': 1641, 'gold': 1642, 'pretenti': 1643, 'compet': 1644, 'demand': 1645, 'worker': 1646, 'privat': 1647, 'candi': 1648, 'japan': 1649, 'explos': 1650, 'interpret': 1651, 'lynch': 1652, 'stretch': 1653, 'notabl': 1654, 'tarzan': 1655, 'debut': 1656, 'constant': 1657, 'prais': 1658, 'sea': 1659, 'translat': 1660, 'revolv': 1661, 'spi': 1662, 'quiet': 1663, 'ass': 1664, 'sat': 1665, 'jesu': 1666, 'technolog': 1667, 'franc': 1668, 'threaten': 1669, 'failur': 1670, 'kevin': 1671, 'punch': 1672, 'met': 1673, 'aid': 1674, 'toy': 1675, 'higher': 1676, 'interact': 1677, 'vh': 1678, 'abandon': 1679, 'mike': 1680, 'confront': 1681, 'command': 1682, 'bet': 1683, 'separ': 1684, 'gotten': 1685, 'techniqu': 1686, 'servic': 1687, 'belong': 1688, 'recal': 1689, 'site': 1690, 'stunt': 1691, 'foot': 1692, 'freak': 1693, 'bug': 1694, 'cabl': 1695, 'capabl': 1696, 'fu': 1697, 'african': 1698, 'bright': 1699, 'jimmi': 1700, 'boat': 1701, 'fat': 1702, 'stock': 1703, 'presid': 1704, 'succeed': 1705, 'clark': 1706, 'gene': 1707, 'structur': 1708, 'spanish': 1709, 'paper': 1710, 'kidnap': 1711, 'belief': 1712, 'whilst': 1713, 'factor': 1714, 'tree': 1715, 'witti': 1716, 'complic': 1717, 'attend': 1718, 'realism': 1719, 'realis': 1720, 'educ': 1721, 'bob': 1722, 'broken': 1723, 'assist': 1724, 'finest': 1725, 'santa': 1726, 'depart': 1727, 'smoke': 1728, 'determin': 1729, 'observ': 1730, 'up': 1731, 'v': 1732, 'routin': 1733, 'lewi': 1734, 'oper': 1735, 'fame': 1736, 'domin': 1737, 'rubbish': 1738, 'hat': 1739, 'lone': 1740, 'advanc': 1741, 'hook': 1742, 'morgan': 1743, 'kinda': 1744, 'foreign': 1745, 'safe': 1746, 'numer': 1747, 'rank': 1748, 'shallow': 1749, 'civil': 1750, 'werewolf': 1751, 'washington': 1752, 'shape': 1753, 'rose': 1754, 'vs': 1755, 'gari': 1756, 'morn': 1757, 'ordinari': 1758, 'accomplish': 1759, 'winner': 1760, 'kong': 1761, 'peac': 1762, 'virtual': 1763, 'grab': 1764, 'whenev': 1765, 'h': 1766, 'luck': 1767, 'offens': 1768, 'patient': 1769, 'activ': 1770, 'bigger': 1771, 'unfunni': 1772, 'contriv': 1773, 'welcom': 1774, 'complain': 1775, 'con': 1776, 'pretend': 1777, 'trek': 1778, 'dimension': 1779, 'eric': 1780, 'cain': 1781, 'lesbian': 1782, 'dri': 1783, 'code': 1784, 'wake': 1785, 'flash': 1786, 'manipul': 1787, 'dancer': 1788, 'guard': 1789, 'statu': 1790, 'albert': 1791, 'corrupt': 1792, 'signific': 1793, 'sourc': 1794, 'context': 1795, 'awkward': 1796, 'speech': 1797, 'gain': 1798, 'psycho': 1799, 'sean': 1800, 'corni': 1801, '13': 1802, 'clip': 1803, 'anthoni': 1804, 'advic': 1805, 'priest': 1806, 'religion': 1807, 'curiou': 1808, 'reli': 1809, 'w': 1810, 'theatric': 1811, 'addict': 1812, 'flow': 1813, 'skin': 1814, 'specif': 1815, 'asian': 1816, 'howard': 1817, 'jennif': 1818, 'secur': 1819, 'promot': 1820, 'golden': 1821, 'core': 1822, 'comfort': 1823, 'organ': 1824, 'luke': 1825, 'cheat': 1826, 'cash': 1827, 'lucki': 1828, 'associ': 1829, 'lower': 1830, 'dislik': 1831, 'devic': 1832, 'regret': 1833, 'wing': 1834, 'contribut': 1835, 'balanc': 1836, 'degre': 1837, 'spell': 1838, 'frankli': 1839, 'frequent': 1840, 'sake': 1841, 'forgiv': 1842, 'lake': 1843, 'print': 1844, 'thoma': 1845, 'mass': 1846, 'betti': 1847, 'gordon': 1848, 'crack': 1849, 'unexpect': 1850, 'depend': 1851, 'categori': 1852, 'amateur': 1853, 'construct': 1854, 'unfold': 1855, 'grown': 1856, 'invit': 1857, 'intellectu': 1858, 'condit': 1859, 'honor': 1860, 'matur': 1861, 'grew': 1862, 'anna': 1863, 'walter': 1864, 'veteran': 1865, 'mirror': 1866, 'spectacular': 1867, 'sudden': 1868, 'sole': 1869, 'card': 1870, 'liner': 1871, 'meanwhil': 1872, 'freedom': 1873, 'robin': 1874, 'gift': 1875, 'demonstr': 1876, 'grip': 1877, 'overli': 1878, 'experienc': 1879, 'crappi': 1880, 'circumst': 1881, 'section': 1882, 'colour': 1883, 'unabl': 1884, 'sheriff': 1885, 'theori': 1886, 'subtitl': 1887, 'oliv': 1888, 'brilliantli': 1889, 'drew': 1890, 'laughter': 1891, 'pile': 1892, 'altern': 1893, 'cook': 1894, 'parker': 1895, 'sheer': 1896, 'matt': 1897, 'path': 1898, 'hall': 1899, 'defin': 1900, 'accident': 1901, 'treatment': 1902, 'wander': 1903, 'lawyer': 1904, 'relief': 1905, 'sinatra': 1906, 'captiv': 1907, 'hank': 1908, 'dragon': 1909, 'halloween': 1910, 'moor': 1911, 'gratuit': 1912, 'unintent': 1913, 'jacki': 1914, 'kung': 1915, 'k': 1916, 'cowboy': 1917, 'barbara': 1918, 'wound': 1919, 'wayn': 1920, 'broadway': 1921, 'surreal': 1922, 'winter': 1923, 'spoof': 1924, 'statement': 1925, 'canadian': 1926, 'gonna': 1927, 'fish': 1928, 'treasur': 1929, 'cheer': 1930, 'compos': 1931, 'fare': 1932, 'victor': 1933, 'unrealist': 1934, 'woodi': 1935, 'sensit': 1936, 'emerg': 1937, 'driven': 1938, 'neighbor': 1939, 'ran': 1940, 'sympathet': 1941, 'overlook': 1942, 'menac': 1943, 'topic': 1944, 'authent': 1945, 'expos': 1946, 'glass': 1947, 'michel': 1948, 'handsom': 1949, 'ancient': 1950, 'chief': 1951, 'gross': 1952, 'feet': 1953, 'pleasant': 1954, 'russel': 1955, 'stranger': 1956, 'built': 1957, 'nevertheless': 1958, 'contemporari': 1959, 'network': 1960, 'comedian': 1961, 'cinderella': 1962, 'letter': 1963, 'earn': 1964, 'miser': 1965, 'underr': 1966, 'blockbust': 1967, 'gori': 1968, 'endless': 1969, 'consider': 1970, 'brook': 1971, 'switch': 1972, 'solv': 1973, 'convict': 1974, 'joseph': 1975, 'bullet': 1976, 'virgin': 1977, 'victoria': 1978, 'edward': 1979, 'scale': 1980, '0': 1981, 'cynic': 1982, 'alex': 1983, 'scenario': 1984, 'chosen': 1985, 'gut': 1986, 'com': 1987, 'curs': 1988, 'sword': 1989, 'outrag': 1990, 'monkey': 1991, 'screenwrit': 1992, 'substanc': 1993, 'uk': 1994, 'proper': 1995, 'wrap': 1996, 'juli': 1997, 'driver': 1998, 'court': 1999, 'par': 2000, 'bird': 2001, 'remov': 2002, 'indic': 2003, 'naiv': 2004, 'consequ': 2005, 'nanci': 2006, 'inevit': 2007, 'grave': 2008, 'loser': 2009, 'advertis': 2010, 'rental': 2011, 'roy': 2012, 'le': 2013, 'invis': 2014, 'brave': 2015, 'slap': 2016, 'bridg': 2017, 'fatal': 2018, 'germani': 2019, 'anger': 2020, 'footbal': 2021, 'ador': 2022, 'loui': 2023, 'provok': 2024, 'anderson': 2025, 'chan': 2026, 'alcohol': 2027, 'ryan': 2028, 'stumbl': 2029, 'willi': 2030, 'professor': 2031, 'sharp': 2032, 'australian': 2033, 'assassin': 2034, 'bat': 2035, 'patrick': 2036, '1930': 2037, 'cell': 2038, 'eight': 2039, 'deni': 2040, 'heck': 2041, 'saturday': 2042, 'refresh': 2043, 'lousi': 2044, 'amateurish': 2045, 'ape': 2046, 'liber': 2047, 'strongli': 2048, 'trilog': 2049, 'sin': 2050, 'vagu': 2051, 'resid': 2052, 'san': 2053, 'justifi': 2054, 'defeat': 2055, 'indi': 2056, 'sympathi': 2057, 'creator': 2058, 'reput': 2059, 'mini': 2060, 'terrifi': 2061, 'tediou': 2062, 'task': 2063, 'expert': 2064, 'prevent': 2065, 'endur': 2066, 'tabl': 2067, 'trial': 2068, 'rival': 2069, 'offend': 2070, 'imit': 2071, 'basebal': 2072, 'employ': 2073, 'che': 2074, 'max': 2075, 'weekend': 2076, 'pitch': 2077, 'complaint': 2078, 'fairi': 2079, 'dig': 2080, 'beach': 2081, 'europ': 2082, 'purchas': 2083, 'format': 2084, 'murphi': 2085, 'risk': 2086, 'nois': 2087, 'glimps': 2088, 'bite': 2089, 'tini': 2090, 'harsh': 2091, 'hype': 2092, 'powel': 2093, 'reminisc': 2094, 'titan': 2095, 'strip': 2096, 'till': 2097, 'north': 2098, 'prime': 2099, '14': 2100, 'asleep': 2101, 'fals': 2102, 'descript': 2103, 'destruct': 2104, 'texa': 2105, 'africa': 2106, 'revel': 2107, 'excess': 2108, 'arrest': 2109, 'spin': 2110, 'semi': 2111, 'surfac': 2112, 'sitcom': 2113, 'uninterest': 2114, 'inner': 2115, 'dinosaur': 2116, 'maintain': 2117, 'argu': 2118, 'controversi': 2119, 'massiv': 2120, 'hitchcock': 2121, 'makeup': 2122, 'twin': 2123, 'reject': 2124, 'melodrama': 2125, 'expens': 2126, 'insist': 2127, 'stare': 2128, 'kim': 2129, 'ideal': 2130, 'ludicr': 2131, 'subplot': 2132, 'erot': 2133, 'supernatur': 2134, 'forest': 2135, 'nail': 2136, 'atroci': 2137, 'host': 2138, 'ala': 2139, 'ga': 2140, 'press': 2141, 'columbo': 2142, 'dude': 2143, 'presum': 2144, 'identifi': 2145, 'cant': 2146, 'notch': 2147, 'character': 2148, 'forgett': 2149, 'crude': 2150, 'closer': 2151, 'method': 2152, 'guest': 2153, 'plagu': 2154, 'landscap': 2155, 'border': 2156, 'beast': 2157, 'lion': 2158, 'foster': 2159, 'ear': 2160, 'princess': 2161, 'urban': 2162, 'birth': 2163, 'jungl': 2164, 'bound': 2165, 'storytel': 2166, 'aunt': 2167, 'damag': 2168, 'accus': 2169, 'previous': 2170, 'pacino': 2171, 'emma': 2172, 'chose': 2173, 'propaganda': 2174, 'jess': 2175, 'nude': 2176, 'guid': 2177, 'thirti': 2178, 'doll': 2179, 'warrior': 2180, 'whoever': 2181, 'mate': 2182, '25': 2183, 'mainstream': 2184, 'pet': 2185, 'gritti': 2186, 'poster': 2187, 'merit': 2188, 'friday': 2189, 'deadli': 2190, 'upset': 2191, 'exact': 2192, 'latest': 2193, 'size': 2194, 'cooper': 2195, 'corps': 2196, 'buff': 2197, 'wilson': 2198, '1990': 2199, 'warner': 2200, 'rough': 2201, 'settl': 2202, 'citizen': 2203, 'sun': 2204, 'blend': 2205, 'popul': 2206, 'contest': 2207, 'ton': 2208, 'contact': 2209, 'select': 2210, 'pitt': 2211, 'widow': 2212, 'environ': 2213, 'overcom': 2214, 'rat': 2215, 'metal': 2216, 'bu': 2217, 'alic': 2218, 'mgm': 2219, 'particip': 2220, 'guilti': 2221, 'revolut': 2222, 'link': 2223, 'lift': 2224, 'ted': 2225, 'matrix': 2226, 'accompani': 2227, 'johnson': 2228, 'exagger': 2229, 'moron': 2230, 'afternoon': 2231, 'prostitut': 2232, 'corner': 2233, '1960': 2234, 'corpor': 2235, 'friendli': 2236, 'leagu': 2237, 'multipl': 2238, 'clair': 2239, 'hood': 2240, 'sincer': 2241, 'doom': 2242, 'holm': 2243, 'instal': 2244, 'blah': 2245, 'grim': 2246, 'junk': 2247, 'campi': 2248, 'examin': 2249, 'string': 2250, 'lugosi': 2251, 'aka': 2252, 'sunday': 2253, 'hip': 2254, 'advis': 2255, 'irish': 2256, 'defend': 2257, 'icon': 2258, 'tight': 2259, 'varieti': 2260, 'confid': 2261, 'pro': 2262, 'shut': 2263, 'shake': 2264, 'rachel': 2265, 'medic': 2266, 'sullivan': 2267, 'denni': 2268, 'directli': 2269, 'attach': 2270, 'jaw': 2271, 'goal': 2272, 'mexican': 2273, 'breast': 2274, 'truck': 2275, 'legendari': 2276, 'courag': 2277, 'sentenc': 2278, 'bourn': 2279, 'sarah': 2280, 'terrorist': 2281, 'dean': 2282, 'vietnam': 2283, 'duke': 2284, 'prior': 2285, 'yell': 2286, 'un': 2287, 'donald': 2288, 'split': 2289, 'proceed': 2290, 'nose': 2291, 'entri': 2292, 'behav': 2293, 'hong': 2294, 'everywher': 2295, 'concentr': 2296, 'stolen': 2297, 'buri': 2298, 'crush': 2299, 'unconvinc': 2300, 'gather': 2301, 'borrow': 2302, 'forth': 2303, 'lifetim': 2304, 'swim': 2305, 'confess': 2306, 'jerk': 2307, 'turkey': 2308, 'julia': 2309, 'deliveri': 2310, 'pan': 2311, 'lip': 2312, 'spite': 2313, 'california': 2314, 'offici': 2315, 'reward': 2316, 'hoffman': 2317, 'proud': 2318, 'freeman': 2319, 'quest': 2320, 'downright': 2321, 'flight': 2322, 'china': 2323, 'encourag': 2324, 'fabul': 2325, 'worthwhil': 2326, 'inept': 2327, 'lazi': 2328, 'jail': 2329, 'sir': 2330, 'betray': 2331, 'notori': 2332, 'fade': 2333, 'sink': 2334, 'jon': 2335, 'cousin': 2336, 'bell': 2337, 'imageri': 2338, 'storm': 2339, 'branagh': 2340, 'teeth': 2341, 'retard': 2342, 'relev': 2343, 'shower': 2344, 'survivor': 2345, 'susan': 2346, 'bag': 2347, 'lisa': 2348, 'hugh': 2349, 'bride': 2350, 'mexico': 2351, 'alright': 2352, 'finger': 2353, 'summari': 2354, 'facial': 2355, 'stab': 2356, 'quirki': 2357, 'tremend': 2358, 'shark': 2359, 'trade': 2360, 'toler': 2361, 'von': 2362, 'hyster': 2363, 'blown': 2364, 'pose': 2365, 'ha': 2366, 'bitter': 2367, 'afterward': 2368, 'ned': 2369, 'scheme': 2370, 'bone': 2371, 'address': 2372, 'larri': 2373, 'cruel': 2374, 'ron': 2375, 'christ': 2376, 'feed': 2377, 'swear': 2378, 'thumb': 2379, 'beg': 2380, 'pursu': 2381, 'tour': 2382, 'screw': 2383, 'distinct': 2384, 'traci': 2385, 'snake': 2386, 'mechan': 2387, 'stomach': 2388, 'chair': 2389, 'occas': 2390, 'photo': 2391, 'raw': 2392, 'obscur': 2393, 'heavili': 2394, 'render': 2395, 'cabin': 2396, 'necessarili': 2397, 'hardi': 2398, 'chain': 2399, 'southern': 2400, 'argument': 2401, 'sidney': 2402, 'holiday': 2403, 'gruesom': 2404, 'resist': 2405, 'philip': 2406, 'indulg': 2407, 'understood': 2408, 'india': 2409, 'racist': 2410, 'satan': 2411, 'pregnant': 2412, 'outfit': 2413, 'tongu': 2414, 'forgot': 2415, 'lay': 2416, 'stalk': 2417, 'midnight': 2418, 'obnoxi': 2419, 'integr': 2420, 'belov': 2421, 'fourth': 2422, 'slapstick': 2423, 'magazin': 2424, 'deeper': 2425, '17': 2426, 'restor': 2427, 'carol': 2428, 'inhabit': 2429, 'garden': 2430, 'ticket': 2431, 'devot': 2432, 'shoe': 2433, 'incid': 2434, 'brad': 2435, 'lincoln': 2436, 'benefit': 2437, 'lili': 2438, 'guarante': 2439, 'elizabeth': 2440, 'anticip': 2441, 'divorc': 2442, 'underground': 2443, 'sandler': 2444, 'disbelief': 2445, 'maria': 2446, 'cring': 2447, 'capit': 2448, 'greater': 2449, 'mildli': 2450, 'slave': 2451, 'explod': 2452, 'creation': 2453, 'princip': 2454, 'bbc': 2455, 'amazingli': 2456, 'introduct': 2457, 'funnier': 2458, 'extraordinari': 2459, 'halfway': 2460, 'lesli': 2461, 'overwhelm': 2462, 'wreck': 2463, 'advantag': 2464, 'tap': 2465, 'extent': 2466, 'transfer': 2467, 'enhanc': 2468, 'punish': 2469, 'text': 2470, 'lo': 2471, 'plant': 2472, 'preview': 2473, 'dynam': 2474, 'deliber': 2475, 'east': 2476, 'horrif': 2477, 'lane': 2478, 'jessica': 2479, 'error': 2480, 'ensu': 2481, 'homosexu': 2482, 'vincent': 2483, '2000': 2484, 'miscast': 2485, 'vacat': 2486, 'sophist': 2487, 'appli': 2488, 'basi': 2489, 'miller': 2490, 'elev': 2491, 'mansion': 2492, 'steel': 2493, 'reed': 2494, 'spoken': 2495, 'extend': 2496, 'uncomfort': 2497, 'sleazi': 2498, 'measur': 2499, 'via': 2500, 'bollywood': 2501, 'stanley': 2502, 'overact': 2503, 'daili': 2504, 'fix': 2505, 'blair': 2506, 'beer': 2507, 'dentist': 2508, 'hippi': 2509, 'cathol': 2510, 'assign': 2511, 'goofi': 2512, 'alter': 2513, 'melt': 2514, 'savag': 2515, 'breathtak': 2516, 'conceiv': 2517, 'mous': 2518, 'carpent': 2519, 'subsequ': 2520, 'nowaday': 2521, 'sacrific': 2522, 'inspector': 2523, 'oppos': 2524, 'everyday': 2525, 'succe': 2526, 'properli': 2527, 'burt': 2528, 'block': 2529, 'neck': 2530, 'circl': 2531, 'massacr': 2532, 'laura': 2533, 'christi': 2534, 'portrait': 2535, 'concert': 2536, 'lesser': 2537, 'pool': 2538, 'access': 2539, 'fay': 2540, 'fallen': 2541, 'mob': 2542, 'seagal': 2543, 'grey': 2544, 'relax': 2545, 'competit': 2546, 'jewish': 2547, 'chees': 2548, 'sinist': 2549, 'usa': 2550, 'react': 2551, 'jake': 2552, 'isol': 2553, 'immens': 2554, 'ironi': 2555, 'stink': 2556, 'suitabl': 2557, 'nine': 2558, 'spiritu': 2559, 'nonetheless': 2560, 'lyric': 2561, 'chop': 2562, 'appal': 2563, 'creep': 2564, '2006': 2565, 'retir': 2566, 'sold': 2567, 'rage': 2568, 'user': 2569, 'needless': 2570, 'luci': 2571, 'adopt': 2572, 'shirt': 2573, 'nut': 2574, 'navi': 2575, 'spring': 2576, 'reduc': 2577, 'franchis': 2578, 'showcas': 2579, 'digit': 2580, 'per': 2581, 'asham': 2582, 'bath': 2583, 'jay': 2584, 'nurs': 2585, 'stanwyck': 2586, 'zone': 2587, 'uninspir': 2588, 'bulli': 2589, '2001': 2590, 'upper': 2591, 'sutherland': 2592, 'broadcast': 2593, 'illustr': 2594, 'oddli': 2595, 'amongst': 2596, 'laid': 2597, '1940': 2598, 'disguis': 2599, 'stylish': 2600, 'aspir': 2601, 'baker': 2602, 'throat': 2603, 'brando': 2604, 'fulfil': 2605, 'wanna': 2606, 'endear': 2607, '18': 2608, 'em': 2609, 'thief': 2610, 'wwii': 2611, 'neighborhood': 2612, 'pride': 2613, 'pound': 2614, 'nobl': 2615, 'impli': 2616, 'tens': 2617, 'distribut': 2618, 'diseas': 2619, 'coher': 2620, 'shoulder': 2621, 'shift': 2622, 'bett': 2623, 'dawn': 2624, '16': 2625, 'albeit': 2626, 'cinematograph': 2627, 'prop': 2628, 'dinner': 2629, 'bo': 2630, 'rochest': 2631, 'function': 2632, 'rebel': 2633, 'contract': 2634, 'knife': 2635, 'shout': 2636, 'snow': 2637, 'forti': 2638, 'matthau': 2639, 'wash': 2640, 'surf': 2641, 'silenc': 2642, 'poignant': 2643, 'eeri': 2644, 'chuck': 2645, 'horrend': 2646, 'heat': 2647, 'internet': 2648, 'mindless': 2649, 'duti': 2650, 'height': 2651, 'silver': 2652, 'henc': 2653, 'instinct': 2654, 'proof': 2655, 'widmark': 2656, 'elvira': 2657, 'cannib': 2658, 'reunion': 2659, 'derek': 2660, 'cancel': 2661, 'incoher': 2662, 'elvi': 2663, 'alik': 2664, 'pie': 2665, 'absorb': 2666, 'glori': 2667, 'torn': 2668, 'spielberg': 2669, 'mill': 2670, 'etern': 2671, 'greatli': 2672, 'repetit': 2673, 'musician': 2674, 'innov': 2675, 'neat': 2676, 'premier': 2677, 'trite': 2678, 'precis': 2679, 'diamond': 2680, 'britain': 2681, 'wealthi': 2682, 'crisi': 2683, 'horrifi': 2684, 'lovabl': 2685, 'itali': 2686, 'racism': 2687, 'homag': 2688, 'burton': 2689, 'blank': 2690, 'redempt': 2691, 'bang': 2692, 'nelson': 2693, 'fbi': 2694, 'infam': 2695, 'announc': 2696, 'parallel': 2697, 'dedic': 2698, 'pat': 2699, 'chaplin': 2700, 'resolut': 2701, 'happili': 2702, 'flop': 2703, 'helen': 2704, 'streisand': 2705, 'ensembl': 2706, 'hammer': 2707, 'wilder': 2708, 'oil': 2709, 'st': 2710, 'carter': 2711, 'triumph': 2712, 'disagre': 2713, 'conclud': 2714, 'cube': 2715, 'plastic': 2716, 'factori': 2717, 'mar': 2718, 'broke': 2719, 'fighter': 2720, 'rocket': 2721, 'march': 2722, 'weight': 2723, 'row': 2724, 'vega': 2725, 'bush': 2726, 'own': 2727, 'climb': 2728, 'chuckl': 2729, 'unforgett': 2730, 'sensibl': 2731, 'kurt': 2732, 'dump': 2733, 'meaning': 2734, 'spare': 2735, 'enorm': 2736, 'lust': 2737, 'wherea': 2738, 'mst3k': 2739, 'dane': 2740, 'boot': 2741, 'thug': 2742, 'luca': 2743, 'brand': 2744, 'adequ': 2745, 'bobbi': 2746, 'engin': 2747, 'arnold': 2748, 'dear': 2749, 'difficulti': 2750, 'stress': 2751, 'threat': 2752, 'butt': 2753, 'fifti': 2754, 'caricatur': 2755, 'rap': 2756, 'karloff': 2757, 'swing': 2758, 'polish': 2759, 'fest': 2760, 'ralph': 2761, 'elabor': 2762, 'arrog': 2763, 'secretari': 2764, 'journalist': 2765, 'hamlet': 2766, 'flynn': 2767, 'ego': 2768, 'homeless': 2769, 'barri': 2770, 'arrang': 2771, 'fanci': 2772, 'resort': 2773, 'induc': 2774, 'conspiraci': 2775, 'unbear': 2776, 'float': 2777, 'grate': 2778, 'puppet': 2779, 'spike': 2780, 'tool': 2781, 'simpson': 2782, 'exercis': 2783, 'pig': 2784, 'basement': 2785, 'cruis': 2786, 'guilt': 2787, 'boll': 2788, 'tribut': 2789, 'phillip': 2790, 'muppet': 2791, 'choreograph': 2792, 'medium': 2793, 'tower': 2794, 'fianc': 2795, 'slip': 2796, 'babe': 2797, 'toilet': 2798, 'stan': 2799, '24': 2800, 'korean': 2801, 'item': 2802, 'ham': 2803, 'puzzl': 2804, 'document': 2805, 'editor': 2806, 'file': 2807, 'layer': 2808, 'ward': 2809, 'scarecrow': 2810, 'librari': 2811, 'slaughter': 2812, 'larger': 2813, 'orient': 2814, 'catherin': 2815, 'assur': 2816, 'inexplic': 2817, 'philosoph': 2818, 'glover': 2819, 'portion': 2820, 'territori': 2821, 'persona': 2822, 'transit': 2823, 'spark': 2824, 'doc': 2825, 'minim': 2826, 'superfici': 2827, 'denzel': 2828, 'boredom': 2829, 'sneak': 2830, 'owe': 2831, 'pg': 2832, 'ban': 2833, 'financi': 2834, 'wolf': 2835, 'dorothi': 2836, 'walken': 2837, 'jeremi': 2838, 'curti': 2839, 'shi': 2840, 'jet': 2841, 'ambigu': 2842, 'eleph': 2843, 'metaphor': 2844, 'profound': 2845, 'backdrop': 2846, 'cusack': 2847, 'multi': 2848, 'hudson': 2849, 'whale': 2850, 'rave': 2851, 'union': 2852, 'hack': 2853, 'stiff': 2854, 'implaus': 2855, 'elsewher': 2856, 'ultra': 2857, 'viru': 2858, 'birthday': 2859, 'notion': 2860, '2005': 2861, 'gadget': 2862, 'distanc': 2863, 'deriv': 2864, 'disc': 2865, 'reader': 2866, 'lloyd': 2867, '1st': 2868, 'canada': 2869, 'poison': 2870, 'pad': 2871, 'newspap': 2872, 'afford': 2873, 'eastwood': 2874, 'hawk': 2875, 'squar': 2876, 'slight': 2877, 'eva': 2878, 'urg': 2879, 'superhero': 2880, 'bibl': 2881, 'drown': 2882, 'sadist': 2883, 'cure': 2884, 'skit': 2885, 'charisma': 2886, 'restaur': 2887, 'heston': 2888, 'montag': 2889, 'health': 2890, 'essenc': 2891, 'button': 2892, 'spread': 2893, 'huh': 2894, 'dealt': 2895, 'lab': 2896, 'fetch': 2897, 'gradual': 2898, 'estat': 2899, 'invest': 2900, 'maniac': 2901, 'muslim': 2902, 'godfath': 2903, 'peak': 2904, 'companion': 2905, 'scoobi': 2906, 'cup': 2907, 'tea': 2908, 'countless': 2909, 'kane': 2910, 'ritter': 2911, 'gothic': 2912, 'servant': 2913, 'subtleti': 2914, 'miik': 2915, 'alli': 2916, 'iii': 2917, 'charismat': 2918, 'electr': 2919, 'elect': 2920, 'salli': 2921, 'briefli': 2922, 'heroic': 2923, 'resourc': 2924, 'toss': 2925, 'ingredi': 2926, 'wannab': 2927, 'neil': 2928, 'tender': 2929, 'grandmoth': 2930, 'cole': 2931, 'admittedli': 2932, 'nuanc': 2933, 'bud': 2934, 'reel': 2935, 'kubrick': 2936, 'stronger': 2937, 'mafia': 2938, 'pauli': 2939, 'poverti': 2940, 'shall': 2941, 'label': 2942, 'pit': 2943, 'gate': 2944, 'stood': 2945, 'carrey': 2946, 'punk': 2947, 'reev': 2948, 'mild': 2949, 'dawson': 2950, 'assault': 2951, 'smooth': 2952, 'outcom': 2953, 'useless': 2954, 'updat': 2955, 'terri': 2956, 'tag': 2957, 'burst': 2958, 'ian': 2959, 'fond': 2960, 'cox': 2961, 'easier': 2962, 'bakshi': 2963, 'astair': 2964, 'smash': 2965, 'cardboard': 2966, 'increasingli': 2967, 'samurai': 2968, 'qualifi': 2969, 'coincid': 2970, 'divers': 2971, 'resolv': 2972, 'vulner': 2973, 'vari': 2974, 'fist': 2975, 'exchang': 2976, 'melodramat': 2977, 'sketch': 2978, 'rex': 2979, '2002': 2980, 'brillianc': 2981, 'luckili': 2982, 'insert': 2983, 'blast': 2984, 'conveni': 2985, 'scratch': 2986, 'be': 2987, 'templ': 2988, 'suspend': 2989, 'reynold': 2990, 'tame': 2991, 'jami': 2992, 'strictli': 2993, 'seventi': 2994, 'nuclear': 2995, 'walker': 2996, 'coach': 2997, 'soprano': 2998, 'pin': 2999, 'ambiti': 3000, 'farm': 3001, 'hamilton': 3002, 'matthew': 3003, 'meat': 3004, 'gotta': 3005, 'fisher': 3006, 'monk': 3007, 'butcher': 3008, 'ninja': 3009, 'convolut': 3010, 'recreat': 3011, 'revers': 3012, 'grasp': 3013, 'timeless': 3014, 'struck': 3015, 'kudo': 3016, 'eccentr': 3017, 'joey': 3018, 'spooki': 3019, 'clock': 3020, 'worthless': 3021, 'cave': 3022, 'empir': 3023, 'instantli': 3024, 'discoveri': 3025, 'closet': 3026, 'brosnan': 3027, 'miracl': 3028, 'mitchel': 3029, 'gray': 3030, 'sidekick': 3031, 'inconsist': 3032, 'seller': 3033, 'sloppi': 3034, 'evok': 3035, 'fifteen': 3036, 'selfish': 3037, 'partli': 3038, 'declar': 3039, 'eighti': 3040, 'bleak': 3041, 'communist': 3042, 'importantli': 3043, 'norman': 3044, 'pal': 3045, 'cliff': 3046, 'wipe': 3047, 'clown': 3048, 'enthusiast': 3049, 'piano': 3050, 'destin': 3051, 'chew': 3052, 'psychiatrist': 3053, 'flawless': 3054, 'aforement': 3055, 'websit': 3056, 'lifestyl': 3057, '45': 3058, 'australia': 3059, 'cheek': 3060, 'farc': 3061, 'debat': 3062, 'seed': 3063, 'ho': 3064, 'superbl': 3065, 'stoog': 3066, 'soviet': 3067, 'pressur': 3068, 'emili': 3069, 'kitchen': 3070, 'abc': 3071, 'regardless': 3072, 'wick': 3073, 'drivel': 3074, 'directori': 3075, 'bash': 3076, 'slice': 3077, 'splatter': 3078, 'dash': 3079, 'incompet': 3080, 'wrestl': 3081, 'anni': 3082, 'dire': 3083, 'akshay': 3084, 'chapter': 3085, 'lou': 3086, 'recov': 3087, 'duo': 3088, 'artifici': 3089, 'distant': 3090, 'jar': 3091, 'suppli': 3092, 'dave': 3093, 'helicopt': 3094, 'curios': 3095, 'mann': 3096, 'increas': 3097, 'pleasantli': 3098, 'flower': 3099, 'judi': 3100, 'cameron': 3101, 'glow': 3102, 'cia': 3103, 'cagney': 3104, 'boil': 3105, 'prize': 3106, 'blob': 3107, 'beaten': 3108, 'ken': 3109, 'seduc': 3110, 'doo': 3111, 'glenn': 3112, 'drunken': 3113, 'favour': 3114, 'eleg': 3115, 'laurel': 3116, 'francisco': 3117, 'craig': 3118, 'psychot': 3119, 'craven': 3120, 'turner': 3121, 'panic': 3122, 'web': 3123, 'ellen': 3124, 'combat': 3125, 'splendid': 3126, 'goldberg': 3127, 'hop': 3128, 'ranger': 3129, 'perri': 3130, 'wizard': 3131, 'greek': 3132, 'shortli': 3133, 'graduat': 3134, '20th': 3135, 'alexand': 3136, 'fx': 3137, 'slightest': 3138, 'gentl': 3139, 'plausibl': 3140, 'rid': 3141, 'philosophi': 3142, 'hatr': 3143, 'flip': 3144, 'ruth': 3145, 'falk': 3146, 'modesti': 3147, 'min': 3148, 'gandhi': 3149, 'holi': 3150, 'futurist': 3151, 'fund': 3152, 'jealou': 3153, 'lend': 3154, 'knight': 3155, 'we': 3156, 'ocean': 3157, 'harm': 3158, 'unpleas': 3159, 'tall': 3160, 'manhattan': 3161, 'legal': 3162, 'preciou': 3163, 'felix': 3164, 'dracula': 3165, 'digniti': 3166, 'overdon': 3167, 'mock': 3168, 'tank': 3169, 'explicit': 3170, 'childish': 3171, 'thread': 3172, 'ami': 3173, 'forbidden': 3174, 'nod': 3175, 'giallo': 3176, 'bless': 3177, 'scientif': 3178, 'reviv': 3179, '99': 3180, 'awaken': 3181, 'nerv': 3182, 'unwatch': 3183, 'repeatedli': 3184, 'fever': 3185, 'pirat': 3186, 'elderli': 3187, 'margaret': 3188, 'verhoeven': 3189, 'torment': 3190, 'awe': 3191, 'eve': 3192, '2004': 3193, 'mel': 3194, 'thick': 3195, 'broad': 3196, 'yesterday': 3197, 'ah': 3198, 'absenc': 3199, 'lean': 3200, 'uniform': 3201, 'launch': 3202, 'bin': 3203, 'eas': 3204, 'royal': 3205, 'politician': 3206, 'rivet': 3207, 'acclaim': 3208, 'publish': 3209, 'roman': 3210, 'custom': 3211, 'ambit': 3212, 'timothi': 3213, 'romero': 3214, 'stiller': 3215, 'automat': 3216, 'kay': 3217, 'griffith': 3218, 'crook': 3219, 'transport': 3220, 'purpl': 3221, 'phrase': 3222, 'warren': 3223, 'sunshin': 3224, 'homicid': 3225, 'foul': 3226, 'darker': 3227, 'termin': 3228, 'wallac': 3229, 'pulp': 3230, 'tomato': 3231, 'bathroom': 3232, 'pierc': 3233, 'antic': 3234, 'stinker': 3235, 'gabriel': 3236, 'rambo': 3237, 'choreographi': 3238, 'eyr': 3239, 'juvenil': 3240, 'horrid': 3241, 'donna': 3242, 'pray': 3243, 'marin': 3244, 'sixti': 3245, 'saint': 3246, 'coloni': 3247, 'hollow': 3248, 'brazil': 3249, 'awak': 3250, '2003': 3251, 'karen': 3252, 'album': 3253, 'evolv': 3254, 'contrari': 3255, 'prom': 3256, 'q': 3257, 'viciou': 3258, 'packag': 3259, 'li': 3260, 'ought': 3261, 'kenneth': 3262, 'revolutionari': 3263, 'boast': 3264, 'blade': 3265, 'option': 3266, 'conserv': 3267, 'candid': 3268, 'dose': 3269, 'kapoor': 3270, 'overr': 3271, 'stole': 3272, 'twelv': 3273, 'mildr': 3274, 'defi': 3275, 'ireland': 3276, 'beatti': 3277, 'nerd': 3278, 'mummi': 3279, 'ramon': 3280, 'collabor': 3281, 'astonish': 3282, 'flame': 3283, 'kirk': 3284, 'funer': 3285, 'natali': 3286, 'fulci': 3287, 'global': 3288, 'altman': 3289, 'detract': 3290, 'confirm': 3291, 'trio': 3292, 'protest': 3293, 'jazz': 3294, 'nicholson': 3295, 'leap': 3296, 'audio': 3297, 'bull': 3298, 'delici': 3299, 'mystic': 3300, 'spit': 3301, 'whip': 3302, 'enterpris': 3303, 'destini': 3304, 'bottl': 3305, 'blake': 3306, 'shade': 3307, 'tommi': 3308, 'racial': 3309, 'yellow': 3310, 'harder': 3311, 'todd': 3312, 'visibl': 3313, 'threw': 3314, 'bedroom': 3315, 'altogeth': 3316, 'popcorn': 3317, 'merci': 3318, 'inherit': 3319, 'vivid': 3320, 'fonda': 3321, 'reunit': 3322, 'meaningless': 3323, 'pseudo': 3324, 'neo': 3325, 'staff': 3326, 'adolesc': 3327, 'enchant': 3328, 'swedish': 3329, 'await': 3330, 'synopsi': 3331, 'bust': 3332, 'suspici': 3333, 'madonna': 3334, 'decor': 3335, 'crocodil': 3336, 'wire': 3337, 'atlanti': 3338, 'ruthless': 3339, 'fanat': 3340, 'uneven': 3341, 'moodi': 3342, 'lawrenc': 3343, 'exhibit': 3344, 'leonard': 3345, 'befriend': 3346, 'tip': 3347, 'lemmon': 3348, 'reserv': 3349, 'respond': 3350, 'roommat': 3351, 'kennedi': 3352, 'voight': 3353, 'edi': 3354, 'jew': 3355, 'unsettl': 3356, 'dimens': 3357, 'rural': 3358, 'holli': 3359, 'abysm': 3360, 'chao': 3361, 'bargain': 3362, 'garner': 3363, 'carl': 3364, 'bradi': 3365, 'ventur': 3366, 'clint': 3367, 'centr': 3368, 'palma': 3369, 'voyag': 3370, 'clumsi': 3371, 'incident': 3372, 'bold': 3373, '2007': 3374, 'audit': 3375, 'echo': 3376, '2nd': 3377, 'humili': 3378, 'versu': 3379, 'troop': 3380, 'elimin': 3381, 'acknowledg': 3382, 'neglect': 3383, 'trail': 3384, 'cari': 3385, 'nearbi': 3386, 'characterist': 3387, 'immigr': 3388, 'hart': 3389, 'daddi': 3390, 'tiger': 3391, 'imperson': 3392, 'mall': 3393, 'lit': 3394, 'cd': 3395, 'poetic': 3396, 'cuba': 3397, 'wealth': 3398, 'timon': 3399, 'ant': 3400, 'jeffrey': 3401, 'saga': 3402, 'prejudic': 3403, 'solo': 3404, 'pun': 3405, 'paus': 3406, 'domest': 3407, 'infect': 3408, 'mickey': 3409, 'collaps': 3410, 'homer': 3411, 'celluloid': 3412, 'mistaken': 3413, 'marshal': 3414, 'repuls': 3415, 'interrupt': 3416, 'gear': 3417, 'milk': 3418, 'inan': 3419, 'hbo': 3420, 'apolog': 3421, 'chest': 3422, 'leon': 3423, 'tribe': 3424, 'pant': 3425, 'undoubtedli': 3426, 'promin': 3427, 'olivi': 3428, 'sore': 3429, 'coffe': 3430, 'assembl': 3431, 'coat': 3432, 'cake': 3433, '1996': 3434, 'harvey': 3435, 'inappropri': 3436, 'equip': 3437, 'ginger': 3438, 'primari': 3439, 'institut': 3440, 'colonel': 3441, 'instant': 3442, 'exot': 3443, 'furthermor': 3444, 'solut': 3445, 'trace': 3446, 'colleagu': 3447, 'airplan': 3448, 'aveng': 3449, 'pen': 3450, 'florida': 3451, 'highest': 3452, 'consum': 3453, 'retain': 3454, 'vulgar': 3455, 'humbl': 3456, 'brooklyn': 3457, 'devast': 3458, 'jenni': 3459, 'embrac': 3460, 'maggi': 3461, 'pot': 3462, 'polanski': 3463, 'principl': 3464, 'strain': 3465, '1999': 3466, 'smaller': 3467, 'disabl': 3468, 'godzilla': 3469, 'wive': 3470, 'gender': 3471, 'descend': 3472, 'sale': 3473, 'outer': 3474, 'bowl': 3475, 'illog': 3476, 'cope': 3477, 'dian': 3478, 'poke': 3479, 'seduct': 3480, 'linda': 3481, '3rd': 3482, 'rick': 3483, 'dutch': 3484, 'ya': 3485, 'inferior': 3486, 'scope': 3487, 'glamor': 3488, 'secondli': 3489, 'primarili': 3490, 'lol': 3491, 'yard': 3492, 'gloriou': 3493, 'dud': 3494, 'dive': 3495, 'bubbl': 3496, 'vast': 3497, 'devoid': 3498, 'hal': 3499, 'mixtur': 3500, 'predecessor': 3501, 'rabbit': 3502, 'beneath': 3503, 'cue': 3504, 'gundam': 3505, 'blatant': 3506, 'z': 3507, 'domino': 3508, 'aggress': 3509, 'countrysid': 3510, 'talki': 3511, 'simplist': 3512, 'alfr': 3513, 'breed': 3514, 'trademark': 3515, 'casual': 3516, 'senseless': 3517, 'museum': 3518, 'alert': 3519, 'disjoint': 3520, 'et': 3521, 'hideou': 3522, 'april': 3523, 'pearl': 3524, 'grinch': 3525, 'shirley': 3526, 'streep': 3527, 'garbo': 3528, 'arab': 3529, 'shelf': 3530, 'invas': 3531, 'myer': 3532, 'hardcor': 3533, 'robberi': 3534, 'rendit': 3535, 'illeg': 3536, 'oz': 3537, 'hopeless': 3538, 'experiment': 3539, 'robinson': 3540, 'unhappi': 3541, 'slide': 3542, 'maci': 3543, 'vanish': 3544, 'uwe': 3545, 'disgrac': 3546, 'defens': 3547, 'mail': 3548, 'khan': 3549, 'obtain': 3550, 'acid': 3551, 'boom': 3552, 'applaud': 3553, 'stellar': 3554, 'stack': 3555, 'loyal': 3556, 'stir': 3557, 'sh': 3558, 'mayor': 3559, 'psychic': 3560, 'blew': 3561, 'amanda': 3562, 'craze': 3563, 'emphasi': 3564, 'berlin': 3565, 'soccer': 3566, 'recruit': 3567, 'incomprehens': 3568, 'span': 3569, 'hartley': 3570, 'rifl': 3571, 'counter': 3572, 'wont': 3573, 'tempt': 3574, 'dicken': 3575, 'scroog': 3576, 'declin': 3577, 'topless': 3578, 'spider': 3579, 'fri': 3580, 'diana': 3581, 'dismiss': 3582, 'tenant': 3583, 'grandfath': 3584, 'porno': 3585, 'ration': 3586, 'trashi': 3587, 'faster': 3588, 'sympath': 3589, 'ethnic': 3590, 'revolt': 3591, 'lumet': 3592, 'shaw': 3593, 'bitch': 3594, 'woo': 3595, 'wet': 3596, 'goer': 3597, 'intim': 3598, 'niro': 3599, 'parad': 3600, 'shed': 3601, 'resurrect': 3602, 'sibl': 3603, 'riot': 3604, 'justin': 3605, 'wendi': 3606, 'wheel': 3607, 'region': 3608, 'hesit': 3609, 'commend': 3610, 'steam': 3611, 'rider': 3612, 'honesti': 3613, 'hopper': 3614, 'patriot': 3615, 'biographi': 3616, 'mario': 3617, 'ensur': 3618, 'slick': 3619, 'farmer': 3620, 'feminist': 3621, 'enlighten': 3622, 'gap': 3623, 'jonathan': 3624, 'nephew': 3625, 'eager': 3626, 'weakest': 3627, 'choru': 3628, 'partial': 3629, 'dealer': 3630, 'andr': 3631, '00': 3632, 'worm': 3633, 'unreal': 3634, 'lena': 3635, 'immort': 3636, 'ballet': 3637, 'sappi': 3638, 'blunt': 3639, 'mutant': 3640, 'snap': 3641, 'owen': 3642, 'franco': 3643, 'morri': 3644, 'properti': 3645, 'skull': 3646, 'safeti': 3647, 'sandra': 3648, 'kingdom': 3649, 'util': 3650, 'vice': 3651, 'similarli': 3652, 'nostalg': 3653, 'confin': 3654, 'repress': 3655, 'macarthur': 3656, 'psychopath': 3657, 'prequel': 3658, 'victori': 3659, 'charlott': 3660, 'wore': 3661, 'leo': 3662, 'hung': 3663, 'composit': 3664, 'montana': 3665, '1972': 3666, 'heartbreak': 3667, 'speci': 3668, 'rope': 3669, 'bonu': 3670, 'compass': 3671, 'deed': 3672, 'dust': 3673, 'farrel': 3674, 'acquir': 3675, 'repli': 3676, 'recycl': 3677, 'hyde': 3678, 'nervou': 3679, 'exit': 3680, 'strand': 3681, 'bow': 3682, 'rambl': 3683, 'rocki': 3684, 'drum': 3685, 'tail': 3686, 'whoopi': 3687, 'pattern': 3688, 'compens': 3689, 'campbel': 3690, 'snl': 3691, 'drain': 3692, 'emperor': 3693, 'bergman': 3694, 'bumbl': 3695, 'cg': 3696, 'tad': 3697, 'dalton': 3698, 'kyle': 3699, 'miseri': 3700, 'despair': 3701, 'del': 3702, 'latin': 3703, 'thru': 3704, 'valuabl': 3705, 'contempl': 3706, 'airport': 3707, 'da': 3708, 'rotten': 3709, 'radic': 3710, 'olli': 3711, '35': 3712, 'wacki': 3713, 'mistress': 3714, 'percept': 3715, 'slug': 3716, 'carradin': 3717, 'gimmick': 3718, 'bleed': 3719, 'downhil': 3720, 'orson': 3721, 'martian': 3722, 'tonight': 3723, 'romp': 3724, 'rapist': 3725, 'oppress': 3726, 'chess': 3727, 'pour': 3728, 'gal': 3729, 'roth': 3730, 'paltrow': 3731, 'arguabl': 3732, 'slash': 3733, 'shelley': 3734, 'unpredict': 3735, 'dazzl': 3736, 'mislead': 3737, 'pursuit': 3738, 'stilt': 3739, 'arc': 3740, 'pervers': 3741, 'melodi': 3742, 'edgar': 3743, 'programm': 3744, 'tooth': 3745, 'belt': 3746, '1983': 3747, 'pervert': 3748, 'champion': 3749, 'heal': 3750, 'attorney': 3751, 'tackl': 3752, 'banal': 3753, 'taught': 3754, 'preach': 3755, 'duval': 3756, 'bela': 3757, 'sensat': 3758, 'virginia': 3759, 'poem': 3760, 'vengeanc': 3761, 'plight': 3762, 'mesmer': 3763, 'maid': 3764, 'raymond': 3765, 'vocal': 3766, 'chicken': 3767, 'tiresom': 3768, 'passeng': 3769, 'cleverli': 3770, 'closest': 3771, 'rubi': 3772, 'gambl': 3773, 'employe': 3774, 'franki': 3775, 'conneri': 3776, 'graham': 3777, 'orang': 3778, 'uplift': 3779, 'marti': 3780, 'dixon': 3781, 'gerard': 3782, 'climact': 3783, 'lundgren': 3784, 'quarter': 3785, 'yawn': 3786, 'bay': 3787, '1968': 3788, 'giggl': 3789, 'convincingli': 3790, 'outing': 3791, 'suffic': 3792, 'secretli': 3793, 'numb': 3794, 'profan': 3795, 'tube': 3796, 'extens': 3797, 'swallow': 3798, 'crystal': 3799, 'engross': 3800, 'iran': 3801, 'paranoia': 3802, 'monologu': 3803, 'habit': 3804, 'calm': 3805, 'whine': 3806, 'inject': 3807, 'mute': 3808, 'clone': 3809, 'abraham': 3810, 'sirk': 3811, 'volum': 3812, 'scottish': 3813, 'amitabh': 3814, 'pokemon': 3815, 'grotesqu': 3816, 'dispos': 3817, 'austen': 3818, 'lowest': 3819, 'underst': 3820, 'linger': 3821, 'im': 3822, 'franci': 3823, 'expand': 3824, 'backward': 3825, 'richardson': 3826, 'abort': 3827, 'trend': 3828, 'chicago': 3829, 'septemb': 3830, 'meander': 3831, 'plod': 3832, 'fed': 3833, 'profess': 3834, 'ethan': 3835, 'bend': 3836, 'surpass': 3837, 'earl': 3838, 'poetri': 3839, 'taxi': 3840, 'junior': 3841, 'nichola': 3842, 'frankenstein': 3843, 'spock': 3844, 'household': 3845, 'lure': 3846, 'simplic': 3847, 'hum': 3848, 'muddl': 3849, 'myth': 3850, 'econom': 3851, 'stallon': 3852, 'instrument': 3853, 'dysfunct': 3854, 'tourist': 3855, 'rubber': 3856, 'rant': 3857, 'greedi': 3858, 'cannon': 3859, 'eugen': 3860, 'compliment': 3861, 'sue': 3862, 'der': 3863, 'catchi': 3864, 'waitress': 3865, 'spoke': 3866, 'mundan': 3867, 'literatur': 3868, 'descent': 3869, 'nostalgia': 3870, 'occupi': 3871, 'omen': 3872, 'phoni': 3873, 'louis': 3874, 'furi': 3875, 'firstli': 3876, 'deaf': 3877, 'eaten': 3878, 'dement': 3879, 'hello': 3880, 'irrelev': 3881, 'lang': 3882, 'bacal': 3883, 'crucial': 3884, 'damon': 3885, 'alongsid': 3886, 'sissi': 3887, 'map': 3888, 'molli': 3889, 'coast': 3890, 'flee': 3891, 'stale': 3892, 'recognis': 3893, 'duck': 3894, 'equival': 3895, 'phantom': 3896, 'insur': 3897, 'dictat': 3898, 'mankind': 3899, 'mortal': 3900, 'recognit': 3901, 'carel': 3902, 'june': 3903, 'cent': 3904, 'randi': 3905, 'drake': 3906, 'rude': 3907, 'blackmail': 3908, 'onlin': 3909, 'ashley': 3910, 'lengthi': 3911, 'distinguish': 3912, 'newli': 3913, 'loyalti': 3914, 'twilight': 3915, 'likewis': 3916, 'labor': 3917, 'grayson': 3918, 'heel': 3919, 'daisi': 3920, '1973': 3921, 'buffalo': 3922, 'bump': 3923, 'dreari': 3924, 'reign': 3925, 'bike': 3926, 'rooney': 3927, 'freez': 3928, 'damm': 3929, 'biko': 3930, 'antwon': 3931, 'wisdom': 3932, 'cyborg': 3933, 'nineti': 3934, 'emphas': 3935, 'baddi': 3936, 'ridden': 3937, 'vein': 3938, 'interior': 3939, 'incorpor': 3940, 'approv': 3941, 'unorigin': 3942, 'basketbal': 3943, 'proce': 3944, 'inher': 3945, 'provoc': 3946, 'pink': 3947, 'chronicl': 3948, 'barrymor': 3949, 'keith': 3950, 'startl': 3951, 'worn': 3952, 'attribut': 3953, 'exposur': 3954, 'boxer': 3955, 'tunnel': 3956, 'butler': 3957, 'sailor': 3958, 'analysi': 3959, 'prey': 3960, 'hypnot': 3961, 'underli': 3962, 'mighti': 3963, 'undeni': 3964, 'predat': 3965, 'millionair': 3966, 'drift': 3967, 'barrel': 3968, 'er': 3969, 'robbin': 3970, 'substitut': 3971, 'bunni': 3972, 'belushi': 3973, 'walsh': 3974, 'meg': 3975, 'meyer': 3976, 'indiffer': 3977, 'nicol': 3978, 'simmon': 3979, 'degrad': 3980, 'fleet': 3981, 'improvis': 3982, 'condemn': 3983, 'unrel': 3984, 'elm': 3985, 'stalker': 3986, 'carla': 3987, 'mormon': 3988, 'othello': 3989, 'julian': 3990, 'warmth': 3991, 'mtv': 3992, 'dolph': 3993, 'roof': 3994, 'hay': 3995, 'exquisit': 3996, 'disord': 3997, 'greed': 3998, 'alarm': 3999, 'shove': 4000, 'alison': 4001, 'unawar': 4002, 'lampoon': 4003, '3d': 4004, 'novak': 4005, 'marion': 4006, 'firm': 4007, 'enthusiasm': 4008, 'nyc': 4009, 'errol': 4010, 'priceless': 4011, 'watson': 4012, 'agenda': 4013, 'vital': 4014, 'palac': 4015, 'reid': 4016, 'rukh': 4017, 'edgi': 4018, 'glanc': 4019, 'spain': 4020, 'campaign': 4021, 'showdown': 4022, 'nun': 4023, 'testament': 4024, 'preserv': 4025, 'profit': 4026, 'distort': 4027, 'israel': 4028, 'drip': 4029, 'gestur': 4030, 'pamela': 4031, 'minimum': 4032, 'petti': 4033, 'orlean': 4034, 'thompson': 4035, 'peck': 4036, 'what': 4037, 'angela': 4038, 'championship': 4039, 'peril': 4040, 'ponder': 4041, '13th': 4042, 'eastern': 4043, '1933': 4044, 'cassidi': 4045, 'coup': 4046, 'crown': 4047, 'iraq': 4048, 'beatl': 4049, 'session': 4050, 'zizek': 4051, 'sergeant': 4052, 'simultan': 4053, 'valentin': 4054, 'randomli': 4055, 'unleash': 4056, 'regist': 4057, 'perpetu': 4058, 'stroke': 4059, 'crow': 4060, 'brenda': 4061, 'miyazaki': 4062, 'empathi': 4063, 'jan': 4064, 'quinn': 4065, 'cream': 4066, 'exposit': 4067, 'rout': 4068, 'realm': 4069, 'unimagin': 4070, 'gentleman': 4071, '1984': 4072, 'scotland': 4073, 'calib': 4074, 'mon': 4075, 'contradict': 4076, 'reson': 4077, 'stake': 4078, 'sabrina': 4079, 'valley': 4080, 'climat': 4081, 'han': 4082, 'travesti': 4083, 'kurosawa': 4084, 'cooki': 4085, 'wig': 4086, 'represent': 4087, 'restrain': 4088, 'shootout': 4089, 'buster': 4090, 'crawl': 4091, 'bro': 4092, 'din': 4093, 'fido': 4094, 'josh': 4095, 'unseen': 4096, 'compromis': 4097, 'warrant': 4098, 'demis': 4099, 'pole': 4100, 'dana': 4101, 'pretens': 4102, 'tacki': 4103, 'delic': 4104, 'cloud': 4105, 'censor': 4106, 'ross': 4107, 'passabl': 4108, 'abomin': 4109, 'derang': 4110, 'shoddi': 4111, 'absent': 4112, 'perceiv': 4113, 'geek': 4114, 'distress': 4115, 'meryl': 4116, '1987': 4117, 'traumat': 4118, 'femm': 4119, 'wax': 4120, 'stargat': 4121, 'businessman': 4122, 'sammi': 4123, '1997': 4124, 'unsatisfi': 4125, 'shaki': 4126, 'spacey': 4127, 'greg': 4128, 'baldwin': 4129, 'sucker': 4130, 'fuller': 4131, 'crawford': 4132, 'mclaglen': 4133, 'darren': 4134, 'painter': 4135, 'monoton': 4136, 'soderbergh': 4137, 'ustinov': 4138, 'fenc': 4139, 'polici': 4140, 'accuraci': 4141, 'sid': 4142, 'fog': 4143, 'judgment': 4144, 'tech': 4145, 'furiou': 4146, 'anchor': 4147, 'antonioni': 4148, 'unravel': 4149, 'valid': 4150, '1993': 4151, 'norm': 4152, 'reluct': 4153, 'nathan': 4154, 'click': 4155, 'verbal': 4156, 'wholli': 4157, 'expedit': 4158, 'correctli': 4159, 'exclus': 4160, 'deniro': 4161, 'austin': 4162, 'dee': 4163, 'deceas': 4164, 'uncov': 4165, 'primit': 4166, 'clash': 4167, 'tarantino': 4168, 'seal': 4169, 'kumar': 4170, 'jewel': 4171, 'trait': 4172, 'nicola': 4173, 'unfair': 4174, 'crippl': 4175, 'temper': 4176, 'roller': 4177, 'vanc': 4178, 'fart': 4179, 'enforc': 4180, 'fabric': 4181, 'wang': 4182, 'pocket': 4183, 'sustain': 4184, 'sheet': 4185, 'sand': 4186, 'ritual': 4187, 'fought': 4188, 'joel': 4189, 'slam': 4190, 'wretch': 4191, 'seldom': 4192, 'bake': 4193, 'behold': 4194, '2008': 4195, 'debt': 4196, 'patienc': 4197, 'darn': 4198, 'clerk': 4199, '1995': 4200, 'shanghai': 4201, '1971': 4202, 'murray': 4203, 'conduct': 4204, 'dreck': 4205, 'mode': 4206, 'sunni': 4207, 'alec': 4208, 'hallucin': 4209, 'malon': 4210, '3000': 4211, 'tax': 4212, 'logan': 4213, 'guitar': 4214, 'robber': 4215, 'runner': 4216, 'shell': 4217, 'bias': 4218, 'stark': 4219, 'fundament': 4220, 'conscious': 4221, 'preposter': 4222, 'divid': 4223, 'despis': 4224, 'helpless': 4225, 'soup': 4226, 'exhaust': 4227, 'technicolor': 4228, 'outlin': 4229, 'phil': 4230, 'critiqu': 4231, 'rita': 4232, 'canyon': 4233, 'penni': 4234, 'bridget': 4235, 'scriptwrit': 4236, 'grief': 4237, 'clau': 4238, 'squad': 4239, 'sweep': 4240, 'legaci': 4241, 'stuart': 4242, 'schedul': 4243, 'tactic': 4244, 'isabel': 4245, 'pete': 4246, 'preston': 4247, 'consciou': 4248, 'flair': 4249, 'bloom': 4250, 'palanc': 4251, 'implic': 4252, 'alley': 4253, 'delv': 4254, 'invad': 4255, 'drove': 4256, 'propos': 4257, 'newman': 4258, 'sentinel': 4259, 'unexpectedli': 4260, 'jacket': 4261, 'jodi': 4262, 'russia': 4263, 'liberti': 4264, 'rehash': 4265, 'gregori': 4266, 'rear': 4267, 'boyl': 4268, 'marc': 4269, 'vomit': 4270, 'lacklust': 4271, 'cigarett': 4272, 'culmin': 4273, 'agenc': 4274, 'sniper': 4275, 'alicia': 4276, 'passag': 4277, 'sugar': 4278, 'downey': 4279, 'kansa': 4280, 'restrict': 4281, 'inabl': 4282, 'connor': 4283, 'rampag': 4284, 'pale': 4285, 'bacon': 4286, '1936': 4287, 'delet': 4288, 'rod': 4289, 'vet': 4290, 'asylum': 4291, 'sharon': 4292, 'tendenc': 4293, 'behaviour': 4294, 'chainsaw': 4295, 'awhil': 4296, 'feat': 4297, 'rehears': 4298, 'wrench': 4299, 'arrow': 4300, 'horn': 4301, '22': 4302, 'aesthet': 4303, 'tripe': 4304, 'improb': 4305, 'cap': 4306, 'yeti': 4307, 'kolchak': 4308, 'lush': 4309, 'mccoy': 4310, 'foxx': 4311, 'ladder': 4312, 'karl': 4313, 'shortcom': 4314, 'suspicion': 4315, 'coaster': 4316, 'weav': 4317, 'amazon': 4318, 'aristocrat': 4319, 'spice': 4320, '19th': 4321, 'wagner': 4322, 'fright': 4323, 'loneli': 4324, 'lurk': 4325, 'hackney': 4326, 'prank': 4327, 'thunderbird': 4328, 'suffici': 4329, 'newcom': 4330, 'sung': 4331, 'hulk': 4332, 'minu': 4333, 'financ': 4334, 'el': 4335, 'rhythm': 4336, 'scoop': 4337, '1978': 4338, 'elit': 4339, '1920': 4340, 'visitor': 4341, 'paramount': 4342, 'conscienc': 4343, 'basing': 4344, 'underneath': 4345, 'globe': 4346, '1988': 4347, 'tasteless': 4348, 'wildli': 4349, 'filler': 4350, 'stream': 4351, 'paradis': 4352, 'tomorrow': 4353, 'hungri': 4354, 'rumor': 4355, '75': 4356, 'quietli': 4357, 'rub': 4358, 'iv': 4359, 'choppi': 4360, 'grudg': 4361, 'inmat': 4362, 'lectur': 4363, 'worship': 4364, 'impos': 4365, 'cancer': 4366, 'naughti': 4367, 'beverli': 4368, 'teas': 4369, 'paxton': 4370, 'minist': 4371, 'penn': 4372, 'brit': 4373, 'posey': 4374, 'bread': 4375, 'abrupt': 4376, 'couch': 4377, 'curli': 4378, 'atroc': 4379, 'ingeni': 4380, 'counterpart': 4381, 'heist': 4382, 'secondari': 4383, 'chavez': 4384, 'literari': 4385, 'standout': 4386, 'chamberlain': 4387, 'ram': 4388, 'leigh': 4389, 'smell': 4390, 'hopkin': 4391, '1939': 4392, '1989': 4393, 'en': 4394, 'immers': 4395, 'entranc': 4396, 'dirt': 4397, 'straightforward': 4398, 'tierney': 4399, 'wwe': 4400, 'springer': 4401, 'recogniz': 4402, 'sublim': 4403, 'misguid': 4404, 'cattl': 4405, 'morbid': 4406, 'policeman': 4407, 'quaid': 4408, 'yearn': 4409, 'convert': 4410, 'heartfelt': 4411, 'injuri': 4412, 'watcher': 4413, 'bernard': 4414, 'skeptic': 4415, 'lindsay': 4416, 'variat': 4417, 'missil': 4418, 'ace': 4419, '1986': 4420, 'nolan': 4421, 'sassi': 4422, 'geni': 4423, 'moreov': 4424, 'transcend': 4425, 'laurenc': 4426, 'entitl': 4427, 'esther': 4428, 'nemesi': 4429, 'net': 4430, 'ratso': 4431, 'clan': 4432, 'duel': 4433, 'attenborough': 4434, 'enthral': 4435, 'obstacl': 4436, 'puppi': 4437, 'reliabl': 4438, 'unexplain': 4439, 'brood': 4440, 'setup': 4441, 'facil': 4442, 'dont': 4443, '1979': 4444, 'enabl': 4445, 'characteris': 4446, 'bean': 4447, 'hopelessli': 4448, 'artsi': 4449, 'moder': 4450, 'grin': 4451, 'uncut': 4452, 'hk': 4453, 'steadi': 4454, 'youngest': 4455, 'mytholog': 4456, 'kitti': 4457, 'egg': 4458, 'poe': 4459, 'rosemari': 4460, 'carlito': 4461, 'spiral': 4462, 'kidman': 4463, 'buzz': 4464, 'vader': 4465, 'diari': 4466, 'out': 4467, 'graini': 4468, 'cruelti': 4469, 'tyler': 4470, 'bye': 4471, 'effici': 4472, '1969': 4473, 'baffl': 4474, 'clueless': 4475, 'fuel': 4476, 'hammi': 4477, 'bounc': 4478, 'decept': 4479, 'acquaint': 4480, 'narrow': 4481, 'gillian': 4482, 'disastr': 4483, 'oblig': 4484, 'exterior': 4485, 'spontan': 4486, 'heap': 4487, 'christin': 4488, 'sweat': 4489, 'niec': 4490, 'weather': 4491, 'underworld': 4492, 'athlet': 4493, 'patricia': 4494, 'bewar': 4495, 'preming': 4496, 'despic': 4497, 'kline': 4498, 'martha': 4499, 'hain': 4500, 'gina': 4501, 'bronson': 4502, 'brendan': 4503, 'insipid': 4504, 'harmless': 4505, '19': 4506, 'sooner': 4507, 'mayhem': 4508, 'taboo': 4509, 'candl': 4510, 'angst': 4511, 'uh': 4512, 'shatter': 4513, 'injur': 4514, 'biker': 4515, 'housewif': 4516, 'loath': 4517, 'sleepwalk': 4518, 'enlist': 4519, 'scar': 4520, '73': 4521, 'circu': 4522, 'tick': 4523, 'dilemma': 4524, 'hepburn': 4525, 'viewpoint': 4526, 'astound': 4527, 'outlaw': 4528, 'fontain': 4529, 'suprem': 4530, 'dandi': 4531, 'trigger': 4532, 'loi': 4533, 'goof': 4534, 'renaiss': 4535, 'headach': 4536, 'analyz': 4537, 'virtu': 4538, 'lester': 4539, 'preachi': 4540, 'rome': 4541, 'mermaid': 4542, 'stair': 4543, 'bent': 4544, 'intric': 4545, 'oldest': 4546, 'dismal': 4547, 'phenomenon': 4548, 'surgeri': 4549, 'slimi': 4550, 'cassavet': 4551, 'spade': 4552, 'redund': 4553, 'tripl': 4554, 'whore': 4555, 'macho': 4556, 'idol': 4557, 'ebert': 4558, 'salt': 4559, 'gere': 4560, 'filth': 4561, 'sox': 4562, 'boston': 4563, 'fluff': 4564, 'overlong': 4565, 'hokey': 4566, 'immatur': 4567, 'amor': 4568, 'camcord': 4569, 'hostag': 4570, 'stimul': 4571, 'claustrophob': 4572, 'contempt': 4573, 'foolish': 4574, 'hooker': 4575, 'scorses': 4576, 'guin': 4577, 'zoom': 4578, 'dish': 4579, 'steer': 4580, 'corbett': 4581, 'glorifi': 4582, 'ariel': 4583, 'assert': 4584, 'mount': 4585, 'frantic': 4586, 'alvin': 4587, 'conquer': 4588, 'muscl': 4589, 'trivia': 4590, 'proport': 4591, '1976': 4592, 'spinal': 4593, 'messi': 4594, 'cow': 4595, 'fascist': 4596, 'remad': 4597, 'schlock': 4598, 'widescreen': 4599, 'faint': 4600, 'perman': 4601, 'naschi': 4602, '1981': 4603, 'obligatori': 4604, 'nolt': 4605, 'radiat': 4606, 'rhyme': 4607, 'preced': 4608, 'corman': 4609, 'antagonist': 4610, 'transplant': 4611, 'flag': 4612, 'astronaut': 4613, 'margin': 4614, 'cush': 4615, 'beard': 4616, 'shred': 4617, 'down': 4618, 'shield': 4619, 'dwarf': 4620, 'joker': 4621, 'keen': 4622, 'spree': 4623, 'gabl': 4624, 'strongest': 4625, 'flirt': 4626, 'flashi': 4627, 'zane': 4628, 'cohen': 4629, 'harold': 4630, 'mutual': 4631, 'gasp': 4632, 'strive': 4633, 'resum': 4634, '28': 4635, 'ritchi': 4636, 'deer': 4637, 'sensual': 4638, 'barn': 4639, 'archiv': 4640, '1945': 4641, 'departur': 4642, 'info': 4643, 'someday': 4644, 'wield': 4645, 'bitten': 4646, 'off': 4647, 'flock': 4648, 'instruct': 4649, 'mobil': 4650, 'neurot': 4651, 'scandal': 4652, 'triangl': 4653, 'brush': 4654, 'hara': 4655, 'bachelor': 4656, 'persuad': 4657, 'repris': 4658, 'vaniti': 4659, 'interestingli': 4660, 'fishburn': 4661, 'inflict': 4662, 'claud': 4663, 'divin': 4664, 'boob': 4665, 'discern': 4666, 'www': 4667, '95': 4668, 'carey': 4669, 'raj': 4670, 'danish': 4671, 'mol': 4672, 'aborigin': 4673, 'artwork': 4674, 'hapless': 4675, 'clad': 4676, 'helm': 4677, 'neill': 4678, 'miracul': 4679, 'hilar': 4680, 'senior': 4681, 'colin': 4682, 'recit': 4683, 'frontier': 4684, 'parson': 4685, 'hug': 4686, 'dame': 4687, 'cb': 4688, 'submit': 4689, 'biblic': 4690, 'axe': 4691, 'dim': 4692, 'carlo': 4693, 'cycl': 4694, 'fragil': 4695, 'prophet': 4696, 'pickford': 4697, 'heartwarm': 4698, 'earnest': 4699, 'proclaim': 4700, 'dylan': 4701, 'vibrant': 4702, 'melissa': 4703, 'pacif': 4704, 'cliffhang': 4705, 'traffic': 4706, 'casino': 4707, 'undermin': 4708, 'anton': 4709, 'rot': 4710, 'mobster': 4711, 'pixar': 4712, 'cher': 4713, 'bate': 4714, 'timberlak': 4715, 'ish': 4716, 'europa': 4717, 'jade': 4718, 'luka': 4719, 'kathryn': 4720, 'loretta': 4721, 'harrison': 4722, 'wendigo': 4723, 'banter': 4724, 'shepherd': 4725, 'jo': 4726, 'nope': 4727, 'legitim': 4728, 'jordan': 4729, 'foil': 4730, 'rooki': 4731, 'http': 4732, 'cerebr': 4733, 'illus': 4734, 'token': 4735, 'northern': 4736, 'static': 4737, 'lui': 4738, 'eli': 4739, 'mason': 4740, 'uma': 4741, 'pc': 4742, 'milo': 4743, 'bikini': 4744, 'wardrob': 4745, 'aris': 4746, 'akin': 4747, 'sicken': 4748, 'toronto': 4749, 'seedi': 4750, 'alexandr': 4751, 'vile': 4752, 'misfortun': 4753, 'antholog': 4754, 'blatantli': 4755, 'electron': 4756, 'articl': 4757, 'winchest': 4758, 'vanessa': 4759, 'orphan': 4760, 'breakfast': 4761, 'marlon': 4762, 'choke': 4763, 'holocaust': 4764, 'mathieu': 4765, 'isra': 4766, 'feast': 4767, 'trier': 4768, 'flavor': 4769, 'redneck': 4770, 'razor': 4771, 'venom': 4772, 'estrang': 4773, 'lucil': 4774, 'bondag': 4775, 'smack': 4776, 'turd': 4777, 'ideolog': 4778, 'howl': 4779, 'feminin': 4780, 'outdat': 4781, 'clinic': 4782, 'glare': 4783, 'leather': 4784, 'comprehend': 4785, 'charlton': 4786, 'boyer': 4787, 'highway': 4788, 'ceremoni': 4789, 'gilbert': 4790, 'huston': 4791, 'shorter': 4792, 'audrey': 4793, 'knightley': 4794, 'retriev': 4795, 'abund': 4796, 'tack': 4797, 'disregard': 4798, 'swept': 4799, 'nightclub': 4800, 'magician': 4801, 'psych': 4802, 'wrestler': 4803, 'dudley': 4804, 'affleck': 4805, 'oppon': 4806, 'frog': 4807, 'linear': 4808, 'peer': 4809, 'cartoonish': 4810, 'styliz': 4811, 'fifth': 4812, 'deem': 4813, 'gunga': 4814, 'compris': 4815, 'lifeless': 4816, 'salman': 4817, 'summar': 4818, 'plate': 4819, 'phenomen': 4820, 'breakdown': 4821, 'cemeteri': 4822, 'moe': 4823, '4th': 4824, 'btw': 4825, 'whack': 4826, 'spawn': 4827, 'uniformli': 4828, 'spine': 4829, 'sleaz': 4830, 'tara': 4831, 'energet': 4832, 'bastard': 4833, 'bogu': 4834, 'conrad': 4835, 'potter': 4836, 'corn': 4837, 'toe': 4838, 'lavish': 4839, 'senat': 4840, 'cuban': 4841, 'einstein': 4842, 'newer': 4843, 'evolut': 4844, '1991': 4845, 'client': 4846, 'chip': 4847, 'collector': 4848, 'durat': 4849, 'mitch': 4850, 'snatch': 4851, '1994': 4852, 'greet': 4853, 'monument': 4854, 'boo': 4855, 'braveheart': 4856, 'lighter': 4857, 'deliver': 4858, 'goldsworthi': 4859, 'liu': 4860, 'bori': 4861, 'replay': 4862, 'kent': 4863, 'outright': 4864, 'inaccuraci': 4865, '1977': 4866, 'eleven': 4867, 'nina': 4868, 'armstrong': 4869, 'appl': 4870, 'wtf': 4871, 'mcqueen': 4872, 'gilliam': 4873, 'undead': 4874, 'trauma': 4875, 'clara': 4876, 'belli': 4877, 'firmli': 4878, '1974': 4879, 'healthi': 4880, 'neatli': 4881, 'ol': 4882, 'occup': 4883, 'alleg': 4884, 'kazan': 4885, 'undertak': 4886, 'spectacl': 4887, 'fluid': 4888, 'judd': 4889, 'jam': 4890, 'pronounc': 4891, 'embark': 4892, 'constitut': 4893, 'signal': 4894, 'evelyn': 4895, 'bulk': 4896, 'sorrow': 4897, 'ie': 4898, 'randolph': 4899, 'jare': 4900, 'cecil': 4901, 'jedi': 4902, 'capot': 4903, 'historian': 4904, 'luxuri': 4905, 'lex': 4906, 'jule': 4907, 'creek': 4908, 'genet': 4909, 'porter': 4910, 'kiddi': 4911, 'tokyo': 4912, 'unsuspect': 4913, 'walt': 4914, 'conan': 4915, 'antonio': 4916, 'miniseri': 4917, 'fruit': 4918, 'bsg': 4919, 'inclus': 4920, 'pioneer': 4921, 'meal': 4922, 'pepper': 4923, 'inaccur': 4924, 'sacrif': 4925, 'lauren': 4926, 'forgiven': 4927, 'congratul': 4928, 'relentless': 4929, 'goldblum': 4930, 'subtli': 4931, 'vain': 4932, 'palm': 4933, 'ash': 4934, 'curtain': 4935, 'groan': 4936, 'comprehens': 4937, '1985': 4938, 'paula': 4939, 'bait': 4940, 'vignett': 4941, 'id': 4942, 'galaxi': 4943, 'mum': 4944, 'blur': 4945, 'propheci': 4946, 'basket': 4947, 'knee': 4948, 'decapit': 4949, 'abound': 4950, 'rosario': 4951, 'cape': 4952, 'comb': 4953, 'roar': 4954, 'sidewalk': 4955, 'poker': 4956, 'miami': 4957, 'carmen': 4958, 'spray': 4959, 'unattract': 4960, 'truman': 4961, 'lanc': 4962, 'aussi': 4963, 'scariest': 4964, 'omin': 4965, 'profil': 4966, 'bravo': 4967, 'casper': 4968, 'turtl': 4969, 'asset': 4970, 'handicap': 4971, 'growth': 4972, 'victorian': 4973, 'ingrid': 4974, 'modest': 4975, 'macabr': 4976, 'verg': 4977, '21st': 4978, 'orchestr': 4979, 'cypher': 4980, 'spill': 4981, 'frontal': 4982, 'dubiou': 4983, 'assort': 4984, 'jill': 4985, 'optimist': 4986, 'substanti': 4987, 'incorrect': 4988, 'monti': 4989, 'weaker': 4990, 'hostil': 4991, 'scarfac': 4992, 'rapidli': 4993, 'motorcycl': 4994, 'detach': 4995, 'playboy': 4996, 'ghetto': 4997, 'vastli': 4998, 'sophi': 4999}\n"
     ]
    }
   ],
   "source": [
    "print(word_dict)"
   ]
  },
  {
   "cell_type": "markdown",
   "metadata": {},
   "source": [
    "**Question:** What are the five most frequently appearing (tokenized) words in the training set? Does it makes sense that these words appear frequently in the training set?"
   ]
  },
  {
   "cell_type": "markdown",
   "metadata": {},
   "source": [
    "**Answer:**"
   ]
  },
  {
   "cell_type": "code",
   "execution_count": 14,
   "metadata": {},
   "outputs": [
    {
     "name": "stdout",
     "output_type": "stream",
     "text": [
      "The five most frequently appearing words in the training set are:\n",
      "  {'movi': 51695, 'film': 48190, 'one': 27741, 'like': 22799, 'time': 16191}\n"
     ]
    }
   ],
   "source": [
    "# TODO: Use this space to determine the five most frequently appearing words in the training set.\n",
    "word_count = word_counter(train_X)\n",
    "most_words = dict(word_count.most_common(5))           \n",
    "print(\"The five most frequently appearing words in the training set are:\\n \", most_words)"
   ]
  },
  {
   "cell_type": "markdown",
   "metadata": {},
   "source": [
    "### Save `word_dict`\n",
    "\n",
    "Later on when we construct an endpoint which processes a submitted review we will need to make use of the `word_dict` which we have created. As such, we will save it to a file now for future use."
   ]
  },
  {
   "cell_type": "code",
   "execution_count": 15,
   "metadata": {},
   "outputs": [],
   "source": [
    "data_dir = '../data/pytorch' # The folder we will use for storing data\n",
    "if not os.path.exists(data_dir): # Make sure that the folder exists\n",
    "    os.makedirs(data_dir)"
   ]
  },
  {
   "cell_type": "code",
   "execution_count": 16,
   "metadata": {},
   "outputs": [],
   "source": [
    "with open(os.path.join(data_dir, 'word_dict.pkl'), \"wb\") as f:\n",
    "    pickle.dump(word_dict, f)"
   ]
  },
  {
   "cell_type": "markdown",
   "metadata": {},
   "source": [
    "### Transform the reviews\n",
    "\n",
    "Now that we have our word dictionary which allows us to transform the words appearing in the reviews into integers, it is time to make use of it and convert our reviews to their integer sequence representation, making sure to pad or truncate to a fixed length, which in our case is `500`."
   ]
  },
  {
   "cell_type": "code",
   "execution_count": 17,
   "metadata": {},
   "outputs": [],
   "source": [
    "def convert_and_pad(word_dict, sentence, pad=500):\n",
    "    NOWORD = 0 # We will use 0 to represent the 'no word' category\n",
    "    INFREQ = 1 # and we use 1 to represent the infrequent words, i.e., words not appearing in word_dict\n",
    "    \n",
    "    working_sentence = [NOWORD] * pad\n",
    "    \n",
    "    for word_index, word in enumerate(sentence[:pad]):\n",
    "        if word in word_dict:\n",
    "            working_sentence[word_index] = word_dict[word]\n",
    "        else:\n",
    "            working_sentence[word_index] = INFREQ\n",
    "            \n",
    "    return working_sentence, min(len(sentence), pad)\n",
    "\n",
    "def convert_and_pad_data(word_dict, data, pad=500):\n",
    "    result = []\n",
    "    lengths = []\n",
    "    \n",
    "    for sentence in data:\n",
    "        converted, leng = convert_and_pad(word_dict, sentence, pad)\n",
    "        result.append(converted)\n",
    "        lengths.append(leng)\n",
    "        \n",
    "    return np.array(result), np.array(lengths)"
   ]
  },
  {
   "cell_type": "code",
   "execution_count": 18,
   "metadata": {},
   "outputs": [],
   "source": [
    "train_X, train_X_len = convert_and_pad_data(word_dict, train_X)\n",
    "test_X, test_X_len = convert_and_pad_data(word_dict, test_X)"
   ]
  },
  {
   "cell_type": "markdown",
   "metadata": {},
   "source": [
    "As a quick check to make sure that things are working as intended, check to see what one of the reviews in the training set looks like after having been processeed. Does this look reasonable? What is the length of a review in the training set?"
   ]
  },
  {
   "cell_type": "code",
   "execution_count": 19,
   "metadata": {},
   "outputs": [
    {
     "data": {
      "text/plain": [
       "array([[3606,    1,    1, ...,    0,    0,    0],\n",
       "       [  37,   10, 2083, ...,    0,    0,    0],\n",
       "       [  24,   32,   24, ...,    0,    0,    0],\n",
       "       ...,\n",
       "       [   1,  121,  734, ...,    0,    0,    0],\n",
       "       [3732,    7,  531, ...,    0,    0,    0],\n",
       "       [ 792,   43,   61, ...,    0,    0,    0]])"
      ]
     },
     "execution_count": 19,
     "metadata": {},
     "output_type": "execute_result"
    }
   ],
   "source": [
    "# Use this cell to examine one of the processed reviews to make sure everything is working as intended.\n",
    "train_X[:20]"
   ]
  },
  {
   "cell_type": "markdown",
   "metadata": {},
   "source": [
    "**Question:** In the cells above we use the `preprocess_data` and `convert_and_pad_data` methods to process both the training and testing set. Why or why not might this be a problem?"
   ]
  },
  {
   "cell_type": "markdown",
   "metadata": {},
   "source": [
    "**Answer:**\n",
    "\n",
    "The preprocess_data method applies the review_to_words method to each of the reviews in the training and testing datasets. The  convert_and_pad_data process by fixing the length, which in our case is 500. The first will taking time, but the second one can miss some information."
   ]
  },
  {
   "cell_type": "markdown",
   "metadata": {},
   "source": [
    "## Step 3: Upload the data to S3\n",
    "\n",
    "As in the XGBoost notebook, we will need to upload the training dataset to S3 in order for our training code to access it. For now we will save it locally and we will upload to S3 later on.\n",
    "\n",
    "### Save the processed training dataset locally\n",
    "\n",
    "It is important to note the format of the data that we are saving as we will need to know it when we write the training code. In our case, each row of the dataset has the form `label`, `length`, `review[500]` where `review[500]` is a sequence of `500` integers representing the words in the review."
   ]
  },
  {
   "cell_type": "code",
   "execution_count": 20,
   "metadata": {},
   "outputs": [],
   "source": [
    "import pandas as pd\n",
    "    \n",
    "pd.concat([pd.DataFrame(train_y), pd.DataFrame(train_X_len), pd.DataFrame(train_X)], axis=1) \\\n",
    "        .to_csv(os.path.join(data_dir, 'train.csv'), header=False, index=False)"
   ]
  },
  {
   "cell_type": "markdown",
   "metadata": {},
   "source": [
    "### Uploading the training data\n",
    "\n",
    "\n",
    "Next, we need to upload the training data to the SageMaker default S3 bucket so that we can provide access to it while training our model."
   ]
  },
  {
   "cell_type": "code",
   "execution_count": 21,
   "metadata": {},
   "outputs": [],
   "source": [
    "import sagemaker\n",
    "\n",
    "sagemaker_session = sagemaker.Session()\n",
    "\n",
    "bucket = sagemaker_session.default_bucket()\n",
    "prefix = 'sagemaker/sentiment_rnn'\n",
    "\n",
    "role = sagemaker.get_execution_role()"
   ]
  },
  {
   "cell_type": "code",
   "execution_count": 22,
   "metadata": {},
   "outputs": [],
   "source": [
    "input_data = sagemaker_session.upload_data(path=data_dir, bucket=bucket, key_prefix=prefix)"
   ]
  },
  {
   "cell_type": "markdown",
   "metadata": {},
   "source": [
    "**NOTE:** The cell above uploads the entire contents of our data directory. This includes the `word_dict.pkl` file. This is fortunate as we will need this later on when we create an endpoint that accepts an arbitrary review. For now, we will just take note of the fact that it resides in the data directory (and so also in the S3 training bucket) and that we will need to make sure it gets saved in the model directory."
   ]
  },
  {
   "cell_type": "markdown",
   "metadata": {},
   "source": [
    "## Step 4: Build and Train the PyTorch Model\n",
    "\n",
    "In the XGBoost notebook we discussed what a model is in the SageMaker framework. In particular, a model comprises three objects\n",
    "\n",
    " - Model Artifacts,\n",
    " - Training Code, and\n",
    " - Inference Code,\n",
    " \n",
    "each of which interact with one another. In the XGBoost example we used training and inference code that was provided by Amazon. Here we will still be using containers provided by Amazon with the added benefit of being able to include our own custom code.\n",
    "\n",
    "We will start by implementing our own neural network in PyTorch along with a training script. For the purposes of this project we have provided the necessary model object in the `model.py` file, inside of the `train` folder. You can see the provided implementation by running the cell below."
   ]
  },
  {
   "cell_type": "code",
   "execution_count": 23,
   "metadata": {},
   "outputs": [
    {
     "name": "stdout",
     "output_type": "stream",
     "text": [
      "\u001b[34mimport\u001b[39;49;00m \u001b[04m\u001b[36mtorch\u001b[39;49;00m\u001b[04m\u001b[36m.\u001b[39;49;00m\u001b[04m\u001b[36mnn\u001b[39;49;00m \u001b[34mas\u001b[39;49;00m \u001b[04m\u001b[36mnn\u001b[39;49;00m\r\n",
      "\r\n",
      "\u001b[34mclass\u001b[39;49;00m \u001b[04m\u001b[32mLSTMClassifier\u001b[39;49;00m(nn.Module):\r\n",
      "    \u001b[33m\"\"\"\u001b[39;49;00m\r\n",
      "\u001b[33m    This is the simple RNN model we will be using to perform Sentiment Analysis.\u001b[39;49;00m\r\n",
      "\u001b[33m    \"\"\"\u001b[39;49;00m\r\n",
      "\r\n",
      "    \u001b[34mdef\u001b[39;49;00m \u001b[32m__init__\u001b[39;49;00m(\u001b[36mself\u001b[39;49;00m, embedding_dim, hidden_dim, vocab_size):\r\n",
      "        \u001b[33m\"\"\"\u001b[39;49;00m\r\n",
      "\u001b[33m        Initialize the model by settingg up the various layers.\u001b[39;49;00m\r\n",
      "\u001b[33m        \"\"\"\u001b[39;49;00m\r\n",
      "        \u001b[36msuper\u001b[39;49;00m(LSTMClassifier, \u001b[36mself\u001b[39;49;00m).\u001b[32m__init__\u001b[39;49;00m()\r\n",
      "\r\n",
      "        \u001b[36mself\u001b[39;49;00m.embedding = nn.Embedding(vocab_size, embedding_dim, padding_idx=\u001b[34m0\u001b[39;49;00m)\r\n",
      "        \u001b[36mself\u001b[39;49;00m.lstm = nn.LSTM(embedding_dim, hidden_dim)\r\n",
      "        \u001b[36mself\u001b[39;49;00m.dense = nn.Linear(in_features=hidden_dim, out_features=\u001b[34m1\u001b[39;49;00m)\r\n",
      "        \u001b[36mself\u001b[39;49;00m.sig = nn.Sigmoid()\r\n",
      "        \r\n",
      "        \u001b[36mself\u001b[39;49;00m.word_dict = \u001b[34mNone\u001b[39;49;00m\r\n",
      "\r\n",
      "    \u001b[34mdef\u001b[39;49;00m \u001b[32mforward\u001b[39;49;00m(\u001b[36mself\u001b[39;49;00m, x):\r\n",
      "        \u001b[33m\"\"\"\u001b[39;49;00m\r\n",
      "\u001b[33m        Perform a forward pass of our model on some input.\u001b[39;49;00m\r\n",
      "\u001b[33m        \"\"\"\u001b[39;49;00m\r\n",
      "        x = x.t()\r\n",
      "        lengths = x[\u001b[34m0\u001b[39;49;00m,:]\r\n",
      "        reviews = x[\u001b[34m1\u001b[39;49;00m:,:]\r\n",
      "        embeds = \u001b[36mself\u001b[39;49;00m.embedding(reviews)\r\n",
      "        lstm_out, _ = \u001b[36mself\u001b[39;49;00m.lstm(embeds)\r\n",
      "        out = \u001b[36mself\u001b[39;49;00m.dense(lstm_out)\r\n",
      "        out = out[lengths - \u001b[34m1\u001b[39;49;00m, \u001b[36mrange\u001b[39;49;00m(\u001b[36mlen\u001b[39;49;00m(lengths))]\r\n",
      "        \u001b[34mreturn\u001b[39;49;00m \u001b[36mself\u001b[39;49;00m.sig(out.squeeze())\r\n"
     ]
    }
   ],
   "source": [
    "!pygmentize train/model.py"
   ]
  },
  {
   "cell_type": "markdown",
   "metadata": {},
   "source": [
    "The important takeaway from the implementation provided is that there are three parameters that we may wish to tweak to improve the performance of our model. These are the embedding dimension, the hidden dimension and the size of the vocabulary. We will likely want to make these parameters configurable in the training script so that if we wish to modify them we do not need to modify the script itself. We will see how to do this later on. To start we will write some of the training code in the notebook so that we can more easily diagnose any issues that arise.\n",
    "\n",
    "First we will load a small portion of the training data set to use as a sample. It would be very time consuming to try and train the model completely in the notebook as we do not have access to a gpu and the compute instance that we are using is not particularly powerful. However, we can work on a small bit of the data to get a feel for how our training script is behaving."
   ]
  },
  {
   "cell_type": "code",
   "execution_count": 24,
   "metadata": {},
   "outputs": [],
   "source": [
    "import torch\n",
    "import torch.utils.data\n",
    "\n",
    "# Read in only the first 250 rows\n",
    "train_sample = pd.read_csv(os.path.join(data_dir, 'train.csv'), header=None, names=None, nrows=250)\n",
    "\n",
    "# Turn the input pandas dataframe into tensors\n",
    "train_sample_y = torch.from_numpy(train_sample[[0]].values).float().squeeze()\n",
    "train_sample_X = torch.from_numpy(train_sample.drop([0], axis=1).values).long()\n",
    "\n",
    "# Build the dataset\n",
    "train_sample_ds = torch.utils.data.TensorDataset(train_sample_X, train_sample_y)\n",
    "# Build the dataloader\n",
    "train_sample_dl = torch.utils.data.DataLoader(train_sample_ds, batch_size=50)"
   ]
  },
  {
   "cell_type": "markdown",
   "metadata": {},
   "source": [
    "### (TODO) Writing the training method\n",
    "\n",
    "Next we need to write the training code itself. This should be very similar to training methods that you have written before to train PyTorch models. We will leave any difficult aspects such as model saving / loading and parameter loading until a little later."
   ]
  },
  {
   "cell_type": "code",
   "execution_count": 25,
   "metadata": {},
   "outputs": [],
   "source": [
    "def train(model, train_loader, epochs, optimizer, loss_fn, device):\n",
    "    for epoch in range(1, epochs + 1):\n",
    "        model.train()\n",
    "        total_loss = 0\n",
    "        for batch in train_loader:         \n",
    "            batch_X, batch_y = batch\n",
    "            \n",
    "            batch_X = batch_X.to(device)\n",
    "            batch_y = batch_y.to(device)\n",
    "            \n",
    "            # TODO: Complete this train method to train the model provided.\n",
    "            optimizer.zero_grad()\n",
    "            output = model.forward(batch_X)\n",
    "            loss = loss_fn(output, batch_y)\n",
    "            loss.backward()\n",
    "            optimizer.step()\n",
    "            total_loss += loss.data.item()\n",
    "        print(\"Epoch: {}, BCELoss: {}\".format(epoch, total_loss / len(train_loader)))"
   ]
  },
  {
   "cell_type": "markdown",
   "metadata": {},
   "source": [
    "Supposing we have the training method above, we will test that it is working by writing a bit of code in the notebook that executes our training method on the small sample training set that we loaded earlier. The reason for doing this in the notebook is so that we have an opportunity to fix any errors that arise early when they are easier to diagnose."
   ]
  },
  {
   "cell_type": "code",
   "execution_count": 26,
   "metadata": {},
   "outputs": [
    {
     "name": "stdout",
     "output_type": "stream",
     "text": [
      "Epoch: 1, BCELoss: 0.6893160700798034\n",
      "Epoch: 2, BCELoss: 0.6789053678512573\n",
      "Epoch: 3, BCELoss: 0.6697577476501465\n",
      "Epoch: 4, BCELoss: 0.6595637083053589\n",
      "Epoch: 5, BCELoss: 0.6472280383110046\n"
     ]
    }
   ],
   "source": [
    "import torch.optim as optim\n",
    "from train.model import LSTMClassifier\n",
    "\n",
    "device = torch.device(\"cuda\" if torch.cuda.is_available() else \"cpu\")\n",
    "model = LSTMClassifier(32, 100, 5000).to(device)\n",
    "optimizer = optim.Adam(model.parameters())\n",
    "loss_fn = torch.nn.BCELoss()\n",
    "\n",
    "train(model, train_sample_dl, 5, optimizer, loss_fn, device)"
   ]
  },
  {
   "cell_type": "markdown",
   "metadata": {},
   "source": [
    "In order to construct a PyTorch model using SageMaker we must provide SageMaker with a training script. We may optionally include a directory which will be copied to the container and from which our training code will be run. When the training container is executed it will check the uploaded directory (if there is one) for a `requirements.txt` file and install any required Python libraries, after which the training script will be run."
   ]
  },
  {
   "cell_type": "markdown",
   "metadata": {},
   "source": [
    "### (TODO) Training the model\n",
    "\n",
    "When a PyTorch model is constructed in SageMaker, an entry point must be specified. This is the Python file which will be executed when the model is trained. Inside of the `train` directory is a file called `train.py` which has been provided and which contains most of the necessary code to train our model. The only thing that is missing is the implementation of the `train()` method which you wrote earlier in this notebook.\n",
    "\n",
    "**TODO**: Copy the `train()` method written above and paste it into the `train/train.py` file where required.\n",
    "\n",
    "The way that SageMaker passes hyperparameters to the training script is by way of arguments. These arguments can then be parsed and used in the training script. To see how this is done take a look at the provided `train/train.py` file."
   ]
  },
  {
   "cell_type": "code",
   "execution_count": 27,
   "metadata": {},
   "outputs": [
    {
     "name": "stderr",
     "output_type": "stream",
     "text": [
      "train_instance_count has been renamed in sagemaker>=2.\n",
      "See: https://sagemaker.readthedocs.io/en/stable/v2.html for details.\n",
      "train_instance_type has been renamed in sagemaker>=2.\n",
      "See: https://sagemaker.readthedocs.io/en/stable/v2.html for details.\n"
     ]
    }
   ],
   "source": [
    "from sagemaker.pytorch import PyTorch\n",
    "\n",
    "estimator = PyTorch(entry_point=\"train.py\",\n",
    "                    source_dir=\"train\",\n",
    "                    role=role,\n",
    "                    framework_version='0.4.0',\n",
    "                    py_version=\"py3\",\n",
    "                    train_instance_count=1,\n",
    "                    train_instance_type='ml.m4.xlarge',\n",
    "                    hyperparameters={\n",
    "                        'epochs': 10,\n",
    "                        'hidden_dim': 200,\n",
    "                    })"
   ]
  },
  {
   "cell_type": "code",
   "execution_count": 28,
   "metadata": {},
   "outputs": [
    {
     "name": "stdout",
     "output_type": "stream",
     "text": [
      "2020-12-31 18:47:36 Starting - Starting the training job...\n",
      "2020-12-31 18:48:00 Starting - Launching requested ML instancesProfilerReport-1609440455: InProgress\n",
      "......\n",
      "2020-12-31 18:49:00 Starting - Preparing the instances for training......\n",
      "2020-12-31 18:50:01 Downloading - Downloading input data...\n",
      "2020-12-31 18:50:30 Training - Training image download completed. Training in progress..\u001b[34mbash: cannot set terminal process group (-1): Inappropriate ioctl for device\u001b[0m\n",
      "\u001b[34mbash: no job control in this shell\u001b[0m\n",
      "\u001b[34m2020-12-31 18:50:31,494 sagemaker-containers INFO     Imported framework sagemaker_pytorch_container.training\u001b[0m\n",
      "\u001b[34m2020-12-31 18:50:31,498 sagemaker-containers INFO     No GPUs detected (normal if no gpus installed)\u001b[0m\n",
      "\u001b[34m2020-12-31 18:50:31,512 sagemaker_pytorch_container.training INFO     Block until all host DNS lookups succeed.\u001b[0m\n",
      "\u001b[34m2020-12-31 18:50:31,517 sagemaker_pytorch_container.training INFO     Invoking user training script.\u001b[0m\n",
      "\u001b[34m2020-12-31 18:51:03,378 sagemaker-containers INFO     Module train does not provide a setup.py. \u001b[0m\n",
      "\u001b[34mGenerating setup.py\u001b[0m\n",
      "\u001b[34m2020-12-31 18:51:03,379 sagemaker-containers INFO     Generating setup.cfg\u001b[0m\n",
      "\u001b[34m2020-12-31 18:51:03,379 sagemaker-containers INFO     Generating MANIFEST.in\u001b[0m\n",
      "\u001b[34m2020-12-31 18:51:03,379 sagemaker-containers INFO     Installing module with the following command:\u001b[0m\n",
      "\u001b[34m/usr/bin/python -m pip install -U . -r requirements.txt\u001b[0m\n",
      "\u001b[34mProcessing /opt/ml/code\u001b[0m\n",
      "\u001b[34mCollecting pandas (from -r requirements.txt (line 1))\n",
      "  Downloading https://files.pythonhosted.org/packages/74/24/0cdbf8907e1e3bc5a8da03345c23cbed7044330bb8f73bb12e711a640a00/pandas-0.24.2-cp35-cp35m-manylinux1_x86_64.whl (10.0MB)\u001b[0m\n",
      "\u001b[34mCollecting numpy (from -r requirements.txt (line 2))\u001b[0m\n",
      "\u001b[34m  Downloading https://files.pythonhosted.org/packages/b5/36/88723426b4ff576809fec7d73594fe17a35c27f8d01f93637637a29ae25b/numpy-1.18.5-cp35-cp35m-manylinux1_x86_64.whl (19.9MB)\u001b[0m\n",
      "\u001b[34mCollecting nltk (from -r requirements.txt (line 3))\n",
      "  Downloading https://files.pythonhosted.org/packages/92/75/ce35194d8e3022203cca0d2f896dbb88689f9b3fce8e9f9cff942913519d/nltk-3.5.zip (1.4MB)\u001b[0m\n",
      "\u001b[34mCollecting beautifulsoup4 (from -r requirements.txt (line 4))\n",
      "  Downloading https://files.pythonhosted.org/packages/d1/41/e6495bd7d3781cee623ce23ea6ac73282a373088fcd0ddc809a047b18eae/beautifulsoup4-4.9.3-py3-none-any.whl (115kB)\u001b[0m\n",
      "\u001b[34mCollecting html5lib (from -r requirements.txt (line 5))\n",
      "  Downloading https://files.pythonhosted.org/packages/6c/dd/a834df6482147d48e225a49515aabc28974ad5a4ca3215c18a882565b028/html5lib-1.1-py2.py3-none-any.whl (112kB)\u001b[0m\n",
      "\u001b[34mRequirement already satisfied, skipping upgrade: python-dateutil>=2.5.0 in /usr/local/lib/python3.5/dist-packages (from pandas->-r requirements.txt (line 1)) (2.7.5)\u001b[0m\n",
      "\u001b[34mCollecting pytz>=2011k (from pandas->-r requirements.txt (line 1))\n",
      "  Downloading https://files.pythonhosted.org/packages/89/06/2c2d3034b4d6bf22f2a4ae546d16925898658a33b4400cfb7e2c1e2871a3/pytz-2020.5-py2.py3-none-any.whl (510kB)\u001b[0m\n",
      "\u001b[34mRequirement already satisfied, skipping upgrade: click in /usr/local/lib/python3.5/dist-packages (from nltk->-r requirements.txt (line 3)) (7.0)\u001b[0m\n",
      "\u001b[34mCollecting joblib (from nltk->-r requirements.txt (line 3))\n",
      "  Downloading https://files.pythonhosted.org/packages/28/5c/cf6a2b65a321c4a209efcdf64c2689efae2cb62661f8f6f4bb28547cf1bf/joblib-0.14.1-py2.py3-none-any.whl (294kB)\u001b[0m\n",
      "\u001b[34mCollecting regex (from nltk->-r requirements.txt (line 3))\u001b[0m\n",
      "\u001b[34m  Downloading https://files.pythonhosted.org/packages/2e/e4/3447fed9ab29944333f48730ecff4dca92f0868c5b188d6ab2b2078e32c2/regex-2020.11.13.tar.gz (694kB)\u001b[0m\n",
      "\u001b[34mCollecting tqdm (from nltk->-r requirements.txt (line 3))\n",
      "  Downloading https://files.pythonhosted.org/packages/05/bb/9403e1f30ed060e16835c9b275620ca89191a41ccc2b995b88efbc32dfd9/tqdm-4.55.0-py2.py3-none-any.whl (68kB)\u001b[0m\n",
      "\u001b[34mCollecting soupsieve>1.2; python_version >= \"3.0\" (from beautifulsoup4->-r requirements.txt (line 4))\n",
      "  Downloading https://files.pythonhosted.org/packages/02/fb/1c65691a9aeb7bd6ac2aa505b84cb8b49ac29c976411c6ab3659425e045f/soupsieve-2.1-py3-none-any.whl\u001b[0m\n",
      "\u001b[34mCollecting webencodings (from html5lib->-r requirements.txt (line 5))\n",
      "  Downloading https://files.pythonhosted.org/packages/f4/24/2a3e3df732393fed8b3ebf2ec078f05546de641fe1b667ee316ec1dcf3b7/webencodings-0.5.1-py2.py3-none-any.whl\u001b[0m\n",
      "\u001b[34mRequirement already satisfied, skipping upgrade: six>=1.9 in /usr/local/lib/python3.5/dist-packages (from html5lib->-r requirements.txt (line 5)) (1.11.0)\u001b[0m\n",
      "\u001b[34mBuilding wheels for collected packages: nltk, train, regex\n",
      "  Running setup.py bdist_wheel for nltk: started\n",
      "  Running setup.py bdist_wheel for nltk: finished with status 'done'\n",
      "  Stored in directory: /root/.cache/pip/wheels/ae/8c/3f/b1fe0ba04555b08b57ab52ab7f86023639a526d8bc8d384306\n",
      "  Running setup.py bdist_wheel for train: started\u001b[0m\n",
      "\u001b[34m  Running setup.py bdist_wheel for train: finished with status 'done'\n",
      "  Stored in directory: /tmp/pip-ephem-wheel-cache-u5iyyknj/wheels/35/24/16/37574d11bf9bde50616c67372a334f94fa8356bc7164af8ca3\n",
      "  Running setup.py bdist_wheel for regex: started\u001b[0m\n",
      "\u001b[34m  Running setup.py bdist_wheel for regex: finished with status 'done'\n",
      "  Stored in directory: /root/.cache/pip/wheels/27/f6/66/a4243e485a0ebc73dc59033ae26c48e82526f77dbfe158ac59\u001b[0m\n",
      "\u001b[34mSuccessfully built nltk train regex\u001b[0m\n",
      "\u001b[34mInstalling collected packages: numpy, pytz, pandas, joblib, regex, tqdm, nltk, soupsieve, beautifulsoup4, webencodings, html5lib, train\n",
      "  Found existing installation: numpy 1.15.4\n",
      "    Uninstalling numpy-1.15.4:\u001b[0m\n",
      "\u001b[34m      Successfully uninstalled numpy-1.15.4\u001b[0m\n",
      "\u001b[34mSuccessfully installed beautifulsoup4-4.9.3 html5lib-1.1 joblib-0.14.1 nltk-3.5 numpy-1.18.5 pandas-0.24.2 pytz-2020.5 regex-2020.11.13 soupsieve-2.1 tqdm-4.55.0 train-1.0.0 webencodings-0.5.1\u001b[0m\n",
      "\u001b[34mYou are using pip version 18.1, however version 20.3.3 is available.\u001b[0m\n",
      "\u001b[34mYou should consider upgrading via the 'pip install --upgrade pip' command.\u001b[0m\n",
      "\u001b[34m2020-12-31 18:51:26,531 sagemaker-containers INFO     No GPUs detected (normal if no gpus installed)\u001b[0m\n",
      "\u001b[34m2020-12-31 18:51:26,545 sagemaker-containers INFO     Invoking user script\n",
      "\u001b[0m\n",
      "\u001b[34mTraining Env:\n",
      "\u001b[0m\n",
      "\u001b[34m{\n",
      "    \"resource_config\": {\n",
      "        \"hosts\": [\n",
      "            \"algo-1\"\n",
      "        ],\n",
      "        \"network_interface_name\": \"eth0\",\n",
      "        \"current_host\": \"algo-1\"\n",
      "    },\n",
      "    \"model_dir\": \"/opt/ml/model\",\n",
      "    \"module_name\": \"train\",\n",
      "    \"module_dir\": \"s3://sagemaker-us-east-1-094726678601/sagemaker-pytorch-2020-12-31-18-47-35-629/source/sourcedir.tar.gz\",\n",
      "    \"log_level\": 20,\n",
      "    \"hosts\": [\n",
      "        \"algo-1\"\n",
      "    ],\n",
      "    \"output_data_dir\": \"/opt/ml/output/data\",\n",
      "    \"output_intermediate_dir\": \"/opt/ml/output/intermediate\",\n",
      "    \"channel_input_dirs\": {\n",
      "        \"training\": \"/opt/ml/input/data/training\"\n",
      "    },\n",
      "    \"output_dir\": \"/opt/ml/output\",\n",
      "    \"job_name\": \"sagemaker-pytorch-2020-12-31-18-47-35-629\",\n",
      "    \"network_interface_name\": \"eth0\",\n",
      "    \"input_config_dir\": \"/opt/ml/input/config\",\n",
      "    \"num_gpus\": 0,\n",
      "    \"input_dir\": \"/opt/ml/input\",\n",
      "    \"additional_framework_parameters\": {},\n",
      "    \"user_entry_point\": \"train.py\",\n",
      "    \"hyperparameters\": {\n",
      "        \"hidden_dim\": 200,\n",
      "        \"epochs\": 10\n",
      "    },\n",
      "    \"input_data_config\": {\n",
      "        \"training\": {\n",
      "            \"TrainingInputMode\": \"File\",\n",
      "            \"RecordWrapperType\": \"None\",\n",
      "            \"S3DistributionType\": \"FullyReplicated\"\n",
      "        }\n",
      "    },\n",
      "    \"num_cpus\": 4,\n",
      "    \"framework_module\": \"sagemaker_pytorch_container.training:main\",\n",
      "    \"current_host\": \"algo-1\"\u001b[0m\n",
      "\u001b[34m}\n",
      "\u001b[0m\n",
      "\u001b[34mEnvironment variables:\n",
      "\u001b[0m\n",
      "\u001b[34mPYTHONPATH=/usr/local/bin:/usr/lib/python35.zip:/usr/lib/python3.5:/usr/lib/python3.5/plat-x86_64-linux-gnu:/usr/lib/python3.5/lib-dynload:/usr/local/lib/python3.5/dist-packages:/usr/lib/python3/dist-packages\u001b[0m\n",
      "\u001b[34mSM_USER_ARGS=[\"--epochs\",\"10\",\"--hidden_dim\",\"200\"]\u001b[0m\n",
      "\u001b[34mSM_INPUT_DIR=/opt/ml/input\u001b[0m\n",
      "\u001b[34mSM_MODULE_NAME=train\u001b[0m\n",
      "\u001b[34mSM_HP_EPOCHS=10\u001b[0m\n",
      "\u001b[34mSM_HOSTS=[\"algo-1\"]\u001b[0m\n",
      "\u001b[34mSM_INPUT_CONFIG_DIR=/opt/ml/input/config\u001b[0m\n",
      "\u001b[34mSM_CHANNEL_TRAINING=/opt/ml/input/data/training\u001b[0m\n",
      "\u001b[34mSM_OUTPUT_DATA_DIR=/opt/ml/output/data\u001b[0m\n",
      "\u001b[34mSM_OUTPUT_INTERMEDIATE_DIR=/opt/ml/output/intermediate\u001b[0m\n",
      "\u001b[34mSM_CHANNELS=[\"training\"]\u001b[0m\n",
      "\u001b[34mSM_MODULE_DIR=s3://sagemaker-us-east-1-094726678601/sagemaker-pytorch-2020-12-31-18-47-35-629/source/sourcedir.tar.gz\u001b[0m\n",
      "\u001b[34mSM_FRAMEWORK_MODULE=sagemaker_pytorch_container.training:main\u001b[0m\n",
      "\u001b[34mSM_LOG_LEVEL=20\u001b[0m\n",
      "\u001b[34mSM_FRAMEWORK_PARAMS={}\u001b[0m\n",
      "\u001b[34mSM_RESOURCE_CONFIG={\"current_host\":\"algo-1\",\"hosts\":[\"algo-1\"],\"network_interface_name\":\"eth0\"}\u001b[0m\n",
      "\u001b[34mSM_MODEL_DIR=/opt/ml/model\u001b[0m\n",
      "\u001b[34mSM_HPS={\"epochs\":10,\"hidden_dim\":200}\u001b[0m\n",
      "\u001b[34mSM_TRAINING_ENV={\"additional_framework_parameters\":{},\"channel_input_dirs\":{\"training\":\"/opt/ml/input/data/training\"},\"current_host\":\"algo-1\",\"framework_module\":\"sagemaker_pytorch_container.training:main\",\"hosts\":[\"algo-1\"],\"hyperparameters\":{\"epochs\":10,\"hidden_dim\":200},\"input_config_dir\":\"/opt/ml/input/config\",\"input_data_config\":{\"training\":{\"RecordWrapperType\":\"None\",\"S3DistributionType\":\"FullyReplicated\",\"TrainingInputMode\":\"File\"}},\"input_dir\":\"/opt/ml/input\",\"job_name\":\"sagemaker-pytorch-2020-12-31-18-47-35-629\",\"log_level\":20,\"model_dir\":\"/opt/ml/model\",\"module_dir\":\"s3://sagemaker-us-east-1-094726678601/sagemaker-pytorch-2020-12-31-18-47-35-629/source/sourcedir.tar.gz\",\"module_name\":\"train\",\"network_interface_name\":\"eth0\",\"num_cpus\":4,\"num_gpus\":0,\"output_data_dir\":\"/opt/ml/output/data\",\"output_dir\":\"/opt/ml/output\",\"output_intermediate_dir\":\"/opt/ml/output/intermediate\",\"resource_config\":{\"current_host\":\"algo-1\",\"hosts\":[\"algo-1\"],\"network_interface_name\":\"eth0\"},\"user_entry_point\":\"train.py\"}\u001b[0m\n",
      "\u001b[34mSM_NUM_CPUS=4\u001b[0m\n",
      "\u001b[34mSM_USER_ENTRY_POINT=train.py\u001b[0m\n",
      "\u001b[34mSM_NUM_GPUS=0\u001b[0m\n",
      "\u001b[34mSM_NETWORK_INTERFACE_NAME=eth0\u001b[0m\n",
      "\u001b[34mSM_HP_HIDDEN_DIM=200\u001b[0m\n",
      "\u001b[34mSM_OUTPUT_DIR=/opt/ml/output\u001b[0m\n",
      "\u001b[34mSM_INPUT_DATA_CONFIG={\"training\":{\"RecordWrapperType\":\"None\",\"S3DistributionType\":\"FullyReplicated\",\"TrainingInputMode\":\"File\"}}\u001b[0m\n",
      "\u001b[34mSM_CURRENT_HOST=algo-1\n",
      "\u001b[0m\n",
      "\u001b[34mInvoking script with the following command:\n",
      "\u001b[0m\n",
      "\u001b[34m/usr/bin/python -m train --epochs 10 --hidden_dim 200\n",
      "\n",
      "\u001b[0m\n",
      "\u001b[34mUsing device cpu.\u001b[0m\n",
      "\u001b[34mGet train data loader.\u001b[0m\n",
      "\u001b[34mModel loaded with embedding_dim 32, hidden_dim 200, vocab_size 5000.\u001b[0m\n",
      "\u001b[34mEpoch: 1, BCELoss: 0.6701400486790404\u001b[0m\n",
      "\u001b[34mEpoch: 2, BCELoss: 0.6271753298993014\u001b[0m\n",
      "\u001b[34mEpoch: 3, BCELoss: 0.5209828335411695\u001b[0m\n",
      "\u001b[34mEpoch: 4, BCELoss: 0.44709400437316116\u001b[0m\n",
      "\u001b[34mEpoch: 5, BCELoss: 0.38585890859973676\u001b[0m\n",
      "\u001b[34mEpoch: 6, BCELoss: 0.3417540697418914\u001b[0m\n",
      "\u001b[34mEpoch: 7, BCELoss: 0.31849486730536636\u001b[0m\n",
      "\u001b[34mEpoch: 8, BCELoss: 0.29855260526647376\u001b[0m\n",
      "\u001b[34mEpoch: 9, BCELoss: 0.2903055290178377\u001b[0m\n",
      "\u001b[34mEpoch: 10, BCELoss: 0.2720164644474886\u001b[0m\n",
      "\u001b[34m2020-12-31 20:46:41,810 sagemaker-containers INFO     Reporting training SUCCESS\u001b[0m\n",
      "\n",
      "2020-12-31 20:47:13 Uploading - Uploading generated training model\n",
      "2020-12-31 20:47:13 Completed - Training job completed\n",
      "ProfilerReport-1609440455: NoIssuesFound\n",
      "Training seconds: 7016\n",
      "Billable seconds: 7016\n"
     ]
    }
   ],
   "source": [
    "estimator.fit({'training': input_data})"
   ]
  },
  {
   "cell_type": "markdown",
   "metadata": {},
   "source": [
    "## Step 5: Testing the model\n",
    "\n",
    "As mentioned at the top of this notebook, we will be testing this model by first deploying it and then sending the testing data to the deployed endpoint. We will do this so that we can make sure that the deployed model is working correctly.\n",
    "\n",
    "## Step 6: Deploy the model for testing\n",
    "\n",
    "Now that we have trained our model, we would like to test it to see how it performs. Currently our model takes input of the form `review_length, review[500]` where `review[500]` is a sequence of `500` integers which describe the words present in the review, encoded using `word_dict`. Fortunately for us, SageMaker provides built-in inference code for models with simple inputs such as this.\n",
    "\n",
    "There is one thing that we need to provide, however, and that is a function which loads the saved model. This function must be called `model_fn()` and takes as its only parameter a path to the directory where the model artifacts are stored. This function must also be present in the python file which we specified as the entry point. In our case the model loading function has been provided and so no changes need to be made.\n",
    "\n",
    "**NOTE**: When the built-in inference code is run it must import the `model_fn()` method from the `train.py` file. This is why the training code is wrapped in a main guard ( ie, `if __name__ == '__main__':` )\n",
    "\n",
    "Since we don't need to change anything in the code that was uploaded during training, we can simply deploy the current model as-is.\n",
    "\n",
    "**NOTE:** When deploying a model you are asking SageMaker to launch an compute instance that will wait for data to be sent to it. As a result, this compute instance will continue to run until *you* shut it down. This is important to know since the cost of a deployed endpoint depends on how long it has been running for.\n",
    "\n",
    "In other words **If you are no longer using a deployed endpoint, shut it down!**\n",
    "\n",
    "**TODO:** Deploy the trained model."
   ]
  },
  {
   "cell_type": "code",
   "execution_count": 29,
   "metadata": {},
   "outputs": [
    {
     "name": "stdout",
     "output_type": "stream",
     "text": [
      "---------------!"
     ]
    }
   ],
   "source": [
    "# TODO: Deploy the trained model\n",
    "predictor = estimator.deploy(initial_instance_count = 1, instance_type = 'ml.m4.xlarge')"
   ]
  },
  {
   "cell_type": "markdown",
   "metadata": {},
   "source": [
    "## Step 7 - Use the model for testing\n",
    "\n",
    "Once deployed, we can read in the test data and send it off to our deployed model to get some results. Once we collect all of the results we can determine how accurate our model is."
   ]
  },
  {
   "cell_type": "code",
   "execution_count": 30,
   "metadata": {},
   "outputs": [],
   "source": [
    "test_X = pd.concat([pd.DataFrame(test_X_len), pd.DataFrame(test_X)], axis=1)"
   ]
  },
  {
   "cell_type": "code",
   "execution_count": 31,
   "metadata": {},
   "outputs": [],
   "source": [
    "# We split the data into chunks and send each chunk seperately, accumulating the results.\n",
    "\n",
    "def predict(data, rows=512):\n",
    "    split_array = np.array_split(data, int(data.shape[0] / float(rows) + 1))\n",
    "    predictions = np.array([])\n",
    "    for array in split_array:\n",
    "        predictions = np.append(predictions, predictor.predict(array))\n",
    "    \n",
    "    return predictions"
   ]
  },
  {
   "cell_type": "code",
   "execution_count": 32,
   "metadata": {},
   "outputs": [],
   "source": [
    "predictions = predict(test_X.values)\n",
    "predictions = [round(num) for num in predictions]"
   ]
  },
  {
   "cell_type": "code",
   "execution_count": 33,
   "metadata": {},
   "outputs": [
    {
     "data": {
      "text/plain": [
       "0.84804"
      ]
     },
     "execution_count": 33,
     "metadata": {},
     "output_type": "execute_result"
    }
   ],
   "source": [
    "from sklearn.metrics import accuracy_score\n",
    "accuracy_score(test_y, predictions)"
   ]
  },
  {
   "cell_type": "markdown",
   "metadata": {},
   "source": [
    "**Question:** How does this model compare to the XGBoost model you created earlier? Why might these two models perform differently on this dataset? Which do *you* think is better for sentiment analysis?"
   ]
  },
  {
   "cell_type": "markdown",
   "metadata": {},
   "source": [
    "**Answer:** The way of deployment is the same but this model perform well than the XGBoost. The reasons could be the way of cleaning the data. And the network used is deeper."
   ]
  },
  {
   "cell_type": "markdown",
   "metadata": {},
   "source": [
    "### (TODO) More testing\n",
    "\n",
    "We now have a trained model which has been deployed and which we can send processed reviews to and which returns the predicted sentiment. However, ultimately we would like to be able to send our model an unprocessed review. That is, we would like to send the review itself as a string. For example, suppose we wish to send the following review to our model."
   ]
  },
  {
   "cell_type": "code",
   "execution_count": 34,
   "metadata": {},
   "outputs": [],
   "source": [
    "test_review = 'The simplest pleasures in life are the best, and this film is one of them. Combining a rather basic storyline of love and adventure this movie transcends the usual weekend fair with wit and unmitigated charm.'"
   ]
  },
  {
   "cell_type": "markdown",
   "metadata": {},
   "source": [
    "The question we now need to answer is, how do we send this review to our model?\n",
    "\n",
    "Recall in the first section of this notebook we did a bunch of data processing to the IMDb dataset. In particular, we did two specific things to the provided reviews.\n",
    " - Removed any html tags and stemmed the input\n",
    " - Encoded the review as a sequence of integers using `word_dict`\n",
    " \n",
    "In order process the review we will need to repeat these two steps.\n",
    "\n",
    "**TODO**: Using the `review_to_words` and `convert_and_pad` methods from section one, convert `test_review` into a numpy array `test_data` suitable to send to our model. Remember that our model expects input of the form `review_length, review[500]`."
   ]
  },
  {
   "cell_type": "code",
   "execution_count": 35,
   "metadata": {},
   "outputs": [],
   "source": [
    "# TODO: Convert test_review into a form usable by the model and save the results in test_data\n",
    "test_data, len_test  = convert_and_pad(word_dict, review_to_words(test_review))\n",
    "test_data = np.array([np.array([len_test] + test_data)])"
   ]
  },
  {
   "cell_type": "markdown",
   "metadata": {},
   "source": [
    "Now that we have processed the review, we can send the resulting array to our model to predict the sentiment of the review."
   ]
  },
  {
   "cell_type": "code",
   "execution_count": 36,
   "metadata": {},
   "outputs": [
    {
     "data": {
      "text/plain": [
       "array(0.9016344, dtype=float32)"
      ]
     },
     "execution_count": 36,
     "metadata": {},
     "output_type": "execute_result"
    }
   ],
   "source": [
    "predictor.predict(test_data)"
   ]
  },
  {
   "cell_type": "markdown",
   "metadata": {},
   "source": [
    "Since the return value of our model is close to `1`, we can be certain that the review we submitted is positive."
   ]
  },
  {
   "cell_type": "markdown",
   "metadata": {},
   "source": [
    "### Delete the endpoint\n",
    "\n",
    "Of course, just like in the XGBoost notebook, once we've deployed an endpoint it continues to run until we tell it to shut down. Since we are done using our endpoint for now, we can delete it."
   ]
  },
  {
   "cell_type": "code",
   "execution_count": 37,
   "metadata": {},
   "outputs": [
    {
     "name": "stderr",
     "output_type": "stream",
     "text": [
      "The function delete_endpoint is a no-op in sagemaker>=2.\n",
      "See: https://sagemaker.readthedocs.io/en/stable/v2.html for details.\n"
     ]
    }
   ],
   "source": [
    "estimator.delete_endpoint()"
   ]
  },
  {
   "cell_type": "markdown",
   "metadata": {},
   "source": [
    "## Step 6 (again) - Deploy the model for the web app\n",
    "\n",
    "Now that we know that our model is working, it's time to create some custom inference code so that we can send the model a review which has not been processed and have it determine the sentiment of the review.\n",
    "\n",
    "As we saw above, by default the estimator which we created, when deployed, will use the entry script and directory which we provided when creating the model. However, since we now wish to accept a string as input and our model expects a processed review, we need to write some custom inference code.\n",
    "\n",
    "We will store the code that we write in the `serve` directory. Provided in this directory is the `model.py` file that we used to construct our model, a `utils.py` file which contains the `review_to_words` and `convert_and_pad` pre-processing functions which we used during the initial data processing, and `predict.py`, the file which will contain our custom inference code. Note also that `requirements.txt` is present which will tell SageMaker what Python libraries are required by our custom inference code.\n",
    "\n",
    "When deploying a PyTorch model in SageMaker, you are expected to provide four functions which the SageMaker inference container will use.\n",
    " - `model_fn`: This function is the same function that we used in the training script and it tells SageMaker how to load our model.\n",
    " - `input_fn`: This function receives the raw serialized input that has been sent to the model's endpoint and its job is to de-serialize and make the input available for the inference code.\n",
    " - `output_fn`: This function takes the output of the inference code and its job is to serialize this output and return it to the caller of the model's endpoint.\n",
    " - `predict_fn`: The heart of the inference script, this is where the actual prediction is done and is the function which you will need to complete.\n",
    "\n",
    "For the simple website that we are constructing during this project, the `input_fn` and `output_fn` methods are relatively straightforward. We only require being able to accept a string as input and we expect to return a single value as output. You might imagine though that in a more complex application the input or output may be image data or some other binary data which would require some effort to serialize.\n",
    "\n",
    "### (TODO) Writing inference code\n",
    "\n",
    "Before writing our custom inference code, we will begin by taking a look at the code which has been provided."
   ]
  },
  {
   "cell_type": "code",
   "execution_count": 38,
   "metadata": {},
   "outputs": [
    {
     "name": "stdout",
     "output_type": "stream",
     "text": [
      "\u001b[34mimport\u001b[39;49;00m \u001b[04m\u001b[36margparse\u001b[39;49;00m\r\n",
      "\u001b[34mimport\u001b[39;49;00m \u001b[04m\u001b[36mjson\u001b[39;49;00m\r\n",
      "\u001b[34mimport\u001b[39;49;00m \u001b[04m\u001b[36mos\u001b[39;49;00m\r\n",
      "\u001b[34mimport\u001b[39;49;00m \u001b[04m\u001b[36mpickle\u001b[39;49;00m\r\n",
      "\u001b[34mimport\u001b[39;49;00m \u001b[04m\u001b[36msys\u001b[39;49;00m\r\n",
      "\u001b[34mimport\u001b[39;49;00m \u001b[04m\u001b[36msagemaker_containers\u001b[39;49;00m\r\n",
      "\u001b[34mimport\u001b[39;49;00m \u001b[04m\u001b[36mpandas\u001b[39;49;00m \u001b[34mas\u001b[39;49;00m \u001b[04m\u001b[36mpd\u001b[39;49;00m\r\n",
      "\u001b[34mimport\u001b[39;49;00m \u001b[04m\u001b[36mnumpy\u001b[39;49;00m \u001b[34mas\u001b[39;49;00m \u001b[04m\u001b[36mnp\u001b[39;49;00m\r\n",
      "\u001b[34mimport\u001b[39;49;00m \u001b[04m\u001b[36mtorch\u001b[39;49;00m\r\n",
      "\u001b[34mimport\u001b[39;49;00m \u001b[04m\u001b[36mtorch\u001b[39;49;00m\u001b[04m\u001b[36m.\u001b[39;49;00m\u001b[04m\u001b[36mnn\u001b[39;49;00m \u001b[34mas\u001b[39;49;00m \u001b[04m\u001b[36mnn\u001b[39;49;00m\r\n",
      "\u001b[34mimport\u001b[39;49;00m \u001b[04m\u001b[36mtorch\u001b[39;49;00m\u001b[04m\u001b[36m.\u001b[39;49;00m\u001b[04m\u001b[36moptim\u001b[39;49;00m \u001b[34mas\u001b[39;49;00m \u001b[04m\u001b[36moptim\u001b[39;49;00m\r\n",
      "\u001b[34mimport\u001b[39;49;00m \u001b[04m\u001b[36mtorch\u001b[39;49;00m\u001b[04m\u001b[36m.\u001b[39;49;00m\u001b[04m\u001b[36mutils\u001b[39;49;00m\u001b[04m\u001b[36m.\u001b[39;49;00m\u001b[04m\u001b[36mdata\u001b[39;49;00m\r\n",
      "\r\n",
      "\u001b[34mfrom\u001b[39;49;00m \u001b[04m\u001b[36mmodel\u001b[39;49;00m \u001b[34mimport\u001b[39;49;00m LSTMClassifier\r\n",
      "\r\n",
      "\u001b[34mfrom\u001b[39;49;00m \u001b[04m\u001b[36mutils\u001b[39;49;00m \u001b[34mimport\u001b[39;49;00m review_to_words, convert_and_pad\r\n",
      "\r\n",
      "\u001b[34mdef\u001b[39;49;00m \u001b[32mmodel_fn\u001b[39;49;00m(model_dir):\r\n",
      "    \u001b[33m\"\"\"Load the PyTorch model from the `model_dir` directory.\"\"\"\u001b[39;49;00m\r\n",
      "    \u001b[36mprint\u001b[39;49;00m(\u001b[33m\"\u001b[39;49;00m\u001b[33mLoading model.\u001b[39;49;00m\u001b[33m\"\u001b[39;49;00m)\r\n",
      "\r\n",
      "    \u001b[37m# First, load the parameters used to create the model.\u001b[39;49;00m\r\n",
      "    model_info = {}\r\n",
      "    model_info_path = os.path.join(model_dir, \u001b[33m'\u001b[39;49;00m\u001b[33mmodel_info.pth\u001b[39;49;00m\u001b[33m'\u001b[39;49;00m)\r\n",
      "    \u001b[34mwith\u001b[39;49;00m \u001b[36mopen\u001b[39;49;00m(model_info_path, \u001b[33m'\u001b[39;49;00m\u001b[33mrb\u001b[39;49;00m\u001b[33m'\u001b[39;49;00m) \u001b[34mas\u001b[39;49;00m f:\r\n",
      "        model_info = torch.load(f)\r\n",
      "\r\n",
      "    \u001b[36mprint\u001b[39;49;00m(\u001b[33m\"\u001b[39;49;00m\u001b[33mmodel_info: \u001b[39;49;00m\u001b[33m{}\u001b[39;49;00m\u001b[33m\"\u001b[39;49;00m.format(model_info))\r\n",
      "\r\n",
      "    \u001b[37m# Determine the device and construct the model.\u001b[39;49;00m\r\n",
      "    device = torch.device(\u001b[33m\"\u001b[39;49;00m\u001b[33mcuda\u001b[39;49;00m\u001b[33m\"\u001b[39;49;00m \u001b[34mif\u001b[39;49;00m torch.cuda.is_available() \u001b[34melse\u001b[39;49;00m \u001b[33m\"\u001b[39;49;00m\u001b[33mcpu\u001b[39;49;00m\u001b[33m\"\u001b[39;49;00m)\r\n",
      "    model = LSTMClassifier(model_info[\u001b[33m'\u001b[39;49;00m\u001b[33membedding_dim\u001b[39;49;00m\u001b[33m'\u001b[39;49;00m], model_info[\u001b[33m'\u001b[39;49;00m\u001b[33mhidden_dim\u001b[39;49;00m\u001b[33m'\u001b[39;49;00m], model_info[\u001b[33m'\u001b[39;49;00m\u001b[33mvocab_size\u001b[39;49;00m\u001b[33m'\u001b[39;49;00m])\r\n",
      "\r\n",
      "    \u001b[37m# Load the store model parameters.\u001b[39;49;00m\r\n",
      "    model_path = os.path.join(model_dir, \u001b[33m'\u001b[39;49;00m\u001b[33mmodel.pth\u001b[39;49;00m\u001b[33m'\u001b[39;49;00m)\r\n",
      "    \u001b[34mwith\u001b[39;49;00m \u001b[36mopen\u001b[39;49;00m(model_path, \u001b[33m'\u001b[39;49;00m\u001b[33mrb\u001b[39;49;00m\u001b[33m'\u001b[39;49;00m) \u001b[34mas\u001b[39;49;00m f:\r\n",
      "        model.load_state_dict(torch.load(f))\r\n",
      "\r\n",
      "    \u001b[37m# Load the saved word_dict.\u001b[39;49;00m\r\n",
      "    word_dict_path = os.path.join(model_dir, \u001b[33m'\u001b[39;49;00m\u001b[33mword_dict.pkl\u001b[39;49;00m\u001b[33m'\u001b[39;49;00m)\r\n",
      "    \u001b[34mwith\u001b[39;49;00m \u001b[36mopen\u001b[39;49;00m(word_dict_path, \u001b[33m'\u001b[39;49;00m\u001b[33mrb\u001b[39;49;00m\u001b[33m'\u001b[39;49;00m) \u001b[34mas\u001b[39;49;00m f:\r\n",
      "        model.word_dict = pickle.load(f)\r\n",
      "\r\n",
      "    model.to(device).eval()\r\n",
      "\r\n",
      "    \u001b[36mprint\u001b[39;49;00m(\u001b[33m\"\u001b[39;49;00m\u001b[33mDone loading model.\u001b[39;49;00m\u001b[33m\"\u001b[39;49;00m)\r\n",
      "    \u001b[34mreturn\u001b[39;49;00m model\r\n",
      "\r\n",
      "\u001b[34mdef\u001b[39;49;00m \u001b[32minput_fn\u001b[39;49;00m(serialized_input_data, content_type):\r\n",
      "    \u001b[36mprint\u001b[39;49;00m(\u001b[33m'\u001b[39;49;00m\u001b[33mDeserializing the input data.\u001b[39;49;00m\u001b[33m'\u001b[39;49;00m)\r\n",
      "    \u001b[34mif\u001b[39;49;00m content_type == \u001b[33m'\u001b[39;49;00m\u001b[33mtext/plain\u001b[39;49;00m\u001b[33m'\u001b[39;49;00m:\r\n",
      "        data = serialized_input_data.decode(\u001b[33m'\u001b[39;49;00m\u001b[33mutf-8\u001b[39;49;00m\u001b[33m'\u001b[39;49;00m)\r\n",
      "        \u001b[34mreturn\u001b[39;49;00m data\r\n",
      "    \u001b[34mraise\u001b[39;49;00m \u001b[36mException\u001b[39;49;00m(\u001b[33m'\u001b[39;49;00m\u001b[33mRequested unsupported ContentType in content_type: \u001b[39;49;00m\u001b[33m'\u001b[39;49;00m + content_type)\r\n",
      "\r\n",
      "\u001b[34mdef\u001b[39;49;00m \u001b[32moutput_fn\u001b[39;49;00m(prediction_output, accept):\r\n",
      "    \u001b[36mprint\u001b[39;49;00m(\u001b[33m'\u001b[39;49;00m\u001b[33mSerializing the generated output.\u001b[39;49;00m\u001b[33m'\u001b[39;49;00m)\r\n",
      "    \u001b[34mreturn\u001b[39;49;00m \u001b[36mstr\u001b[39;49;00m(prediction_output)\r\n",
      "\r\n",
      "\u001b[34mdef\u001b[39;49;00m \u001b[32mpredict_fn\u001b[39;49;00m(input_data, model):\r\n",
      "    \u001b[36mprint\u001b[39;49;00m(\u001b[33m'\u001b[39;49;00m\u001b[33mInferring sentiment of input data.\u001b[39;49;00m\u001b[33m'\u001b[39;49;00m)\r\n",
      "\r\n",
      "    device = torch.device(\u001b[33m\"\u001b[39;49;00m\u001b[33mcuda\u001b[39;49;00m\u001b[33m\"\u001b[39;49;00m \u001b[34mif\u001b[39;49;00m torch.cuda.is_available() \u001b[34melse\u001b[39;49;00m \u001b[33m\"\u001b[39;49;00m\u001b[33mcpu\u001b[39;49;00m\u001b[33m\"\u001b[39;49;00m)\r\n",
      "    \r\n",
      "    \u001b[34mif\u001b[39;49;00m model.word_dict \u001b[35mis\u001b[39;49;00m \u001b[34mNone\u001b[39;49;00m:\r\n",
      "        \u001b[34mraise\u001b[39;49;00m \u001b[36mException\u001b[39;49;00m(\u001b[33m'\u001b[39;49;00m\u001b[33mModel has not been loaded properly, no word_dict.\u001b[39;49;00m\u001b[33m'\u001b[39;49;00m)\r\n",
      "    \r\n",
      "    \u001b[37m# TODO: Process input_data so that it is ready to be sent to our model.\u001b[39;49;00m\r\n",
      "    \u001b[37m#       You should produce two variables:\u001b[39;49;00m\r\n",
      "    \u001b[37m#         data_X   - A sequence of length 500 which represents the converted review\u001b[39;49;00m\r\n",
      "    \u001b[37m#         data_len - The length of the review\u001b[39;49;00m\r\n",
      "    \r\n",
      "    tokens = review_to_words(input_data)\r\n",
      "    data_X, data_len = convert_and_pad(model.word_dict, tokens)\r\n",
      "\r\n",
      "    \u001b[37m# Using data_X and data_len we construct an appropriate input tensor. Remember\u001b[39;49;00m\r\n",
      "    \u001b[37m# that our model expects input data of the form 'len, review[500]'.\u001b[39;49;00m\r\n",
      "    data_pack = np.hstack((data_len, data_X))\r\n",
      "    data_pack = data_pack.reshape(\u001b[34m1\u001b[39;49;00m, -\u001b[34m1\u001b[39;49;00m)\r\n",
      "    \r\n",
      "    data = torch.from_numpy(data_pack)\r\n",
      "    data = data.to(device)\r\n",
      "\r\n",
      "    \u001b[37m# Make sure to put the model into evaluation mode\u001b[39;49;00m\r\n",
      "    model.eval()\r\n",
      "\r\n",
      "    \u001b[34mwith\u001b[39;49;00m torch.no_grad():\r\n",
      "        \r\n",
      "        \u001b[37m# I am returning a probability of the prediction instead of rounding up to show a probability progress bar in the my web app\u001b[39;49;00m\r\n",
      "        result = model(data).detach().numpy()\r\n",
      "        \r\n",
      "        \u001b[36mprint\u001b[39;49;00m(result)\r\n",
      "\r\n",
      "        \u001b[34mreturn\u001b[39;49;00m result\r\n"
     ]
    }
   ],
   "source": [
    "!pygmentize serve/predict.py"
   ]
  },
  {
   "cell_type": "markdown",
   "metadata": {},
   "source": [
    "As mentioned earlier, the `model_fn` method is the same as the one provided in the training code and the `input_fn` and `output_fn` methods are very simple and your task will be to complete the `predict_fn` method. Make sure that you save the completed file as `predict.py` in the `serve` directory.\n",
    "\n",
    "**TODO**: Complete the `predict_fn()` method in the `serve/predict.py` file."
   ]
  },
  {
   "cell_type": "markdown",
   "metadata": {},
   "source": [
    "### Deploying the model\n",
    "\n",
    "Now that the custom inference code has been written, we will create and deploy our model. To begin with, we need to construct a new PyTorchModel object which points to the model artifacts created during training and also points to the inference code that we wish to use. Then we can call the deploy method to launch the deployment container.\n",
    "\n",
    "**NOTE**: The default behaviour for a deployed PyTorch model is to assume that any input passed to the predictor is a `numpy` array. In our case we want to send a string so we need to construct a simple wrapper around the `RealTimePredictor` class to accomodate simple strings. In a more complicated situation you may want to provide a serialization object, for example if you wanted to sent image data."
   ]
  },
  {
   "cell_type": "code",
   "execution_count": 39,
   "metadata": {},
   "outputs": [
    {
     "name": "stdout",
     "output_type": "stream",
     "text": [
      "-----------------!"
     ]
    },
    {
     "name": "stderr",
     "output_type": "stream",
     "text": [
      "The class RealTimePredictor has been renamed in sagemaker>=2.\n",
      "See: https://sagemaker.readthedocs.io/en/stable/v2.html for details.\n",
      "content_type is a no-op in sagemaker>=2.\n",
      "See: https://sagemaker.readthedocs.io/en/stable/v2.html for details.\n"
     ]
    }
   ],
   "source": [
    "from sagemaker.predictor import RealTimePredictor\n",
    "from sagemaker.pytorch import PyTorchModel\n",
    "\n",
    "class StringPredictor(RealTimePredictor):\n",
    "    def __init__(self, endpoint_name, sagemaker_session):\n",
    "        super(StringPredictor, self).__init__(endpoint_name, sagemaker_session, content_type='text/plain')\n",
    "\n",
    "model = PyTorchModel(model_data=estimator.model_data,\n",
    "                     role = role,\n",
    "                     framework_version='0.4.0',\n",
    "                     py_version=\"py3\",\n",
    "                     entry_point='predict.py',\n",
    "                     source_dir='serve',\n",
    "                     predictor_cls=StringPredictor)\n",
    "predictor = model.deploy(initial_instance_count=1, instance_type='ml.m4.xlarge')"
   ]
  },
  {
   "cell_type": "markdown",
   "metadata": {},
   "source": [
    "### Testing the model\n",
    "\n",
    "Now that we have deployed our model with the custom inference code, we should test to see if everything is working. Here we test our model by loading the first `250` positive and negative reviews and send them to the endpoint, then collect the results. The reason for only sending some of the data is that the amount of time it takes for our model to process the input and then perform inference is quite long and so testing the entire data set would be prohibitive."
   ]
  },
  {
   "cell_type": "code",
   "execution_count": 45,
   "metadata": {},
   "outputs": [],
   "source": [
    "import glob\n",
    "\n",
    "def test_reviews(data_dir='../data/aclImdb', stop=250):\n",
    "    \n",
    "    results = []\n",
    "    ground = []\n",
    "    \n",
    "    # We make sure to test both positive and negative reviews    \n",
    "    for sentiment in ['pos', 'neg']:\n",
    "        \n",
    "        path = os.path.join(data_dir, 'test', sentiment, '*.txt')\n",
    "        files = glob.glob(path)\n",
    "        \n",
    "        files_read = 0\n",
    "        \n",
    "        print('Starting ', sentiment, ' files')\n",
    "        \n",
    "        # Iterate through the files and send them to the predictor\n",
    "        for f in files:\n",
    "            with open(f) as review:\n",
    "                # First, we store the ground truth (was the review positive or negative)\n",
    "                if sentiment == 'pos':\n",
    "                    ground.append(1)\n",
    "                else:\n",
    "                    ground.append(0)\n",
    "                # Read in the review and convert to 'utf-8' for transmission via HTTP\n",
    "                review_input = review.read().encode('utf-8')\n",
    "                # Send the review to the predictor and store the results\n",
    "                rlt = predictor.predict(review_input)\n",
    "                rtn = 1 if(b'1.0' == rlt) else 0\n",
    "                results.append(rtn)\n",
    "                \n",
    "            # Sending reviews to our endpoint one at a time takes a while so we\n",
    "            # only send a small number of reviews\n",
    "            files_read += 1\n",
    "            if files_read == stop:\n",
    "                break\n",
    "            \n",
    "    return ground, results"
   ]
  },
  {
   "cell_type": "code",
   "execution_count": 43,
   "metadata": {
    "scrolled": true
   },
   "outputs": [
    {
     "name": "stdout",
     "output_type": "stream",
     "text": [
      "Starting  pos  files\n"
     ]
    },
    {
     "ename": "ModelError",
     "evalue": "An error occurred (ModelError) when calling the InvokeEndpoint operation: Received server error (500) from model with message \"<!DOCTYPE HTML PUBLIC \"-//W3C//DTD HTML 3.2 Final//EN\">\n<title>500 Internal Server Error</title>\n<h1>Internal Server Error</h1>\n<p>The server encountered an internal error and was unable to complete your request.  Either the server is overloaded or there is an error in the application.</p>\n\". See https://us-east-1.console.aws.amazon.com/cloudwatch/home?region=us-east-1#logEventViewer:group=/aws/sagemaker/Endpoints/sagemaker-pytorch-2020-12-31-20-58-51-475 in account 094726678601 for more information.",
     "output_type": "error",
     "traceback": [
      "\u001b[0;31m---------------------------------------------------------------------------\u001b[0m",
      "\u001b[0;31mModelError\u001b[0m                                Traceback (most recent call last)",
      "\u001b[0;32m<ipython-input-43-27d1fd4b7c7b>\u001b[0m in \u001b[0;36m<module>\u001b[0;34m\u001b[0m\n\u001b[0;32m----> 1\u001b[0;31m \u001b[0mground\u001b[0m\u001b[0;34m,\u001b[0m \u001b[0mresults\u001b[0m \u001b[0;34m=\u001b[0m \u001b[0mtest_reviews\u001b[0m\u001b[0;34m(\u001b[0m\u001b[0;34m)\u001b[0m\u001b[0;34m\u001b[0m\u001b[0;34m\u001b[0m\u001b[0m\n\u001b[0m",
      "\u001b[0;32m<ipython-input-42-ed0d70c19b62>\u001b[0m in \u001b[0;36mtest_reviews\u001b[0;34m(data_dir, stop)\u001b[0m\n\u001b[1;32m     27\u001b[0m                 \u001b[0mreview_input\u001b[0m \u001b[0;34m=\u001b[0m \u001b[0mreview\u001b[0m\u001b[0;34m.\u001b[0m\u001b[0mread\u001b[0m\u001b[0;34m(\u001b[0m\u001b[0;34m)\u001b[0m\u001b[0;34m.\u001b[0m\u001b[0mencode\u001b[0m\u001b[0;34m(\u001b[0m\u001b[0;34m'utf-8'\u001b[0m\u001b[0;34m)\u001b[0m\u001b[0;34m\u001b[0m\u001b[0;34m\u001b[0m\u001b[0m\n\u001b[1;32m     28\u001b[0m                 \u001b[0;31m# Send the review to the predictor and store the results\u001b[0m\u001b[0;34m\u001b[0m\u001b[0;34m\u001b[0m\u001b[0;34m\u001b[0m\u001b[0m\n\u001b[0;32m---> 29\u001b[0;31m                 \u001b[0mrlt\u001b[0m \u001b[0;34m=\u001b[0m \u001b[0mpredictor\u001b[0m\u001b[0;34m.\u001b[0m\u001b[0mpredict\u001b[0m\u001b[0;34m(\u001b[0m\u001b[0mreview_input\u001b[0m\u001b[0;34m)\u001b[0m\u001b[0;34m\u001b[0m\u001b[0;34m\u001b[0m\u001b[0m\n\u001b[0m\u001b[1;32m     30\u001b[0m                 \u001b[0mrtn\u001b[0m \u001b[0;34m=\u001b[0m \u001b[0;36m1\u001b[0m \u001b[0;32mif\u001b[0m\u001b[0;34m(\u001b[0m\u001b[0;34mb'1.0'\u001b[0m \u001b[0;34m==\u001b[0m \u001b[0mrlt\u001b[0m\u001b[0;34m)\u001b[0m \u001b[0;32melse\u001b[0m \u001b[0;36m0\u001b[0m\u001b[0;34m\u001b[0m\u001b[0;34m\u001b[0m\u001b[0m\n\u001b[1;32m     31\u001b[0m                 \u001b[0mresults\u001b[0m\u001b[0;34m.\u001b[0m\u001b[0mappend\u001b[0m\u001b[0;34m(\u001b[0m\u001b[0mrtn\u001b[0m\u001b[0;34m)\u001b[0m\u001b[0;34m\u001b[0m\u001b[0;34m\u001b[0m\u001b[0m\n",
      "\u001b[0;32m~/anaconda3/envs/pytorch_p36/lib/python3.6/site-packages/sagemaker/predictor.py\u001b[0m in \u001b[0;36mpredict\u001b[0;34m(self, data, initial_args, target_model, target_variant)\u001b[0m\n\u001b[1;32m    123\u001b[0m \u001b[0;34m\u001b[0m\u001b[0m\n\u001b[1;32m    124\u001b[0m         \u001b[0mrequest_args\u001b[0m \u001b[0;34m=\u001b[0m \u001b[0mself\u001b[0m\u001b[0;34m.\u001b[0m\u001b[0m_create_request_args\u001b[0m\u001b[0;34m(\u001b[0m\u001b[0mdata\u001b[0m\u001b[0;34m,\u001b[0m \u001b[0minitial_args\u001b[0m\u001b[0;34m,\u001b[0m \u001b[0mtarget_model\u001b[0m\u001b[0;34m,\u001b[0m \u001b[0mtarget_variant\u001b[0m\u001b[0;34m)\u001b[0m\u001b[0;34m\u001b[0m\u001b[0;34m\u001b[0m\u001b[0m\n\u001b[0;32m--> 125\u001b[0;31m         \u001b[0mresponse\u001b[0m \u001b[0;34m=\u001b[0m \u001b[0mself\u001b[0m\u001b[0;34m.\u001b[0m\u001b[0msagemaker_session\u001b[0m\u001b[0;34m.\u001b[0m\u001b[0msagemaker_runtime_client\u001b[0m\u001b[0;34m.\u001b[0m\u001b[0minvoke_endpoint\u001b[0m\u001b[0;34m(\u001b[0m\u001b[0;34m**\u001b[0m\u001b[0mrequest_args\u001b[0m\u001b[0;34m)\u001b[0m\u001b[0;34m\u001b[0m\u001b[0;34m\u001b[0m\u001b[0m\n\u001b[0m\u001b[1;32m    126\u001b[0m         \u001b[0;32mreturn\u001b[0m \u001b[0mself\u001b[0m\u001b[0;34m.\u001b[0m\u001b[0m_handle_response\u001b[0m\u001b[0;34m(\u001b[0m\u001b[0mresponse\u001b[0m\u001b[0;34m)\u001b[0m\u001b[0;34m\u001b[0m\u001b[0;34m\u001b[0m\u001b[0m\n\u001b[1;32m    127\u001b[0m \u001b[0;34m\u001b[0m\u001b[0m\n",
      "\u001b[0;32m~/anaconda3/envs/pytorch_p36/lib/python3.6/site-packages/botocore/client.py\u001b[0m in \u001b[0;36m_api_call\u001b[0;34m(self, *args, **kwargs)\u001b[0m\n\u001b[1;32m    355\u001b[0m                     \"%s() only accepts keyword arguments.\" % py_operation_name)\n\u001b[1;32m    356\u001b[0m             \u001b[0;31m# The \"self\" in this scope is referring to the BaseClient.\u001b[0m\u001b[0;34m\u001b[0m\u001b[0;34m\u001b[0m\u001b[0;34m\u001b[0m\u001b[0m\n\u001b[0;32m--> 357\u001b[0;31m             \u001b[0;32mreturn\u001b[0m \u001b[0mself\u001b[0m\u001b[0;34m.\u001b[0m\u001b[0m_make_api_call\u001b[0m\u001b[0;34m(\u001b[0m\u001b[0moperation_name\u001b[0m\u001b[0;34m,\u001b[0m \u001b[0mkwargs\u001b[0m\u001b[0;34m)\u001b[0m\u001b[0;34m\u001b[0m\u001b[0;34m\u001b[0m\u001b[0m\n\u001b[0m\u001b[1;32m    358\u001b[0m \u001b[0;34m\u001b[0m\u001b[0m\n\u001b[1;32m    359\u001b[0m         \u001b[0m_api_call\u001b[0m\u001b[0;34m.\u001b[0m\u001b[0m__name__\u001b[0m \u001b[0;34m=\u001b[0m \u001b[0mstr\u001b[0m\u001b[0;34m(\u001b[0m\u001b[0mpy_operation_name\u001b[0m\u001b[0;34m)\u001b[0m\u001b[0;34m\u001b[0m\u001b[0;34m\u001b[0m\u001b[0m\n",
      "\u001b[0;32m~/anaconda3/envs/pytorch_p36/lib/python3.6/site-packages/botocore/client.py\u001b[0m in \u001b[0;36m_make_api_call\u001b[0;34m(self, operation_name, api_params)\u001b[0m\n\u001b[1;32m    674\u001b[0m             \u001b[0merror_code\u001b[0m \u001b[0;34m=\u001b[0m \u001b[0mparsed_response\u001b[0m\u001b[0;34m.\u001b[0m\u001b[0mget\u001b[0m\u001b[0;34m(\u001b[0m\u001b[0;34m\"Error\"\u001b[0m\u001b[0;34m,\u001b[0m \u001b[0;34m{\u001b[0m\u001b[0;34m}\u001b[0m\u001b[0;34m)\u001b[0m\u001b[0;34m.\u001b[0m\u001b[0mget\u001b[0m\u001b[0;34m(\u001b[0m\u001b[0;34m\"Code\"\u001b[0m\u001b[0;34m)\u001b[0m\u001b[0;34m\u001b[0m\u001b[0;34m\u001b[0m\u001b[0m\n\u001b[1;32m    675\u001b[0m             \u001b[0merror_class\u001b[0m \u001b[0;34m=\u001b[0m \u001b[0mself\u001b[0m\u001b[0;34m.\u001b[0m\u001b[0mexceptions\u001b[0m\u001b[0;34m.\u001b[0m\u001b[0mfrom_code\u001b[0m\u001b[0;34m(\u001b[0m\u001b[0merror_code\u001b[0m\u001b[0;34m)\u001b[0m\u001b[0;34m\u001b[0m\u001b[0;34m\u001b[0m\u001b[0m\n\u001b[0;32m--> 676\u001b[0;31m             \u001b[0;32mraise\u001b[0m \u001b[0merror_class\u001b[0m\u001b[0;34m(\u001b[0m\u001b[0mparsed_response\u001b[0m\u001b[0;34m,\u001b[0m \u001b[0moperation_name\u001b[0m\u001b[0;34m)\u001b[0m\u001b[0;34m\u001b[0m\u001b[0;34m\u001b[0m\u001b[0m\n\u001b[0m\u001b[1;32m    677\u001b[0m         \u001b[0;32melse\u001b[0m\u001b[0;34m:\u001b[0m\u001b[0;34m\u001b[0m\u001b[0;34m\u001b[0m\u001b[0m\n\u001b[1;32m    678\u001b[0m             \u001b[0;32mreturn\u001b[0m \u001b[0mparsed_response\u001b[0m\u001b[0;34m\u001b[0m\u001b[0;34m\u001b[0m\u001b[0m\n",
      "\u001b[0;31mModelError\u001b[0m: An error occurred (ModelError) when calling the InvokeEndpoint operation: Received server error (500) from model with message \"<!DOCTYPE HTML PUBLIC \"-//W3C//DTD HTML 3.2 Final//EN\">\n<title>500 Internal Server Error</title>\n<h1>Internal Server Error</h1>\n<p>The server encountered an internal error and was unable to complete your request.  Either the server is overloaded or there is an error in the application.</p>\n\". See https://us-east-1.console.aws.amazon.com/cloudwatch/home?region=us-east-1#logEventViewer:group=/aws/sagemaker/Endpoints/sagemaker-pytorch-2020-12-31-20-58-51-475 in account 094726678601 for more information."
     ]
    }
   ],
   "source": [
    "ground, results = test_reviews()"
   ]
  },
  {
   "cell_type": "code",
   "execution_count": null,
   "metadata": {},
   "outputs": [],
   "source": [
    "type(ground), type(results)"
   ]
  },
  {
   "cell_type": "code",
   "execution_count": null,
   "metadata": {},
   "outputs": [],
   "source": [
    "ground[:10]"
   ]
  },
  {
   "cell_type": "markdown",
   "metadata": {},
   "source": [
    "results[:10]"
   ]
  },
  {
   "cell_type": "code",
   "execution_count": null,
   "metadata": {},
   "outputs": [],
   "source": [
    "from sklearn.metrics import accuracy_score\n",
    "accuracy_score(ground, results)"
   ]
  },
  {
   "cell_type": "markdown",
   "metadata": {},
   "source": [
    "As an additional test, we can try sending the `test_review` that we looked at earlier."
   ]
  },
  {
   "cell_type": "code",
   "execution_count": null,
   "metadata": {},
   "outputs": [],
   "source": [
    "int(float(predictor.predict(test_review)))"
   ]
  },
  {
   "cell_type": "markdown",
   "metadata": {},
   "source": [
    "Now that we know our endpoint is working as expected, we can set up the web page that will interact with it. If you don't have time to finish the project now, make sure to skip down to the end of this notebook and shut down your endpoint. You can deploy it again when you come back."
   ]
  },
  {
   "cell_type": "markdown",
   "metadata": {},
   "source": [
    "## Step 7 (again): Use the model for the web app\n",
    "\n",
    "> **TODO:** This entire section and the next contain tasks for you to complete, mostly using the AWS console.\n",
    "\n",
    "So far we have been accessing our model endpoint by constructing a predictor object which uses the endpoint and then just using the predictor object to perform inference. What if we wanted to create a web app which accessed our model? The way things are set up currently makes that not possible since in order to access a SageMaker endpoint the app would first have to authenticate with AWS using an IAM role which included access to SageMaker endpoints. However, there is an easier way! We just need to use some additional AWS services.\n",
    "\n",
    "<img src=\"Web App Diagram.svg\">\n",
    "\n",
    "The diagram above gives an overview of how the various services will work together. On the far right is the model which we trained above and which is deployed using SageMaker. On the far left is our web app that collects a user's movie review, sends it off and expects a positive or negative sentiment in return.\n",
    "\n",
    "In the middle is where some of the magic happens. We will construct a Lambda function, which you can think of as a straightforward Python function that can be executed whenever a specified event occurs. We will give this function permission to send and recieve data from a SageMaker endpoint.\n",
    "\n",
    "Lastly, the method we will use to execute the Lambda function is a new endpoint that we will create using API Gateway. This endpoint will be a url that listens for data to be sent to it. Once it gets some data it will pass that data on to the Lambda function and then return whatever the Lambda function returns. Essentially it will act as an interface that lets our web app communicate with the Lambda function.\n",
    "\n",
    "### Setting up a Lambda function\n",
    "\n",
    "The first thing we are going to do is set up a Lambda function. This Lambda function will be executed whenever our public API has data sent to it. When it is executed it will receive the data, perform any sort of processing that is required, send the data (the review) to the SageMaker endpoint we've created and then return the result.\n",
    "\n",
    "#### Part A: Create an IAM Role for the Lambda function\n",
    "\n",
    "Since we want the Lambda function to call a SageMaker endpoint, we need to make sure that it has permission to do so. To do this, we will construct a role that we can later give the Lambda function.\n",
    "\n",
    "Using the AWS Console, navigate to the **IAM** page and click on **Roles**. Then, click on **Create role**. Make sure that the **AWS service** is the type of trusted entity selected and choose **Lambda** as the service that will use this role, then click **Next: Permissions**.\n",
    "\n",
    "In the search box type `sagemaker` and select the check box next to the **AmazonSageMakerFullAccess** policy. Then, click on **Next: Review**.\n",
    "\n",
    "Lastly, give this role a name. Make sure you use a name that you will remember later on, for example `LambdaSageMakerRole`. Then, click on **Create role**.\n",
    "\n",
    "#### Part B: Create a Lambda function\n",
    "\n",
    "Now it is time to actually create the Lambda function.\n",
    "\n",
    "Using the AWS Console, navigate to the AWS Lambda page and click on **Create a function**. When you get to the next page, make sure that **Author from scratch** is selected. Now, name your Lambda function, using a name that you will remember later on, for example `sentiment_analysis_func`. Make sure that the **Python 3.6** runtime is selected and then choose the role that you created in the previous part. Then, click on **Create Function**.\n",
    "\n",
    "On the next page you will see some information about the Lambda function you've just created. If you scroll down you should see an editor in which you can write the code that will be executed when your Lambda function is triggered. In our example, we will use the code below. \n",
    "\n",
    "```python\n",
    "# We need to use the low-level library to interact with SageMaker since the SageMaker API\n",
    "# is not available natively through Lambda.\n",
    "import boto3\n",
    "\n",
    "def lambda_handler(event, context):\n",
    "\n",
    "    # The SageMaker runtime is what allows us to invoke the endpoint that we've created.\n",
    "    runtime = boto3.Session().client('sagemaker-runtime')\n",
    "\n",
    "    # Now we use the SageMaker runtime to invoke our endpoint, sending the review we were given\n",
    "    response = runtime.invoke_endpoint(EndpointName = '**ENDPOINT NAME HERE**',    # The name of the endpoint we created\n",
    "                                       ContentType = 'text/plain',                 # The data format that is expected\n",
    "                                       Body = event['body'])                       # The actual review\n",
    "\n",
    "    # The response is an HTTP response whose body contains the result of our inference\n",
    "    result = response['Body'].read().decode('utf-8')\n",
    "\n",
    "    return {\n",
    "        'statusCode' : 200,\n",
    "        'headers' : { 'Content-Type' : 'text/plain', 'Access-Control-Allow-Origin' : '*' },\n",
    "        'body' : result\n",
    "    }\n",
    "```\n",
    "\n",
    "Once you have copy and pasted the code above into the Lambda code editor, replace the `**ENDPOINT NAME HERE**` portion with the name of the endpoint that we deployed earlier. You can determine the name of the endpoint using the code cell below."
   ]
  },
  {
   "cell_type": "code",
   "execution_count": null,
   "metadata": {},
   "outputs": [],
   "source": [
    "predictor.endpoint"
   ]
  },
  {
   "cell_type": "markdown",
   "metadata": {},
   "source": [
    "Once you have added the endpoint name to the Lambda function, click on **Save**. Your Lambda function is now up and running. Next we need to create a way for our web app to execute the Lambda function.\n",
    "\n",
    "### Setting up API Gateway\n",
    "\n",
    "Now that our Lambda function is set up, it is time to create a new API using API Gateway that will trigger the Lambda function we have just created.\n",
    "\n",
    "Using AWS Console, navigate to **Amazon API Gateway** and then click on **Get started**.\n",
    "\n",
    "On the next page, make sure that **New API** is selected and give the new api a name, for example, `sentiment_analysis_api`. Then, click on **Create API**.\n",
    "\n",
    "Now we have created an API, however it doesn't currently do anything. What we want it to do is to trigger the Lambda function that we created earlier.\n",
    "\n",
    "Select the **Actions** dropdown menu and click **Create Method**. A new blank method will be created, select its dropdown menu and select **POST**, then click on the check mark beside it.\n",
    "\n",
    "For the integration point, make sure that **Lambda Function** is selected and click on the **Use Lambda Proxy integration**. This option makes sure that the data that is sent to the API is then sent directly to the Lambda function with no processing. It also means that the return value must be a proper response object as it will also not be processed by API Gateway.\n",
    "\n",
    "Type the name of the Lambda function you created earlier into the **Lambda Function** text entry box and then click on **Save**. Click on **OK** in the pop-up box that then appears, giving permission to API Gateway to invoke the Lambda function you created.\n",
    "\n",
    "The last step in creating the API Gateway is to select the **Actions** dropdown and click on **Deploy API**. You will need to create a new Deployment stage and name it anything you like, for example `prod`.\n",
    "\n",
    "You have now successfully set up a public API to access your SageMaker model. Make sure to copy or write down the URL provided to invoke your newly created public API as this will be needed in the next step. This URL can be found at the top of the page, highlighted in blue next to the text **Invoke URL**."
   ]
  },
  {
   "cell_type": "markdown",
   "metadata": {},
   "source": [
    "## Step 4: Deploying our web app\n",
    "\n",
    "Now that we have a publicly available API, we can start using it in a web app. For our purposes, we have provided a simple static html file which can make use of the public api you created earlier.\n",
    "\n",
    "In the `website` folder there should be a file called `index.html`. Download the file to your computer and open that file up in a text editor of your choice. There should be a line which contains **\\*\\*REPLACE WITH PUBLIC API URL\\*\\***. Replace this string with the url that you wrote down in the last step and then save the file.\n",
    "\n",
    "Now, if you open `index.html` on your local computer, your browser will behave as a local web server and you can use the provided site to interact with your SageMaker model.\n",
    "\n",
    "If you'd like to go further, you can host this html file anywhere you'd like, for example using github or hosting a static site on Amazon's S3. Once you have done this you can share the link with anyone you'd like and have them play with it too!\n",
    "\n",
    "> **Important Note** In order for the web app to communicate with the SageMaker endpoint, the endpoint has to actually be deployed and running. This means that you are paying for it. Make sure that the endpoint is running when you want to use the web app but that you shut it down when you don't need it, otherwise you will end up with a surprisingly large AWS bill.\n",
    "\n",
    "**TODO:** Make sure that you include the edited `index.html` file in your project submission."
   ]
  },
  {
   "cell_type": "markdown",
   "metadata": {},
   "source": [
    "Now that your web app is working, trying playing around with it and see how well it works.\n",
    "\n",
    "**Question**: Give an example of a review that you entered into your web app. What was the predicted sentiment of your example review?"
   ]
  },
  {
   "cell_type": "markdown",
   "metadata": {},
   "source": [
    "**Answer:** Errors in programming is a great way to learn how to code. Learning by making mistakes allows you to become the best version of yourself. Thanks to the mistakes made, I have just learned how to manage CORS. I think the error is an excellent teacher.\n",
    "\n",
    "Your review was POSITIVE!"
   ]
  },
  {
   "cell_type": "markdown",
   "metadata": {},
   "source": [
    "### Delete the endpoint\n",
    "\n",
    "Remember to always shut down your endpoint if you are no longer using it. You are charged for the length of time that the endpoint is running so if you forget and leave it on you could end up with an unexpectedly large bill."
   ]
  },
  {
   "cell_type": "code",
   "execution_count": null,
   "metadata": {},
   "outputs": [],
   "source": [
    "predictor.delete_endpoint()"
   ]
  },
  {
   "cell_type": "code",
   "execution_count": null,
   "metadata": {},
   "outputs": [],
   "source": [
    "!zip -r -X Project.zip . -i Project"
   ]
  }
 ],
 "metadata": {
  "kernelspec": {
   "display_name": "conda_pytorch_p36",
   "language": "python",
   "name": "conda_pytorch_p36"
  },
  "language_info": {
   "codemirror_mode": {
    "name": "ipython",
    "version": 3
   },
   "file_extension": ".py",
   "mimetype": "text/x-python",
   "name": "python",
   "nbconvert_exporter": "python",
   "pygments_lexer": "ipython3",
   "version": "3.6.10"
  }
 },
 "nbformat": 4,
 "nbformat_minor": 4
}
